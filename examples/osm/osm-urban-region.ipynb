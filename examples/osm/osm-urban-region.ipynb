{
 "cells": [
  {
   "cell_type": "code",
   "execution_count": 1,
   "metadata": {
    "collapsed": true
   },
   "outputs": [
    {
     "name": "stderr",
     "output_type": "stream",
     "text": [
      "/home/kali/anaconda3/envs/moredata-dev/lib/python3.8/site-packages/geopandas/_compat.py:111: UserWarning: The Shapely GEOS version (3.8.0-CAPI-1.13.1 ) is incompatible with the GEOS version PyGEOS was compiled with (3.10.2-CAPI-1.16.0). Conversions between both will be slow.\n",
      "  warnings.warn(\n"
     ]
    }
   ],
   "source": [
    "from moredata.datasets import get_path\n",
    "import pandas as pd\n",
    "\n",
    "df = pd.read_csv(get_path(\"airbnb-berlin-main\"))\n",
    "df = df.loc[(~df['latitude'].isna()) & (~df['longitude'].isna())]\n",
    "#df.to_json('./data/airbnb-berlin.json', orient='records')"
   ]
  },
  {
   "cell_type": "code",
   "execution_count": 2,
   "metadata": {
    "collapsed": false,
    "pycharm": {
     "name": "#%%\n"
    }
   },
   "outputs": [
    {
     "name": "stderr",
     "output_type": "stream",
     "text": [
      "/home/kali/github/more-data/moredata/enricher/osm/functional_region_connector.py:50: DtypeWarning: Columns (14,19,30,35,42,46,51,52,54,55,77,80,94,95,96,98,99,100,101,102,103,116,117,118,126,131,132,138,142,146,153,159,160,175,176,180,184,191,196,197,205,210,211,212,215,216,217,218,219,220,221,223,228,229,230,233,244,246,249,252,253,256,259,261,262,263,268,281,283,322,323,324,325,332,333,334,339,340,344,353,361,370,373,374,379,393,394,396,399,426,476,488,489) have mixed types. Specify dtype option on import or set low_memory=False.\n",
      "  _df = pd.read_csv(f)\n",
      "/home/kali/github/more-data/moredata/enricher/osm/functional_region_connector.py:110: DtypeWarning: Columns (14,19,30,35,42,46,51,52,54,55,77,80,94,95,96,98,99,100,101,102,103,116,117,118,126,131,132,138,142,146,153,159,160,175,176,180,184,191,196,197,205,210,211,212,215,216,217,218,219,220,221,223,228,229,230,233,244,246,249,252,253,256,259,261,262,263,268,281,283,322,323,324,325,332,333,334,339,340,344,353,361,370,373,374,379,393,394,396,399,426,476,488,489) have mixed types. Specify dtype option on import or set low_memory=False.\n",
      "  _df = pd.read_csv(f)\n"
     ]
    },
    {
     "name": "stdout",
     "output_type": "stream",
     "text": [
      "<class 'geopandas.geodataframe.GeoDataFrame'>\n",
      "Int64Index: 256 entries, 92 to 19683\n",
      "Columns: 531 entries, index to railway\n",
      "dtypes: float64(377), geometry(1), int64(3), object(150)\n",
      "memory usage: 1.0+ MB\n",
      "None\n",
      "18022    6\n",
      "6334     4\n",
      "4090     4\n",
      "3634     4\n",
      "6045     4\n",
      "        ..\n",
      "5900     1\n",
      "5973     1\n",
      "6053     1\n",
      "6117     1\n",
      "19683    1\n",
      "Length: 212, dtype: int64\n",
      "<class 'geopandas.geodataframe.GeoDataFrame'>\n",
      "Int64Index: 147 entries, 227 to 19500\n",
      "Columns: 532 entries, index to railway\n",
      "dtypes: float64(458), geometry(1), int64(3), object(70)\n",
      "memory usage: 612.1+ KB\n",
      "None\n",
      "244      2\n",
      "815      2\n",
      "3406     2\n",
      "17842    2\n",
      "12180    2\n",
      "        ..\n",
      "1591     1\n",
      "1575     1\n",
      "12857    1\n",
      "5965     1\n",
      "19500    1\n",
      "Length: 138, dtype: int64\n",
      "<class 'geopandas.geodataframe.GeoDataFrame'>\n",
      "Int64Index: 569 entries, 35 to 19851\n",
      "Columns: 533 entries, index to railway\n",
      "dtypes: float64(377), geometry(1), int64(3), object(152)\n",
      "memory usage: 2.3+ MB\n",
      "None\n",
      "15088    3\n",
      "15817    2\n",
      "4555     2\n",
      "16038    2\n",
      "17004    2\n",
      "        ..\n",
      "5117     1\n",
      "4916     1\n",
      "5621     1\n",
      "4818     1\n",
      "19851    1\n",
      "Length: 525, dtype: int64\n"
     ]
    },
    {
     "name": "stderr",
     "output_type": "stream",
     "text": [
      "/home/kali/github/more-data/moredata/enricher/osm/functional_region_connector.py:50: DtypeWarning: Columns (7,8,9,20,26,30,42,43,46,50,51,55,56,57,65,93,98,104,107,108,109,110,112,113,114,115,116,125,128,133,136,137,143,147,155,160,167,169,172,173,176,179,181,182,183,184,193,195,216,223,228,229,231,239,240,241,242,243,247,256,299,300,311,314,316,321,327,328,329,336,338,340,342,343,345,346,351,352,355,356,357,393,396,399,427,466,467) have mixed types. Specify dtype option on import or set low_memory=False.\n",
      "  _df = pd.read_csv(f)\n",
      "/home/kali/github/more-data/moredata/enricher/osm/functional_region_connector.py:110: DtypeWarning: Columns (7,8,9,20,26,30,42,43,46,50,51,55,56,57,65,93,98,104,107,108,109,110,112,113,114,115,116,125,128,133,136,137,143,147,155,160,167,169,172,173,176,179,181,182,183,184,193,195,216,223,228,229,231,239,240,241,242,243,247,256,299,300,311,314,316,321,327,328,329,336,338,340,342,343,345,346,351,352,355,356,357,393,396,399,427,466,467) have mixed types. Specify dtype option on import or set low_memory=False.\n",
      "  _df = pd.read_csv(f)\n"
     ]
    },
    {
     "name": "stdout",
     "output_type": "stream",
     "text": [
      "<class 'geopandas.geodataframe.GeoDataFrame'>\n",
      "Int64Index: 305 entries, 35 to 19836\n",
      "Columns: 534 entries, index to railway\n",
      "dtypes: float64(410), geometry(1), int64(3), object(120)\n",
      "memory usage: 1.2+ MB\n",
      "None\n",
      "15398    3\n",
      "6394     3\n",
      "19378    3\n",
      "10097    2\n",
      "3354     2\n",
      "        ..\n",
      "12903    1\n",
      "13120    1\n",
      "13525    1\n",
      "3888     1\n",
      "19836    1\n",
      "Length: 275, dtype: int64\n",
      "<class 'geopandas.geodataframe.GeoDataFrame'>\n",
      "Int64Index: 110 entries, 103 to 19348\n",
      "Columns: 535 entries, index to railway\n",
      "dtypes: float64(389), geometry(1), int64(3), object(142)\n",
      "memory usage: 460.6+ KB\n",
      "None\n",
      "13526    2\n",
      "8976     2\n",
      "13524    2\n",
      "13529    2\n",
      "13530    2\n",
      "        ..\n",
      "2658     1\n",
      "10500    1\n",
      "8151     1\n",
      "5727     1\n",
      "19348    1\n",
      "Length: 98, dtype: int64\n"
     ]
    },
    {
     "data": {
      "text/plain": [
       "<moredata.models.data.GeopandasData at 0x7f5116894eb0>"
      ]
     },
     "execution_count": 2,
     "metadata": {},
     "output_type": "execute_result"
    }
   ],
   "source": [
    "#Geopandas\n",
    "from moredata.utils import geodesic_point_buffer\n",
    "from moredata.datasets import get_path\n",
    "import pandas as pd\n",
    "import json\n",
    "from shapely.geometry import Polygon\n",
    "from moredata import Enricher, FunctionalRegionConnector, EnricherBuilder\n",
    "from moredata.models.data import GeopandasData\n",
    "import geopandas\n",
    "\n",
    "df = pd.read_csv(get_path(\"airbnb-berlin-main\"))\n",
    "df = df.loc[(~df['latitude'].isna()) & (~df['longitude'].isna())]\n",
    "\n",
    "#1 - tranformar o df em GeoDataframe\n",
    "gdf = geopandas.GeoDataFrame(df, geometry=geopandas.points_from_xy(df.longitude, df.latitude))\n",
    "\n",
    "#2 - aplicar set_crs no df\n",
    "gdf = gdf.set_crs(epsg=4326).to_crs(epsg=3857)\n",
    "gdf['geometry'] = gdf.geometry.buffer(50)\n",
    "\n",
    "#3 - criar um GeopandasData\n",
    "gdf = GeopandasData().from_geodataframe(gdf)\n",
    "\n",
    "region_artwork_enricher = Enricher(connector=FunctionalRegionConnector(files=['./data/places/artwork.csv.gz'],key='artwork'))\n",
    "region_gallery_enricher= Enricher(connector=FunctionalRegionConnector(files=['./data/places/gallery.csv.gz'],key='gallery'))\n",
    "region_hotel_enricher = Enricher(connector=FunctionalRegionConnector(files=['./data/places/hotel.csv.gz'],key='hotel'))\n",
    "region_information_enricher = Enricher(connector=FunctionalRegionConnector(files=['./data/places/information.csv.gz'],key='information'))\n",
    "region_museum_enricher = Enricher(connector=FunctionalRegionConnector(files=['./data/places/museum.csv.gz'],key='museum'))\n",
    "\n",
    "\n",
    "\n",
    "user_enriched = EnricherBuilder(gdf).with_enrichment(region_artwork_enricher).with_enrichment(region_gallery_enricher).with_enrichment(region_hotel_enricher).with_enrichment(region_information_enricher).with_enrichment(region_museum_enricher)\n",
    "user_enriched.get_result()"
   ]
  },
  {
   "cell_type": "code",
   "execution_count": 1,
   "metadata": {
    "collapsed": false,
    "pycharm": {
     "name": "#%%\n"
    }
   },
   "outputs": [
    {
     "name": "stderr",
     "output_type": "stream",
     "text": [
      "/home/thomas/anaconda3/envs/moredata-dev/lib/python3.8/site-packages/geopandas/_compat.py:111: UserWarning: The Shapely GEOS version (3.8.0-CAPI-1.13.1 ) is incompatible with the GEOS version PyGEOS was compiled with (3.10.2-CAPI-1.16.0). Conversions between both will be slow.\n",
      "  warnings.warn(\n"
     ]
    },
    {
     "ename": "NameError",
     "evalue": "name 'gdf' is not defined",
     "output_type": "error",
     "traceback": [
      "\u001b[0;31m---------------------------------------------------------------------------\u001b[0m",
      "\u001b[0;31mNameError\u001b[0m                                 Traceback (most recent call last)",
      "\u001b[0;32m/tmp/ipykernel_21158/2676640743.py\u001b[0m in \u001b[0;36m<module>\u001b[0;34m\u001b[0m\n\u001b[1;32m     30\u001b[0m \u001b[0;34m\u001b[0m\u001b[0m\n\u001b[1;32m     31\u001b[0m \u001b[0;34m\u001b[0m\u001b[0m\n\u001b[0;32m---> 32\u001b[0;31m \u001b[0muser_enriched2\u001b[0m \u001b[0;34m=\u001b[0m \u001b[0mEnricherBuilder\u001b[0m\u001b[0;34m(\u001b[0m\u001b[0mgdf\u001b[0m\u001b[0;34m)\u001b[0m\u001b[0;34m.\u001b[0m\u001b[0mwith_enrichment\u001b[0m\u001b[0;34m(\u001b[0m\u001b[0mregion_artwork_enricher2\u001b[0m\u001b[0;34m)\u001b[0m\u001b[0;34m.\u001b[0m\u001b[0mwith_enrichment\u001b[0m\u001b[0;34m(\u001b[0m\u001b[0mregion_gallery_enricher2\u001b[0m\u001b[0;34m)\u001b[0m\u001b[0;34m.\u001b[0m\u001b[0mwith_enrichment\u001b[0m\u001b[0;34m(\u001b[0m\u001b[0mregion_hotel_enricher2\u001b[0m\u001b[0;34m)\u001b[0m\u001b[0;34m.\u001b[0m\u001b[0mwith_enrichment\u001b[0m\u001b[0;34m(\u001b[0m\u001b[0mregion_information_enricher2\u001b[0m\u001b[0;34m)\u001b[0m\u001b[0;34m.\u001b[0m\u001b[0mwith_enrichment\u001b[0m\u001b[0;34m(\u001b[0m\u001b[0mregion_museum_enricher2\u001b[0m\u001b[0;34m)\u001b[0m\u001b[0;34m\u001b[0m\u001b[0;34m\u001b[0m\u001b[0m\n\u001b[0m\u001b[1;32m     33\u001b[0m \u001b[0muser_enriched2\u001b[0m\u001b[0;34m.\u001b[0m\u001b[0mget_result\u001b[0m\u001b[0;34m(\u001b[0m\u001b[0;34m)\u001b[0m\u001b[0;34m\u001b[0m\u001b[0;34m\u001b[0m\u001b[0m\n",
      "\u001b[0;31mNameError\u001b[0m: name 'gdf' is not defined"
     ]
    }
   ],
   "source": [
    "#Dask\n",
    "from moredata.utils import geodesic_point_buffer\n",
    "from moredata.datasets import get_path\n",
    "import pandas as pd\n",
    "import json\n",
    "from shapely.geometry import Polygon\n",
    "from moredata import Enricher, FunctionalRegionConnector, EnricherBuilder\n",
    "from moredata.models.data import GeopandasData\n",
    "import geopandas\n",
    "\n",
    "df2 = pd.read_csv(get_path(\"airbnb-berlin-main\"))\n",
    "df2 = df2.loc[(~df2['latitude'].isna()) & (~df2['longitude'].isna())]\n",
    "\n",
    "#1 - tranformar o df em GeoDataframe\n",
    "gdf2 = geopandas.GeoDataFrame(df2, geometry=geopandas.points_from_xy(df2.longitude, df2.latitude))\n",
    "\n",
    "#2 - aplicar set_crs no df\n",
    "gdf2 = gdf2.set_crs(epsg=4326).to_crs(epsg=3857)\n",
    "gdf2['geometry'] = gdf2.geometry.buffer(50)\n",
    "\n",
    "#3 - criar um GeopandasData\n",
    "gdf2 = GeopandasData().from_geodataframe(gdf2, parallel=True)\n",
    "\n",
    "region_artwork_enricher2 = Enricher(connector=FunctionalRegionConnector(files=['./data/places/artwork.csv.gz'],key='artwork'))\n",
    "region_gallery_enricher2= Enricher(connector=FunctionalRegionConnector(files=['./data/places/gallery.csv.gz'],key='gallery'))\n",
    "region_hotel_enricher2 = Enricher(connector=FunctionalRegionConnector(files=['./data/places/hotel.csv.gz'],key='hotel'))\n",
    "region_information_enricher2 = Enricher(connector=FunctionalRegionConnector(files=['./data/places/information.csv.gz'],key='information'))\n",
    "region_museum_enricher2 = Enricher(connector=FunctionalRegionConnector(files=['./data/places/museum.csv.gz'],key='museum'))\n",
    "\n",
    "\n",
    "\n",
    "user_enriched2 = EnricherBuilder(gdf2).with_enrichment(region_artwork_enricher2).with_enrichment(region_gallery_enricher2).with_enrichment(region_hotel_enricher2).with_enrichment(region_information_enricher2).with_enrichment(region_museum_enricher2)\n",
    "user_enriched2.get_result()"
   ]
  },
  {
   "cell_type": "code",
   "execution_count": 6,
   "metadata": {},
   "outputs": [
    {
     "data": {
      "text/html": [
       "<div>\n",
       "<style scoped>\n",
       "    .dataframe tbody tr th:only-of-type {\n",
       "        vertical-align: middle;\n",
       "    }\n",
       "\n",
       "    .dataframe tbody tr th {\n",
       "        vertical-align: top;\n",
       "    }\n",
       "\n",
       "    .dataframe thead th {\n",
       "        text-align: right;\n",
       "    }\n",
       "</style>\n",
       "<table border=\"1\" class=\"dataframe\">\n",
       "  <thead>\n",
       "    <tr style=\"text-align: right;\">\n",
       "      <th></th>\n",
       "      <th>latitude</th>\n",
       "      <th>longitude</th>\n",
       "      <th>artwork</th>\n",
       "      <th>gallery</th>\n",
       "      <th>hotel</th>\n",
       "      <th>information</th>\n",
       "      <th>museum</th>\n",
       "    </tr>\n",
       "  </thead>\n",
       "  <tbody>\n",
       "    <tr>\n",
       "      <th>count</th>\n",
       "      <td>19858.000000</td>\n",
       "      <td>19858.000000</td>\n",
       "      <td>19857.0</td>\n",
       "      <td>19857.0</td>\n",
       "      <td>19857.0</td>\n",
       "      <td>19857.0</td>\n",
       "      <td>19857.0</td>\n",
       "    </tr>\n",
       "    <tr>\n",
       "      <th>mean</th>\n",
       "      <td>52.507632</td>\n",
       "      <td>13.403739</td>\n",
       "      <td>1.0</td>\n",
       "      <td>1.0</td>\n",
       "      <td>1.0</td>\n",
       "      <td>1.0</td>\n",
       "      <td>1.0</td>\n",
       "    </tr>\n",
       "    <tr>\n",
       "      <th>std</th>\n",
       "      <td>0.366925</td>\n",
       "      <td>0.107804</td>\n",
       "      <td>0.0</td>\n",
       "      <td>0.0</td>\n",
       "      <td>0.0</td>\n",
       "      <td>0.0</td>\n",
       "      <td>0.0</td>\n",
       "    </tr>\n",
       "    <tr>\n",
       "      <th>min</th>\n",
       "      <td>1.000000</td>\n",
       "      <td>1.000000</td>\n",
       "      <td>1.0</td>\n",
       "      <td>1.0</td>\n",
       "      <td>1.0</td>\n",
       "      <td>1.0</td>\n",
       "      <td>1.0</td>\n",
       "    </tr>\n",
       "    <tr>\n",
       "      <th>25%</th>\n",
       "      <td>52.489850</td>\n",
       "      <td>13.367815</td>\n",
       "      <td>1.0</td>\n",
       "      <td>1.0</td>\n",
       "      <td>1.0</td>\n",
       "      <td>1.0</td>\n",
       "      <td>1.0</td>\n",
       "    </tr>\n",
       "    <tr>\n",
       "      <th>50%</th>\n",
       "      <td>52.509910</td>\n",
       "      <td>13.413860</td>\n",
       "      <td>1.0</td>\n",
       "      <td>1.0</td>\n",
       "      <td>1.0</td>\n",
       "      <td>1.0</td>\n",
       "      <td>1.0</td>\n",
       "    </tr>\n",
       "    <tr>\n",
       "      <th>75%</th>\n",
       "      <td>52.533090</td>\n",
       "      <td>13.438897</td>\n",
       "      <td>1.0</td>\n",
       "      <td>1.0</td>\n",
       "      <td>1.0</td>\n",
       "      <td>1.0</td>\n",
       "      <td>1.0</td>\n",
       "    </tr>\n",
       "    <tr>\n",
       "      <th>max</th>\n",
       "      <td>52.655980</td>\n",
       "      <td>13.757580</td>\n",
       "      <td>1.0</td>\n",
       "      <td>1.0</td>\n",
       "      <td>1.0</td>\n",
       "      <td>1.0</td>\n",
       "      <td>1.0</td>\n",
       "    </tr>\n",
       "  </tbody>\n",
       "</table>\n",
       "</div>"
      ],
      "text/plain": [
       "           latitude     longitude  artwork  gallery    hotel  information  \\\n",
       "count  19858.000000  19858.000000  19857.0  19857.0  19857.0      19857.0   \n",
       "mean      52.507632     13.403739      1.0      1.0      1.0          1.0   \n",
       "std        0.366925      0.107804      0.0      0.0      0.0          0.0   \n",
       "min        1.000000      1.000000      1.0      1.0      1.0          1.0   \n",
       "25%       52.489850     13.367815      1.0      1.0      1.0          1.0   \n",
       "50%       52.509910     13.413860      1.0      1.0      1.0          1.0   \n",
       "75%       52.533090     13.438897      1.0      1.0      1.0          1.0   \n",
       "max       52.655980     13.757580      1.0      1.0      1.0          1.0   \n",
       "\n",
       "        museum  \n",
       "count  19857.0  \n",
       "mean       1.0  \n",
       "std        0.0  \n",
       "min        1.0  \n",
       "25%        1.0  \n",
       "50%        1.0  \n",
       "75%        1.0  \n",
       "max        1.0  "
      ]
     },
     "execution_count": 6,
     "metadata": {},
     "output_type": "execute_result"
    }
   ],
   "source": [
    "data.data.describe()"
   ]
  },
  {
   "cell_type": "code",
   "execution_count": 5,
   "metadata": {
    "collapsed": false,
    "pycharm": {
     "name": "#%%\n"
    }
   },
   "outputs": [
    {
     "name": "stderr",
     "output_type": "stream",
     "text": [
      "/home/thomas/anaconda3/envs/moredata-dev/lib/python3.8/site-packages/IPython/core/interactiveshell.py:3417: DtypeWarning: Columns (4,6,7,8,9,10,11,12,13,14,15,16,17,18,19,20,21,22,23,24,25,26,27,28,29,30,31,33,34,35,36,37,38,39,40,41,42,43,44,45,46,47,48,49,50,51,52,53,54,55,56,57,58,60,61,62,63,64,65,66,67,68,69,70,71,72,73,74,75,76,77,78,80,81,83,84,85,86,87,88,89,90,91,92,93,94,95,96,97,98,99,100,101,102,103,104,105,106,107,108,109,110,111,112,113,114,115,116,117,118,119,120,121,122,123,124,125,126,127,128,129,130,131,132,133,134,135,136,137,138,139,140,141,142,143,144,145,146,147,148,150,151,152,154,155,156,157,158,159,160,161,162,163,164,165,166,168,169,170,171,172,173,174,175,176,177,179,180,181,182,183,184,185,186,187,188,189,190,191,192,193,194,195,196,197,198,199,200,201,202,203,204,205,206,207,208,209,211,212,213,214,215,216,217,218,219,220,221,222,223,224,225,226,227,229,230,231,232,233,234,235,236,237,238,239,240,241,242,243,244,245,246,247,248,249,250,251,252,253,254,255,256,257,258,259,260,261,262,263,264,265,268,269,271,272,273,274,275,276,277,278,279,280,281,282,283,284,285,286,287,288,289,290,291,292,293,294,295,296,297,298,299,300,301,302,303,304,305,306,307,308,311,312,313,315,317,318,319,320,321,322,323,324,325,326,328,329,330,331,332,333,334,335,336,337,338,339,340,341,342,343,344,345,346,347,348,349,350,351,352,353,354,355,356,357,358,360,362,363,364,365,366,367,368,369,370,371,372,373,374,375,376,377,378,380,381,382,383,384,385,386,387,388,389,390,391,392,393,394,395,397,398,399,400,401,402,403,406,407,408,410,411,412,413,414,415,416,417,418,419,420,421,422,423,424,425,426,427,428,429,430,431,433,434,435,436,437,438,439,440,441,442,443,444,445,446,447,448,449,450,451,452,453,455,457,458,459,460,461,463,465,466,467,468,469,471,473,474,475,476,477,479,480,481,482,483,484,485,486,487,488,489,490,491,492,493,494,495,496,497,498,501,502,503,504,507,508,509,510,511,512,513,514,515,516,517,518,519,521) have mixed types.Specify dtype option on import or set low_memory=False.\n",
      "  exec(code_obj, self.user_global_ns, self.user_ns)\n"
     ]
    }
   ],
   "source": [
    "import pandas as pd\n",
    "import numpy as np\n",
    "import json\n",
    "from json import JSONDecodeError\n",
    "import re\n",
    "\n",
    "tourism = pd.read_csv('./data/tourism.csv.gz', index_col=0)\n",
    "for index, x in tourism.iterrows():\n",
    "    if not type(x['tags']) is float:\n",
    "\n",
    "        j = re.sub(r'(?<=[\\w])[\\'\\\"](?=[\\w])',\"\\\\'\", x['tags']).replace('\\'', '\\\"')\n",
    "        j = re.sub(\"(\\\"[\\s\\w]*)\\\"([\\s\\w-]*\\\")\\\"\", r\"\\1\\2\", j)\n",
    "        j = re.sub(\"\\\"(\\\"[\\s\\w]*)\\\"([\\s\\w]*)\", r\"\\1\\2\", j)\n",
    "        j = re.sub(\"\\\"([\\s\\w+,]*)([\\s\\w]*\\\")\\\"\", r\"\\1\\2\", j)\n",
    "        j = re.sub(\"\\\"([\\s\\w]*)\\\"([\\s\\w]*)\\\"\", r'\"\\1\\2\"', j)\n",
    "        j = re.sub(\"\\\"([\\s\\w]*)\\\"([\\s\\w.]*)([.\\\"])\", r'\"\\1\\2\\3', j)\n",
    "        try:\n",
    "            j = json.loads(j)\n",
    "            tourism.loc[index, 'value'] = j['tourism']\n",
    "        except JSONDecodeError as e:\n",
    "            tourism.loc[index, 'value'] = np.nan"
   ]
  },
  {
   "cell_type": "code",
   "execution_count": 6,
   "metadata": {},
   "outputs": [
    {
     "data": {
      "text/plain": [
       "information     2149\n",
       "artwork         1409\n",
       "hotel            667\n",
       "museum           217\n",
       "gallery          205\n",
       "attraction       202\n",
       "viewpoint        171\n",
       "hostel           115\n",
       "guest_house      108\n",
       "picnic_site       93\n",
       "apartment         37\n",
       "zoo               35\n",
       "camp_site         13\n",
       "chalet            13\n",
       "theme_park         8\n",
       "caravan_site       8\n",
       "yes                7\n",
       "motel              5\n",
       "aquarium           2\n",
       "spa_resort         2\n",
       "highlight          1\n",
       "tower_viewer       1\n",
       "day_spa            1\n",
       "lean_to            1\n",
       "bench              1\n",
       "luggage            1\n",
       "history            1\n",
       "Name: value, dtype: int64"
      ]
     },
     "execution_count": 6,
     "metadata": {},
     "output_type": "execute_result"
    }
   ],
   "source": [
    "tourism['value'].value_counts()"
   ]
  },
  {
   "cell_type": "code",
   "execution_count": 8,
   "metadata": {
    "collapsed": false,
    "pycharm": {
     "name": "#%%\n"
    }
   },
   "outputs": [],
   "source": [
    "names = tourism['value'].value_counts()[:5].index.tolist()\n",
    "for x in names:\n",
    "    tourism.loc[tourism['value']==x].to_csv(f'./data/{x}.csv.gz', compression='gzip', index=False)"
   ]
  },
  {
   "cell_type": "code",
   "execution_count": 11,
   "metadata": {
    "collapsed": false,
    "pycharm": {
     "name": "#%%\n"
    }
   },
   "outputs": [
    {
     "name": "stderr",
     "output_type": "stream",
     "text": [
      "/home/thomas/github/more-data/moredata/enricher/osm/functional_region_connector.py:112: DtypeWarning: Columns (7,8,9,20,26,30,42,43,46,50,51,55,56,57,65,93,98,104,107,108,109,110,112,113,114,115,116,125,128,133,136,137,143,147,155,160,167,169,172,173,176,179,181,182,183,184,193,195,216,223,228,229,231,239,240,241,242,243,247,256,299,300,311,314,316,321,327,328,329,336,338,340,342,343,345,346,351,352,355,356,357,393,396,399,427,466,467) have mixed types.Specify dtype option on import or set low_memory=False.\n",
      "  self._get_polygons()\n",
      "/home/thomas/github/more-data/moredata/enricher/osm/functional_region_connector.py:112: DtypeWarning: Columns (14,19,30,35,42,46,51,52,54,55,77,80,94,95,96,98,99,100,101,102,103,116,117,118,126,131,132,138,142,146,153,159,160,175,176,180,184,191,196,197,205,210,211,212,215,216,217,218,219,220,221,223,228,229,230,233,244,246,249,252,253,256,259,261,262,263,268,281,283,322,323,324,325,332,333,334,339,340,344,353,361,370,373,374,379,393,394,396,399,426,476,488,489) have mixed types.Specify dtype option on import or set low_memory=False.\n",
      "  self._get_polygons()\n"
     ]
    }
   ],
   "source": [
    "DATA_SAVE_DIR = '/home/thomas/github/more-data/examples/osm/data/'\n",
    "## The functional region connector use the tourism.csv.gz downloaded from osm_downloader.ipynb\n",
    "import moredata\n",
    "from glob import glob\n",
    "import os\n",
    "\n",
    "places_files = glob('./data/places/*.csv.gz')\n",
    "\n",
    "data = moredata.models.GeopandasData(data_file='./data/airbnb-berlin-enriched-0.json',\n",
    "                            parser=moredata.parser.parse_document)\n",
    "for p in places_files:\n",
    "    key_name = os.path.basename(p).split('.')[0]\n",
    "    connector = moredata.enricher.osm.FunctionalRegionConnector(files=[p],\n",
    "                                                                key=key_name)\n",
    "    data_enriched = connector.enrich(data)\n",
    "    moredata.utils.write_json_generator_to_json(DATA_SAVE_DIR+key_name, data_enriched, 100000)\n",
    "    data = moredata.models.GeopandasData(data_file=DATA_SAVE_DIR+key_name+\"-0.json\",\n",
    "                            parser=moredata.parser.parse_document)"
   ]
  },
  {
   "cell_type": "code",
   "execution_count": 11,
   "metadata": {
    "collapsed": false,
    "pycharm": {
     "name": "#%%\n"
    }
   },
   "outputs": [
    {
     "ename": "ValueError",
     "evalue": "Expected object or value",
     "output_type": "error",
     "traceback": [
      "\u001b[0;31m---------------------------------------------------------------------------\u001b[0m",
      "\u001b[0;31mValueError\u001b[0m                                Traceback (most recent call last)",
      "\u001b[0;32m<ipython-input-11-d17cf4112dc8>\u001b[0m in \u001b[0;36m<module>\u001b[0;34m\u001b[0m\n\u001b[0;32m----> 1\u001b[0;31m \u001b[0mdf\u001b[0m \u001b[0;34m=\u001b[0m \u001b[0mpd\u001b[0m\u001b[0;34m.\u001b[0m\u001b[0mread_json\u001b[0m\u001b[0;34m(\u001b[0m\u001b[0mDATA_SAVE_DIR\u001b[0m\u001b[0;34m+\u001b[0m\u001b[0;34m'museum-0.json'\u001b[0m\u001b[0;34m,\u001b[0m \u001b[0morient\u001b[0m\u001b[0;34m=\u001b[0m\u001b[0;34m'records'\u001b[0m\u001b[0;34m)\u001b[0m\u001b[0;34m\u001b[0m\u001b[0;34m\u001b[0m\u001b[0m\n\u001b[0m\u001b[1;32m      2\u001b[0m \u001b[0mdf\u001b[0m\u001b[0;34m.\u001b[0m\u001b[0mhead\u001b[0m\u001b[0;34m(\u001b[0m\u001b[0;34m)\u001b[0m\u001b[0;34m\u001b[0m\u001b[0;34m\u001b[0m\u001b[0m\n",
      "\u001b[0;32m~/anaconda3/envs/moredata-dev/lib/python3.8/site-packages/pandas/util/_decorators.py\u001b[0m in \u001b[0;36mwrapper\u001b[0;34m(*args, **kwargs)\u001b[0m\n\u001b[1;32m    205\u001b[0m                 \u001b[0;32melse\u001b[0m\u001b[0;34m:\u001b[0m\u001b[0;34m\u001b[0m\u001b[0;34m\u001b[0m\u001b[0m\n\u001b[1;32m    206\u001b[0m                     \u001b[0mkwargs\u001b[0m\u001b[0;34m[\u001b[0m\u001b[0mnew_arg_name\u001b[0m\u001b[0;34m]\u001b[0m \u001b[0;34m=\u001b[0m \u001b[0mnew_arg_value\u001b[0m\u001b[0;34m\u001b[0m\u001b[0;34m\u001b[0m\u001b[0m\n\u001b[0;32m--> 207\u001b[0;31m             \u001b[0;32mreturn\u001b[0m \u001b[0mfunc\u001b[0m\u001b[0;34m(\u001b[0m\u001b[0;34m*\u001b[0m\u001b[0margs\u001b[0m\u001b[0;34m,\u001b[0m \u001b[0;34m**\u001b[0m\u001b[0mkwargs\u001b[0m\u001b[0;34m)\u001b[0m\u001b[0;34m\u001b[0m\u001b[0;34m\u001b[0m\u001b[0m\n\u001b[0m\u001b[1;32m    208\u001b[0m \u001b[0;34m\u001b[0m\u001b[0m\n\u001b[1;32m    209\u001b[0m         \u001b[0;32mreturn\u001b[0m \u001b[0mcast\u001b[0m\u001b[0;34m(\u001b[0m\u001b[0mF\u001b[0m\u001b[0;34m,\u001b[0m \u001b[0mwrapper\u001b[0m\u001b[0;34m)\u001b[0m\u001b[0;34m\u001b[0m\u001b[0;34m\u001b[0m\u001b[0m\n",
      "\u001b[0;32m~/anaconda3/envs/moredata-dev/lib/python3.8/site-packages/pandas/util/_decorators.py\u001b[0m in \u001b[0;36mwrapper\u001b[0;34m(*args, **kwargs)\u001b[0m\n\u001b[1;32m    309\u001b[0m                     \u001b[0mstacklevel\u001b[0m\u001b[0;34m=\u001b[0m\u001b[0mstacklevel\u001b[0m\u001b[0;34m,\u001b[0m\u001b[0;34m\u001b[0m\u001b[0;34m\u001b[0m\u001b[0m\n\u001b[1;32m    310\u001b[0m                 )\n\u001b[0;32m--> 311\u001b[0;31m             \u001b[0;32mreturn\u001b[0m \u001b[0mfunc\u001b[0m\u001b[0;34m(\u001b[0m\u001b[0;34m*\u001b[0m\u001b[0margs\u001b[0m\u001b[0;34m,\u001b[0m \u001b[0;34m**\u001b[0m\u001b[0mkwargs\u001b[0m\u001b[0;34m)\u001b[0m\u001b[0;34m\u001b[0m\u001b[0;34m\u001b[0m\u001b[0m\n\u001b[0m\u001b[1;32m    312\u001b[0m \u001b[0;34m\u001b[0m\u001b[0m\n\u001b[1;32m    313\u001b[0m         \u001b[0;32mreturn\u001b[0m \u001b[0mwrapper\u001b[0m\u001b[0;34m\u001b[0m\u001b[0;34m\u001b[0m\u001b[0m\n",
      "\u001b[0;32m~/anaconda3/envs/moredata-dev/lib/python3.8/site-packages/pandas/io/json/_json.py\u001b[0m in \u001b[0;36mread_json\u001b[0;34m(path_or_buf, orient, typ, dtype, convert_axes, convert_dates, keep_default_dates, numpy, precise_float, date_unit, encoding, encoding_errors, lines, chunksize, compression, nrows, storage_options)\u001b[0m\n\u001b[1;32m    612\u001b[0m \u001b[0;34m\u001b[0m\u001b[0m\n\u001b[1;32m    613\u001b[0m     \u001b[0;32mwith\u001b[0m \u001b[0mjson_reader\u001b[0m\u001b[0;34m:\u001b[0m\u001b[0;34m\u001b[0m\u001b[0;34m\u001b[0m\u001b[0m\n\u001b[0;32m--> 614\u001b[0;31m         \u001b[0;32mreturn\u001b[0m \u001b[0mjson_reader\u001b[0m\u001b[0;34m.\u001b[0m\u001b[0mread\u001b[0m\u001b[0;34m(\u001b[0m\u001b[0;34m)\u001b[0m\u001b[0;34m\u001b[0m\u001b[0;34m\u001b[0m\u001b[0m\n\u001b[0m\u001b[1;32m    615\u001b[0m \u001b[0;34m\u001b[0m\u001b[0m\n\u001b[1;32m    616\u001b[0m \u001b[0;34m\u001b[0m\u001b[0m\n",
      "\u001b[0;32m~/anaconda3/envs/moredata-dev/lib/python3.8/site-packages/pandas/io/json/_json.py\u001b[0m in \u001b[0;36mread\u001b[0;34m(self)\u001b[0m\n\u001b[1;32m    746\u001b[0m                 \u001b[0mobj\u001b[0m \u001b[0;34m=\u001b[0m \u001b[0mself\u001b[0m\u001b[0;34m.\u001b[0m\u001b[0m_get_object_parser\u001b[0m\u001b[0;34m(\u001b[0m\u001b[0mself\u001b[0m\u001b[0;34m.\u001b[0m\u001b[0m_combine_lines\u001b[0m\u001b[0;34m(\u001b[0m\u001b[0mdata_lines\u001b[0m\u001b[0;34m)\u001b[0m\u001b[0;34m)\u001b[0m\u001b[0;34m\u001b[0m\u001b[0;34m\u001b[0m\u001b[0m\n\u001b[1;32m    747\u001b[0m         \u001b[0;32melse\u001b[0m\u001b[0;34m:\u001b[0m\u001b[0;34m\u001b[0m\u001b[0;34m\u001b[0m\u001b[0m\n\u001b[0;32m--> 748\u001b[0;31m             \u001b[0mobj\u001b[0m \u001b[0;34m=\u001b[0m \u001b[0mself\u001b[0m\u001b[0;34m.\u001b[0m\u001b[0m_get_object_parser\u001b[0m\u001b[0;34m(\u001b[0m\u001b[0mself\u001b[0m\u001b[0;34m.\u001b[0m\u001b[0mdata\u001b[0m\u001b[0;34m)\u001b[0m\u001b[0;34m\u001b[0m\u001b[0;34m\u001b[0m\u001b[0m\n\u001b[0m\u001b[1;32m    749\u001b[0m         \u001b[0mself\u001b[0m\u001b[0;34m.\u001b[0m\u001b[0mclose\u001b[0m\u001b[0;34m(\u001b[0m\u001b[0;34m)\u001b[0m\u001b[0;34m\u001b[0m\u001b[0;34m\u001b[0m\u001b[0m\n\u001b[1;32m    750\u001b[0m         \u001b[0;32mreturn\u001b[0m \u001b[0mobj\u001b[0m\u001b[0;34m\u001b[0m\u001b[0;34m\u001b[0m\u001b[0m\n",
      "\u001b[0;32m~/anaconda3/envs/moredata-dev/lib/python3.8/site-packages/pandas/io/json/_json.py\u001b[0m in \u001b[0;36m_get_object_parser\u001b[0;34m(self, json)\u001b[0m\n\u001b[1;32m    768\u001b[0m         \u001b[0mobj\u001b[0m \u001b[0;34m=\u001b[0m \u001b[0;32mNone\u001b[0m\u001b[0;34m\u001b[0m\u001b[0;34m\u001b[0m\u001b[0m\n\u001b[1;32m    769\u001b[0m         \u001b[0;32mif\u001b[0m \u001b[0mtyp\u001b[0m \u001b[0;34m==\u001b[0m \u001b[0;34m\"frame\"\u001b[0m\u001b[0;34m:\u001b[0m\u001b[0;34m\u001b[0m\u001b[0;34m\u001b[0m\u001b[0m\n\u001b[0;32m--> 770\u001b[0;31m             \u001b[0mobj\u001b[0m \u001b[0;34m=\u001b[0m \u001b[0mFrameParser\u001b[0m\u001b[0;34m(\u001b[0m\u001b[0mjson\u001b[0m\u001b[0;34m,\u001b[0m \u001b[0;34m**\u001b[0m\u001b[0mkwargs\u001b[0m\u001b[0;34m)\u001b[0m\u001b[0;34m.\u001b[0m\u001b[0mparse\u001b[0m\u001b[0;34m(\u001b[0m\u001b[0;34m)\u001b[0m\u001b[0;34m\u001b[0m\u001b[0;34m\u001b[0m\u001b[0m\n\u001b[0m\u001b[1;32m    771\u001b[0m \u001b[0;34m\u001b[0m\u001b[0m\n\u001b[1;32m    772\u001b[0m         \u001b[0;32mif\u001b[0m \u001b[0mtyp\u001b[0m \u001b[0;34m==\u001b[0m \u001b[0;34m\"series\"\u001b[0m \u001b[0;32mor\u001b[0m \u001b[0mobj\u001b[0m \u001b[0;32mis\u001b[0m \u001b[0;32mNone\u001b[0m\u001b[0;34m:\u001b[0m\u001b[0;34m\u001b[0m\u001b[0;34m\u001b[0m\u001b[0m\n",
      "\u001b[0;32m~/anaconda3/envs/moredata-dev/lib/python3.8/site-packages/pandas/io/json/_json.py\u001b[0m in \u001b[0;36mparse\u001b[0;34m(self)\u001b[0m\n\u001b[1;32m    883\u001b[0m \u001b[0;34m\u001b[0m\u001b[0m\n\u001b[1;32m    884\u001b[0m         \u001b[0;32melse\u001b[0m\u001b[0;34m:\u001b[0m\u001b[0;34m\u001b[0m\u001b[0;34m\u001b[0m\u001b[0m\n\u001b[0;32m--> 885\u001b[0;31m             \u001b[0mself\u001b[0m\u001b[0;34m.\u001b[0m\u001b[0m_parse_no_numpy\u001b[0m\u001b[0;34m(\u001b[0m\u001b[0;34m)\u001b[0m\u001b[0;34m\u001b[0m\u001b[0;34m\u001b[0m\u001b[0m\n\u001b[0m\u001b[1;32m    886\u001b[0m \u001b[0;34m\u001b[0m\u001b[0m\n\u001b[1;32m    887\u001b[0m         \u001b[0;32mif\u001b[0m \u001b[0mself\u001b[0m\u001b[0;34m.\u001b[0m\u001b[0mobj\u001b[0m \u001b[0;32mis\u001b[0m \u001b[0;32mNone\u001b[0m\u001b[0;34m:\u001b[0m\u001b[0;34m\u001b[0m\u001b[0;34m\u001b[0m\u001b[0m\n",
      "\u001b[0;32m~/anaconda3/envs/moredata-dev/lib/python3.8/site-packages/pandas/io/json/_json.py\u001b[0m in \u001b[0;36m_parse_no_numpy\u001b[0;34m(self)\u001b[0m\n\u001b[1;32m   1157\u001b[0m         \u001b[0;32melse\u001b[0m\u001b[0;34m:\u001b[0m\u001b[0;34m\u001b[0m\u001b[0;34m\u001b[0m\u001b[0m\n\u001b[1;32m   1158\u001b[0m             self.obj = DataFrame(\n\u001b[0;32m-> 1159\u001b[0;31m                 \u001b[0mloads\u001b[0m\u001b[0;34m(\u001b[0m\u001b[0mjson\u001b[0m\u001b[0;34m,\u001b[0m \u001b[0mprecise_float\u001b[0m\u001b[0;34m=\u001b[0m\u001b[0mself\u001b[0m\u001b[0;34m.\u001b[0m\u001b[0mprecise_float\u001b[0m\u001b[0;34m)\u001b[0m\u001b[0;34m,\u001b[0m \u001b[0mdtype\u001b[0m\u001b[0;34m=\u001b[0m\u001b[0;32mNone\u001b[0m\u001b[0;34m\u001b[0m\u001b[0;34m\u001b[0m\u001b[0m\n\u001b[0m\u001b[1;32m   1160\u001b[0m             )\n\u001b[1;32m   1161\u001b[0m \u001b[0;34m\u001b[0m\u001b[0m\n",
      "\u001b[0;31mValueError\u001b[0m: Expected object or value"
     ]
    }
   ],
   "source": [
    "df = pd.read_json(DATA_SAVE_DIR+'museum-0.json', orient='records')\n",
    "df.head()"
   ]
  },
  {
   "cell_type": "code",
   "execution_count": 12,
   "metadata": {
    "collapsed": false,
    "pycharm": {
     "name": "#%%\n"
    }
   },
   "outputs": [
    {
     "ename": "NameError",
     "evalue": "name 'df' is not defined",
     "output_type": "error",
     "traceback": [
      "\u001b[0;31m---------------------------------------------------------------------------\u001b[0m",
      "\u001b[0;31mNameError\u001b[0m                                 Traceback (most recent call last)",
      "\u001b[0;32m<ipython-input-12-6fd3ec708721>\u001b[0m in \u001b[0;36m<module>\u001b[0;34m\u001b[0m\n\u001b[1;32m      3\u001b[0m \u001b[0;34m\u001b[0m\u001b[0m\n\u001b[1;32m      4\u001b[0m \u001b[0mnames\u001b[0m \u001b[0;34m=\u001b[0m \u001b[0;34m[\u001b[0m\u001b[0;34m'artwork'\u001b[0m\u001b[0;34m,\u001b[0m \u001b[0;34m'hotel'\u001b[0m\u001b[0;34m,\u001b[0m \u001b[0;34m'museum'\u001b[0m\u001b[0;34m,\u001b[0m \u001b[0;34m'information'\u001b[0m\u001b[0;34m,\u001b[0m \u001b[0;34m'attraction'\u001b[0m\u001b[0;34m]\u001b[0m\u001b[0;34m\u001b[0m\u001b[0;34m\u001b[0m\u001b[0m\n\u001b[0;32m----> 5\u001b[0;31m \u001b[0mplot_df\u001b[0m \u001b[0;34m=\u001b[0m \u001b[0mdf\u001b[0m\u001b[0;34m[\u001b[0m\u001b[0;34m[\u001b[0m\u001b[0;34m'price'\u001b[0m\u001b[0;34m,\u001b[0m \u001b[0;34m'artwork'\u001b[0m\u001b[0;34m,\u001b[0m \u001b[0;34m'hotel'\u001b[0m\u001b[0;34m,\u001b[0m \u001b[0;34m'museum'\u001b[0m\u001b[0;34m,\u001b[0m \u001b[0;34m'information'\u001b[0m\u001b[0;34m,\u001b[0m \u001b[0;34m'attraction'\u001b[0m\u001b[0;34m]\u001b[0m\u001b[0;34m]\u001b[0m\u001b[0;34m\u001b[0m\u001b[0;34m\u001b[0m\u001b[0m\n\u001b[0m\u001b[1;32m      6\u001b[0m \u001b[0mplot_df\u001b[0m\u001b[0;34m[\u001b[0m\u001b[0;34m'price'\u001b[0m\u001b[0;34m]\u001b[0m \u001b[0;34m=\u001b[0m \u001b[0mplot_df\u001b[0m\u001b[0;34m[\u001b[0m\u001b[0;34m'price'\u001b[0m\u001b[0;34m]\u001b[0m\u001b[0;34m.\u001b[0m\u001b[0mapply\u001b[0m\u001b[0;34m(\u001b[0m\u001b[0;32mlambda\u001b[0m \u001b[0mx\u001b[0m\u001b[0;34m:\u001b[0m \u001b[0mfloat\u001b[0m\u001b[0;34m(\u001b[0m\u001b[0mx\u001b[0m\u001b[0;34m.\u001b[0m\u001b[0mreplace\u001b[0m\u001b[0;34m(\u001b[0m\u001b[0;34m'$'\u001b[0m\u001b[0;34m,\u001b[0m \u001b[0;34m''\u001b[0m\u001b[0;34m)\u001b[0m\u001b[0;34m.\u001b[0m\u001b[0mreplace\u001b[0m\u001b[0;34m(\u001b[0m\u001b[0;34m','\u001b[0m\u001b[0;34m,\u001b[0m \u001b[0;34m''\u001b[0m\u001b[0;34m)\u001b[0m\u001b[0;34m)\u001b[0m\u001b[0;34m)\u001b[0m\u001b[0;34m\u001b[0m\u001b[0;34m\u001b[0m\u001b[0m\n\u001b[1;32m      7\u001b[0m \u001b[0;32mfor\u001b[0m \u001b[0mn\u001b[0m \u001b[0;32min\u001b[0m \u001b[0mnames\u001b[0m\u001b[0;34m:\u001b[0m\u001b[0;34m\u001b[0m\u001b[0;34m\u001b[0m\u001b[0m\n",
      "\u001b[0;31mNameError\u001b[0m: name 'df' is not defined"
     ]
    }
   ],
   "source": [
    "import matplotlib.pyplot as plt\n",
    "import seaborn as sns\n",
    "\n",
    "names = ['artwork', 'hotel', 'museum', 'information', 'attraction']\n",
    "plot_df = df[['price', 'artwork', 'hotel', 'museum', 'information', 'attraction']]\n",
    "plot_df['price'] = plot_df['price'].apply(lambda x: float(x.replace('$', '').replace(',', '')))\n",
    "for n in names:\n",
    "    sns.scatterplot(x=n, y='price', data=plot_df)\n",
    "    plt.yscale('log')\n",
    "    plt.show()"
   ]
  },
  {
   "cell_type": "code",
   "execution_count": 12,
   "metadata": {},
   "outputs": [
    {
     "name": "stderr",
     "output_type": "stream",
     "text": [
      "/tmp/ipykernel_504675/813834920.py:1: SettingWithCopyWarning: \n",
      "A value is trying to be set on a copy of a slice from a DataFrame.\n",
      "Try using .loc[row_indexer,col_indexer] = value instead\n",
      "\n",
      "See the caveats in the documentation: https://pandas.pydata.org/pandas-docs/stable/user_guide/indexing.html#returning-a-view-versus-a-copy\n",
      "  plot_df['total'] = df[['artwork', 'hotel', 'museum', 'information', 'attraction']].sum(axis=1)\n"
     ]
    }
   ],
   "source": [
    "plot_df['total'] = df[['artwork', 'hotel', 'museum', 'information', 'attraction']].sum(axis=1)"
   ]
  },
  {
   "cell_type": "code",
   "execution_count": 13,
   "metadata": {},
   "outputs": [
    {
     "data": {
      "image/png": "[encoded data removed]",
      "text/plain": [
       "<Figure size 432x288 with 1 Axes>"
      ]
     },
     "metadata": {
      "needs_background": "light"
     },
     "output_type": "display_data"
    }
   ],
   "source": [
    "sns.scatterplot(x='total', y='price', data=plot_df)\n",
    "plt.yscale('log')\n",
    "plt.show()"
   ]
  }
 ],
 "metadata": {
  "kernelspec": {
   "display_name": "Python 3.8.12 ('moredata-dev')",
   "language": "python",
   "name": "python3"
  },
  "language_info": {
   "codemirror_mode": {
    "name": "ipython",
    "version": 3
   },
   "file_extension": ".py",
   "mimetype": "text/x-python",
   "name": "python",
   "nbconvert_exporter": "python",
   "pygments_lexer": "ipython3",
   "version": "3.8.12"
  },
  "vscode": {
   "interpreter": {
    "hash": "e10c801975ca4b1d83602f980b420eb9f7bd6505ee187e07ae6e64cd86997e9b"
   }
  }
 },
 "nbformat": 4,
 "nbformat_minor": 2
}
