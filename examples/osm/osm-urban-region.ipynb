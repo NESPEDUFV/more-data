{
 "cells": [
  {
   "cell_type": "code",
   "execution_count": 1,
   "metadata": {
    "collapsed": true
   },
   "outputs": [
    {
     "name": "stderr",
     "output_type": "stream",
     "text": [
      "/home/gegen07/anaconda3/envs/moredata-dev/lib/python3.8/site-packages/IPython/core/interactiveshell.py:3251: DtypeWarning: Columns (0,22,36,41,45,46,55) have mixed types.Specify dtype option on import or set low_memory=False.\n",
      "  exec(code_obj, self.user_global_ns, self.user_ns)\n"
     ]
    }
   ],
   "source": [
    "from moredata.datasets import get_path\n",
    "import pandas as pd\n",
    "\n",
    "df = pd.read_csv(get_path(\"airbnb-berlin\"))\n",
    "df = df.loc[(~df['latitude'].isna()) & (~df['longitude'].isna())]\n",
    "df.to_json('./data/airbnb-berlin.json', orient='records')"
   ]
  },
  {
   "cell_type": "code",
   "execution_count": 2,
   "metadata": {
    "collapsed": false,
    "pycharm": {
     "name": "#%%\n"
    }
   },
   "outputs": [],
   "source": [
    "from moredata.utils import geodesic_point_buffer\n",
    "import json\n",
    "from shapely.geometry import Polygon\n",
    "\n",
    "with open('./data/airbnb-berlin.json') as f:\n",
    "    data = json.loads(f.read())\n",
    "    counter = 0\n",
    "    for d in data:\n",
    "        shp = Polygon(geodesic_point_buffer(d[\"latitude\"], d[\"longitude\"], 50)) # 0.785 km^2 of area\n",
    "        d[\"area_point\"] = shp.wkt\n",
    "    with open(\"./data/airbnb-berlin-enriched-0.json\", 'w') as outfile:\n",
    "        json.dump(data, outfile, ensure_ascii=False)"
   ]
  },
  {
   "cell_type": "code",
   "execution_count": 3,
   "metadata": {
    "collapsed": false,
    "pycharm": {
     "name": "#%%\n"
    }
   },
   "outputs": [
    {
     "name": "stderr",
     "output_type": "stream",
     "text": [
      "/home/gegen07/anaconda3/envs/moredata-dev/lib/python3.8/site-packages/IPython/core/interactiveshell.py:3251: DtypeWarning: Columns (4,6,7,8,9,10,11,12,13,14,15,16,17,18,19,20,21,22,23,24,25,26,27,28,29,30,31,33,34,35,36,37,38,39,40,41,42,43,44,45,46,47,48,49,50,51,52,53,54,55,56,57,58,60,61,62,63,64,65,66,67,68,69,70,71,72,73,74,75,76,77,78,80,81,83,84,85,86,87,88,89,90,91,92,93,94,95,96,97,98,99,100,101,102,103,104,105,106,107,108,109,110,111,112,113,114,115,116,117,118,119,120,121,122,123,124,125,126,127,128,129,130,131,132,133,134,135,136,137,138,139,140,141,142,143,144,145,146,147,149,150,151,153,154,155,156,157,158,159,160,161,162,163,164,165,167,168,169,170,171,172,173,174,175,176,177,179,180,181,182,183,184,185,186,187,188,189,190,191,192,193,194,195,196,197,198,199,200,201,202,203,204,205,206,207,208,209,211,212,213,214,215,216,217,218,219,220,221,222,223,224,225,226,227,229,230,231,232,233,234,235,236,237,238,239,240,241,242,243,244,245,246,247,248,249,250,251,252,253,254,255,256,257,258,259,260,261,262,263,264,265,266,267,270,271,273,274,275,276,277,278,279,280,281,282,283,284,285,286,287,288,289,290,291,292,293,294,295,296,297,298,299,300,301,302,303,304,305,306,307,308,309,312,313,314,316,318,319,320,321,322,323,324,325,326,327,329,330,331,332,333,334,335,336,337,338,339,340,341,342,343,344,345,346,347,348,349,350,351,352,353,354,355,356,357,358,360,362,363,364,365,366,367,368,369,370,371,372,373,374,375,376,377,379,380,381,382,383,384,385,386,387,388,389,390,391,392,393,394,395,397,398,399,400,401,402,405,406,407,409,410,411,412,413,414,415,416,417,418,419,420,421,422,423,424,425,426,427,428,429,430,432,433,434,435,436,437,438,439,440,441,442,443,444,445,446,447,448,449,450,451,453,455,456,457,458,459,461,463,464,465,466,467,469,470,472,473,474,475,476,478,479,480,481,482,483,484,485,486,487,488,489,490,491,492,493,494,495,496,497,500,501,502,503,506,507,508,509,510,511,512,513,514,515,516,517,518,520) have mixed types.Specify dtype option on import or set low_memory=False.\n",
      "  exec(code_obj, self.user_global_ns, self.user_ns)\n"
     ]
    }
   ],
   "source": [
    "import pandas as pd\n",
    "import numpy as np\n",
    "import json\n",
    "from json import JSONDecodeError\n",
    "import re\n",
    "\n",
    "tourism = pd.read_csv('./data/tourism.csv.gz', index_col=0)\n",
    "for index, x in tourism.iterrows():\n",
    "    if not type(x['tags']) is float:\n",
    "\n",
    "        j = re.sub(r'(?<=[\\w])[\\'\\\"](?=[\\w])',\"\\\\'\", x['tags']).replace('\\'', '\\\"')\n",
    "        j = re.sub(\"(\\\"[\\s\\w]*)\\\"([\\s\\w-]*\\\")\\\"\", r\"\\1\\2\", j)\n",
    "        j = re.sub(\"\\\"(\\\"[\\s\\w]*)\\\"([\\s\\w]*)\", r\"\\1\\2\", j)\n",
    "        j = re.sub(\"\\\"([\\s\\w+,]*)([\\s\\w]*\\\")\\\"\", r\"\\1\\2\", j)\n",
    "        j = re.sub(\"\\\"([\\s\\w]*)\\\"([\\s\\w]*)\\\"\", r'\"\\1\\2\"', j)\n",
    "        j = re.sub(\"\\\"([\\s\\w]*)\\\"([\\s\\w.]*)([.\\\"])\", r'\"\\1\\2\\3', j)\n",
    "        try:\n",
    "            j = json.loads(j)\n",
    "            tourism.loc[index, 'value'] = j['tourism']\n",
    "        except JSONDecodeError as e:\n",
    "            tourism.loc[index, 'value'] = np.nan"
   ]
  },
  {
   "cell_type": "code",
   "execution_count": 4,
   "metadata": {},
   "outputs": [
    {
     "data": {
      "text/plain": [
       "information     2110\n",
       "artwork         1393\n",
       "hotel            668\n",
       "museum           218\n",
       "attraction       200\n",
       "gallery          200\n",
       "viewpoint        172\n",
       "hostel           115\n",
       "guest_house      108\n",
       "picnic_site       92\n",
       "apartment         36\n",
       "zoo               34\n",
       "camp_site         13\n",
       "chalet            13\n",
       "caravan_site      10\n",
       "theme_park         8\n",
       "yes                7\n",
       "motel              5\n",
       "aquarium           2\n",
       "spa_resort         2\n",
       "highlight          1\n",
       "tower_viewer       1\n",
       "day_spa            1\n",
       "lean_to            1\n",
       "bench              1\n",
       "luggage            1\n",
       "history            1\n",
       "Name: value, dtype: int64"
      ]
     },
     "execution_count": 4,
     "metadata": {},
     "output_type": "execute_result"
    }
   ],
   "source": [
    "tourism['value'].value_counts()"
   ]
  },
  {
   "cell_type": "code",
   "execution_count": 8,
   "metadata": {
    "collapsed": false,
    "pycharm": {
     "name": "#%%\n"
    }
   },
   "outputs": [],
   "source": [
    "names = tourism['value'].value_counts()[:5].index.tolist()\n",
    "for x in names:\n",
    "    tourism.loc[tourism['value']==x].to_csv(f'./data/places/{x}.csv.gz', compression='gzip', index=False)"
   ]
  },
  {
   "cell_type": "code",
   "execution_count": 6,
   "metadata": {
    "collapsed": false,
    "pycharm": {
     "name": "#%%\n"
    }
   },
   "outputs": [],
   "source": [
    "DATA_SAVE_DIR = '/media/gegen07/0CE9-F585/germano/datasets/moredata/functionalregion/'\n",
    "## The functional region connector use the tourism.csv.gz downloaded from osm_downloader.ipynb\n",
    "import moredata\n",
    "from glob import glob\n",
    "import os\n",
    "\n",
    "places_files = glob('./data/places/*.csv.gz')\n",
    "\n",
    "data = moredata.models.Data(data_file='./data/airbnb-berlin-enriched-0.json',\n",
    "                            parser_func=moredata.parser.parse_document,\n",
    "                            data_type='json')\n",
    "\n",
    "for p in places_files:\n",
    "    key_name = os.path.basename(p).split('.')[0]\n",
    "    connector = moredata.enricher.osm.FunctionalRegionConnector(files=[p],\n",
    "                                                                key=key_name)\n",
    "    data_enriched = connector.enrich(data)\n",
    "    moredata.utils.write_json_generator_to_json(DATA_SAVE_DIR+key_name, data_enriched, 100000)\n",
    "    data = moredata.models.Data(data_file=DATA_SAVE_DIR+key_name+\"-0.json\",\n",
    "                            parser_func=moredata.parser.parse_document,\n",
    "                            data_type='json')"
   ]
  },
  {
   "cell_type": "code",
   "execution_count": 7,
   "metadata": {
    "collapsed": false,
    "pycharm": {
     "name": "#%%\n"
    }
   },
   "outputs": [
    {
     "data": {
      "text/html": [
       "<div>\n",
       "<style scoped>\n",
       "    .dataframe tbody tr th:only-of-type {\n",
       "        vertical-align: middle;\n",
       "    }\n",
       "\n",
       "    .dataframe tbody tr th {\n",
       "        vertical-align: top;\n",
       "    }\n",
       "\n",
       "    .dataframe thead th {\n",
       "        text-align: right;\n",
       "    }\n",
       "</style>\n",
       "<table border=\"1\" class=\"dataframe\">\n",
       "  <thead>\n",
       "    <tr style=\"text-align: right;\">\n",
       "      <th></th>\n",
       "      <th>id</th>\n",
       "      <th>listing_url</th>\n",
       "      <th>scrape_id</th>\n",
       "      <th>last_scraped</th>\n",
       "      <th>name</th>\n",
       "      <th>description</th>\n",
       "      <th>neighborhood_overview</th>\n",
       "      <th>picture_url</th>\n",
       "      <th>host_id</th>\n",
       "      <th>host_url</th>\n",
       "      <th>...</th>\n",
       "      <th>calculated_host_listings_count_entire_homes</th>\n",
       "      <th>calculated_host_listings_count_private_rooms</th>\n",
       "      <th>calculated_host_listings_count_shared_rooms</th>\n",
       "      <th>reviews_per_month</th>\n",
       "      <th>area_point</th>\n",
       "      <th>artwork</th>\n",
       "      <th>information</th>\n",
       "      <th>hotel</th>\n",
       "      <th>attraction</th>\n",
       "      <th>museum</th>\n",
       "    </tr>\n",
       "  </thead>\n",
       "  <tbody>\n",
       "    <tr>\n",
       "      <th>0</th>\n",
       "      <td>1944</td>\n",
       "      <td>https://www.airbnb.com/rooms/1944</td>\n",
       "      <td>2.021031e+13</td>\n",
       "      <td>2021-03-14</td>\n",
       "      <td>bright &amp; airy Pberg/Mitte 3 months or more</td>\n",
       "      <td>Private, bright and friendly room. You'd be sh...</td>\n",
       "      <td>near all the trendy cafés and flea markets and...</td>\n",
       "      <td>https://a0.muscache.com/pictures/107924758/1f4...</td>\n",
       "      <td>2164</td>\n",
       "      <td>https://www.airbnb.com/users/show/2164</td>\n",
       "      <td>...</td>\n",
       "      <td>1.0</td>\n",
       "      <td>2.0</td>\n",
       "      <td>0.0</td>\n",
       "      <td>0.20</td>\n",
       "      <td>POLYGON ((13.39822700622452 52.54424999770594,...</td>\n",
       "      <td>0</td>\n",
       "      <td>0</td>\n",
       "      <td>0</td>\n",
       "      <td>0</td>\n",
       "      <td>0</td>\n",
       "    </tr>\n",
       "    <tr>\n",
       "      <th>1</th>\n",
       "      <td>2015</td>\n",
       "      <td>https://www.airbnb.com/rooms/2015</td>\n",
       "      <td>2.021031e+13</td>\n",
       "      <td>2021-03-20</td>\n",
       "      <td>Berlin-Mitte Value! Quiet courtyard/very central</td>\n",
       "      <td>Great location!  &lt;br /&gt;30 of 75 sq meters. Thi...</td>\n",
       "      <td>It is located in the former East Berlin area o...</td>\n",
       "      <td>https://a0.muscache.com/pictures/260fd609-710a...</td>\n",
       "      <td>2217</td>\n",
       "      <td>https://www.airbnb.com/users/show/2217</td>\n",
       "      <td>...</td>\n",
       "      <td>6.0</td>\n",
       "      <td>0.0</td>\n",
       "      <td>0.0</td>\n",
       "      <td>2.24</td>\n",
       "      <td>POLYGON ((13.40329684364106 52.53453999770674,...</td>\n",
       "      <td>0</td>\n",
       "      <td>0</td>\n",
       "      <td>0</td>\n",
       "      <td>0</td>\n",
       "      <td>0</td>\n",
       "    </tr>\n",
       "    <tr>\n",
       "      <th>2</th>\n",
       "      <td>3176</td>\n",
       "      <td>https://www.airbnb.com/rooms/3176</td>\n",
       "      <td>2.021031e+13</td>\n",
       "      <td>2021-03-15</td>\n",
       "      <td>Fabulous Flat in great Location</td>\n",
       "      <td>This beautiful first floor apartment  is situa...</td>\n",
       "      <td>The neighbourhood is famous for its variety of...</td>\n",
       "      <td>https://a0.muscache.com/pictures/243355/84afcf...</td>\n",
       "      <td>3718</td>\n",
       "      <td>https://www.airbnb.com/users/show/3718</td>\n",
       "      <td>...</td>\n",
       "      <td>1.0</td>\n",
       "      <td>0.0</td>\n",
       "      <td>0.0</td>\n",
       "      <td>1.03</td>\n",
       "      <td>POLYGON ((13.41831685134116 52.5349999977067, ...</td>\n",
       "      <td>0</td>\n",
       "      <td>1</td>\n",
       "      <td>0</td>\n",
       "      <td>0</td>\n",
       "      <td>0</td>\n",
       "    </tr>\n",
       "    <tr>\n",
       "      <th>3</th>\n",
       "      <td>3309</td>\n",
       "      <td>https://www.airbnb.com/rooms/3309</td>\n",
       "      <td>2.021031e+13</td>\n",
       "      <td>2021-03-14</td>\n",
       "      <td>BerlinSpot Schöneberg near KaDeWe</td>\n",
       "      <td>First of all:&lt;br /&gt;I prefer short-notice booki...</td>\n",
       "      <td>My flat is in the middle of West-Berlin, direc...</td>\n",
       "      <td>https://a0.muscache.com/pictures/29054294/b1fa...</td>\n",
       "      <td>4108</td>\n",
       "      <td>https://www.airbnb.com/users/show/4108</td>\n",
       "      <td>...</td>\n",
       "      <td>0.0</td>\n",
       "      <td>1.0</td>\n",
       "      <td>0.0</td>\n",
       "      <td>0.29</td>\n",
       "      <td>POLYGON ((13.34979624684986 52.49884999770969,...</td>\n",
       "      <td>0</td>\n",
       "      <td>0</td>\n",
       "      <td>0</td>\n",
       "      <td>0</td>\n",
       "      <td>0</td>\n",
       "    </tr>\n",
       "    <tr>\n",
       "      <th>4</th>\n",
       "      <td>6883</td>\n",
       "      <td>https://www.airbnb.com/rooms/6883</td>\n",
       "      <td>2.021031e+13</td>\n",
       "      <td>2021-03-20</td>\n",
       "      <td>Stylish East Side Loft in Center with AC &amp; 2 b...</td>\n",
       "      <td>This apartment is available for people working...</td>\n",
       "      <td>The emerging and upcoming East of the new hip ...</td>\n",
       "      <td>https://a0.muscache.com/pictures/06b77d9b-4843...</td>\n",
       "      <td>16149</td>\n",
       "      <td>https://www.airbnb.com/users/show/16149</td>\n",
       "      <td>...</td>\n",
       "      <td>1.0</td>\n",
       "      <td>0.0</td>\n",
       "      <td>0.0</td>\n",
       "      <td>1.00</td>\n",
       "      <td>POLYGON ((13.45550646174395 52.51170999770862,...</td>\n",
       "      <td>0</td>\n",
       "      <td>0</td>\n",
       "      <td>0</td>\n",
       "      <td>0</td>\n",
       "      <td>0</td>\n",
       "    </tr>\n",
       "  </tbody>\n",
       "</table>\n",
       "<p>5 rows × 80 columns</p>\n",
       "</div>"
      ],
      "text/plain": [
       "     id                        listing_url     scrape_id last_scraped  \\\n",
       "0  1944  https://www.airbnb.com/rooms/1944  2.021031e+13   2021-03-14   \n",
       "1  2015  https://www.airbnb.com/rooms/2015  2.021031e+13   2021-03-20   \n",
       "2  3176  https://www.airbnb.com/rooms/3176  2.021031e+13   2021-03-15   \n",
       "3  3309  https://www.airbnb.com/rooms/3309  2.021031e+13   2021-03-14   \n",
       "4  6883  https://www.airbnb.com/rooms/6883  2.021031e+13   2021-03-20   \n",
       "\n",
       "                                                name  \\\n",
       "0         bright & airy Pberg/Mitte 3 months or more   \n",
       "1   Berlin-Mitte Value! Quiet courtyard/very central   \n",
       "2                    Fabulous Flat in great Location   \n",
       "3                  BerlinSpot Schöneberg near KaDeWe   \n",
       "4  Stylish East Side Loft in Center with AC & 2 b...   \n",
       "\n",
       "                                         description  \\\n",
       "0  Private, bright and friendly room. You'd be sh...   \n",
       "1  Great location!  <br />30 of 75 sq meters. Thi...   \n",
       "2  This beautiful first floor apartment  is situa...   \n",
       "3  First of all:<br />I prefer short-notice booki...   \n",
       "4  This apartment is available for people working...   \n",
       "\n",
       "                               neighborhood_overview  \\\n",
       "0  near all the trendy cafés and flea markets and...   \n",
       "1  It is located in the former East Berlin area o...   \n",
       "2  The neighbourhood is famous for its variety of...   \n",
       "3  My flat is in the middle of West-Berlin, direc...   \n",
       "4  The emerging and upcoming East of the new hip ...   \n",
       "\n",
       "                                         picture_url  host_id  \\\n",
       "0  https://a0.muscache.com/pictures/107924758/1f4...     2164   \n",
       "1  https://a0.muscache.com/pictures/260fd609-710a...     2217   \n",
       "2  https://a0.muscache.com/pictures/243355/84afcf...     3718   \n",
       "3  https://a0.muscache.com/pictures/29054294/b1fa...     4108   \n",
       "4  https://a0.muscache.com/pictures/06b77d9b-4843...    16149   \n",
       "\n",
       "                                  host_url  ...  \\\n",
       "0   https://www.airbnb.com/users/show/2164  ...   \n",
       "1   https://www.airbnb.com/users/show/2217  ...   \n",
       "2   https://www.airbnb.com/users/show/3718  ...   \n",
       "3   https://www.airbnb.com/users/show/4108  ...   \n",
       "4  https://www.airbnb.com/users/show/16149  ...   \n",
       "\n",
       "  calculated_host_listings_count_entire_homes  \\\n",
       "0                                         1.0   \n",
       "1                                         6.0   \n",
       "2                                         1.0   \n",
       "3                                         0.0   \n",
       "4                                         1.0   \n",
       "\n",
       "  calculated_host_listings_count_private_rooms  \\\n",
       "0                                          2.0   \n",
       "1                                          0.0   \n",
       "2                                          0.0   \n",
       "3                                          1.0   \n",
       "4                                          0.0   \n",
       "\n",
       "  calculated_host_listings_count_shared_rooms reviews_per_month  \\\n",
       "0                                         0.0              0.20   \n",
       "1                                         0.0              2.24   \n",
       "2                                         0.0              1.03   \n",
       "3                                         0.0              0.29   \n",
       "4                                         0.0              1.00   \n",
       "\n",
       "                                          area_point artwork information  \\\n",
       "0  POLYGON ((13.39822700622452 52.54424999770594,...       0           0   \n",
       "1  POLYGON ((13.40329684364106 52.53453999770674,...       0           0   \n",
       "2  POLYGON ((13.41831685134116 52.5349999977067, ...       0           1   \n",
       "3  POLYGON ((13.34979624684986 52.49884999770969,...       0           0   \n",
       "4  POLYGON ((13.45550646174395 52.51170999770862,...       0           0   \n",
       "\n",
       "  hotel attraction museum  \n",
       "0     0          0      0  \n",
       "1     0          0      0  \n",
       "2     0          0      0  \n",
       "3     0          0      0  \n",
       "4     0          0      0  \n",
       "\n",
       "[5 rows x 80 columns]"
      ]
     },
     "execution_count": 7,
     "metadata": {},
     "output_type": "execute_result"
    }
   ],
   "source": [
    "df = pd.read_json(DATA_SAVE_DIR+'museum-0.json', orient='records')\n",
    "df.head()"
   ]
  },
  {
   "cell_type": "code",
   "execution_count": 11,
   "metadata": {
    "collapsed": false,
    "pycharm": {
     "name": "#%%\n"
    }
   },
   "outputs": [
    {
     "name": "stderr",
     "output_type": "stream",
     "text": [
      "/tmp/ipykernel_504675/3423145008.py:6: SettingWithCopyWarning: \n",
      "A value is trying to be set on a copy of a slice from a DataFrame.\n",
      "Try using .loc[row_indexer,col_indexer] = value instead\n",
      "\n",
      "See the caveats in the documentation: https://pandas.pydata.org/pandas-docs/stable/user_guide/indexing.html#returning-a-view-versus-a-copy\n",
      "  plot_df['price'] = plot_df['price'].apply(lambda x: float(x.replace('$', '').replace(',', '')))\n"
     ]
    },
    {
     "data": {
      "image/png": "[encoded data removed]",
      "text/plain": [
       "<Figure size 432x288 with 1 Axes>"
      ]
     },
     "metadata": {
      "needs_background": "light"
     },
     "output_type": "display_data"
    },
    {
     "data": {
      "image/png": "[encoded data removed]",
      "text/plain": [
       "<Figure size 432x288 with 1 Axes>"
      ]
     },
     "metadata": {
      "needs_background": "light"
     },
     "output_type": "display_data"
    },
    {
     "data": {
      "image/png": "[encoded data removed]",
      "text/plain": [
       "<Figure size 432x288 with 1 Axes>"
      ]
     },
     "metadata": {
      "needs_background": "light"
     },
     "output_type": "display_data"
    },
    {
     "data": {
      "image/png": "[encoded data removed]",
      "text/plain": [
       "<Figure size 432x288 with 1 Axes>"
      ]
     },
     "metadata": {
      "needs_background": "light"
     },
     "output_type": "display_data"
    },
    {
     "data": {
      "image/png": "[encoded data removed]",
      "text/plain": [
       "<Figure size 432x288 with 1 Axes>"
      ]
     },
     "metadata": {
      "needs_background": "light"
     },
     "output_type": "display_data"
    }
   ],
   "source": [
    "import matplotlib.pyplot as plt\n",
    "import seaborn as sns\n",
    "\n",
    "names = ['artwork', 'hotel', 'museum', 'information', 'attraction']\n",
    "plot_df = df[['price', 'artwork', 'hotel', 'museum', 'information', 'attraction']]\n",
    "plot_df['price'] = plot_df['price'].apply(lambda x: float(x.replace('$', '').replace(',', '')))\n",
    "for n in names:\n",
    "    sns.scatterplot(x=n, y='price', data=plot_df)\n",
    "    plt.yscale('log')\n",
    "    plt.show()"
   ]
  },
  {
   "cell_type": "code",
   "execution_count": 12,
   "metadata": {},
   "outputs": [
    {
     "name": "stderr",
     "output_type": "stream",
     "text": [
      "/tmp/ipykernel_504675/813834920.py:1: SettingWithCopyWarning: \n",
      "A value is trying to be set on a copy of a slice from a DataFrame.\n",
      "Try using .loc[row_indexer,col_indexer] = value instead\n",
      "\n",
      "See the caveats in the documentation: https://pandas.pydata.org/pandas-docs/stable/user_guide/indexing.html#returning-a-view-versus-a-copy\n",
      "  plot_df['total'] = df[['artwork', 'hotel', 'museum', 'information', 'attraction']].sum(axis=1)\n"
     ]
    }
   ],
   "source": [
    "plot_df['total'] = df[['artwork', 'hotel', 'museum', 'information', 'attraction']].sum(axis=1)"
   ]
  },
  {
   "cell_type": "code",
   "execution_count": 13,
   "metadata": {},
   "outputs": [
    {
     "data": {
      "image/png": "[encoded data removed]",
      "text/plain": [
       "<Figure size 432x288 with 1 Axes>"
      ]
     },
     "metadata": {
      "needs_background": "light"
     },
     "output_type": "display_data"
    }
   ],
   "source": [
    "sns.scatterplot(x='total', y='price', data=plot_df)\n",
    "plt.yscale('log')\n",
    "plt.show()"
   ]
  }
 ],
 "metadata": {
  "interpreter": {
   "hash": "05c6618c8e66577e9205655f7758053ac734bbc05270e8de813deb75580bfe25"
  },
  "kernelspec": {
   "display_name": "Python 3.8.11 64-bit ('moredata-dev': conda)",
   "name": "python3"
  },
  "language_info": {
   "codemirror_mode": {
    "name": "ipython",
    "version": 3
   },
   "file_extension": ".py",
   "mimetype": "text/x-python",
   "name": "python",
   "nbconvert_exporter": "python",
   "pygments_lexer": "ipython3",
   "version": "3.8.12"
  }
 },
 "nbformat": 4,
 "nbformat_minor": 2
}
