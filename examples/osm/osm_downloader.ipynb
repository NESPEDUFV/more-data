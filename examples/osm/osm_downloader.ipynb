{
 "cells": [
  {
   "cell_type": "code",
   "execution_count": 1,
   "metadata": {
    "tags": []
   },
   "outputs": [
    {
     "name": "stderr",
     "output_type": "stream",
     "text": [
      "/home/kali/anaconda3/envs/moredata-dev/lib/python3.8/site-packages/geopandas/_compat.py:111: UserWarning: The Shapely GEOS version (3.8.0-CAPI-1.13.1 ) is incompatible with the GEOS version PyGEOS was compiled with (3.10.2-CAPI-1.16.0). Conversions between both will be slow.\n",
      "  warnings.warn(\n"
     ]
    },
    {
     "name": "stdout",
     "output_type": "stream",
     "text": [
      "3600298285\n",
      "tourism\n"
     ]
    }
   ],
   "source": [
    "from moredata.utils import osm_downloader\n",
    "import pandas as pd\n",
    "\n",
    "osm = osm_downloader.OSM_util()\n",
    "place_id = osm.get_place_ID(\"São Paulo, BR\")\n",
    "print(place_id)\n",
    "key = \"tourism\"\n",
    "value = \"\"\n",
    "\n",
    "query = \"\"\"\n",
    "    [out:json];\n",
    "    area(%s)->.searchArea;\n",
    "    (\n",
    "        node[%s](area.searchArea);\n",
    "        way[%s](area.searchArea);\n",
    "        relation[%s](area.searchArea);\n",
    "    );\n",
    "        out geom;\n",
    "    >;\n",
    "    out skel qt;\n",
    "    \"\"\" % (place_id, key, key, key)\n",
    "\n",
    "print(key)\n",
    "\n",
    "df = osm.get_places(\"São Paulo, BR\", key, \"\", query = query)\n",
    "df.to_csv(\"./data/{}.csv.gz\".format(key), compression='gzip')"
   ]
  }
 ],
 "metadata": {
  "interpreter": {
   "hash": "d0916ef1ae973d5ca758704f7f8aa51ef7f2398de006767222122569067b7b7c"
  },
  "kernelspec": {
   "display_name": "Python 3.8.13 ('moredata-dev')",
   "language": "python",
   "name": "python3"
  },
  "language_info": {
   "codemirror_mode": {
    "name": "ipython",
    "version": 3
   },
   "file_extension": ".py",
   "mimetype": "text/x-python",
   "name": "python",
   "nbconvert_exporter": "python",
   "pygments_lexer": "ipython3",
   "version": "3.8.13"
  }
 },
 "nbformat": 4,
 "nbformat_minor": 4
}
