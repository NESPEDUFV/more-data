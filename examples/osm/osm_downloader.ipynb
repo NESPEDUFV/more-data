{
 "cells": [
  {
   "cell_type": "code",
   "execution_count": 3,
   "metadata": {
    "tags": []
   },
   "outputs": [
    {
     "name": "stdout",
     "output_type": "stream",
     "text": [
      "3600062422\n",
      "historic\n"
     ]
    }
   ],
   "source": [
    "from moredata.utils import osm_downloader\n",
    "import pandas as pd\n",
    "\n",
    "osm = osm_downloader.OSM_util()\n",
    "place_id = osm.get_place_ID(\"Berlin, DE\")\n",
    "print(place_id)\n",
    "key = \"historic\"\n",
    "value = \"building\"\n",
    "\n",
    "query = \"\"\"\n",
    "    [out:json];\n",
    "    area(%s)->.searchArea;\n",
    "    (\n",
    "        node[%s=%s](area.searchArea);\n",
    "        way[%s=%s](area.searchArea);\n",
    "        relation[%s=%s](area.searchArea);\n",
    "    );\n",
    "        out geom;\n",
    "    >;\n",
    "    out skel qt;\n",
    "    \"\"\" % (place_id, key, value, key, value, key, value)\n",
    "\n",
    "print(key)\n",
    "\n",
    "df = osm.get_places(\"Berlin, DE\", key, \"\", query = query)\n",
    "df.to_csv(\"./data/{}.csv.gz\".format(key), compression='gzip')"
   ]
  },
  {
   "cell_type": "code",
   "execution_count": null,
   "metadata": {},
   "outputs": [],
   "source": []
  }
 ],
 "metadata": {
  "interpreter": {
   "hash": "f18e2bc52b0e49668308c501e6da352854a310f13e4f537f97d4431980d5d987"
  },
  "kernelspec": {
   "display_name": "moredata-dev-test",
   "language": "python",
   "name": "python3"
  },
  "language_info": {
   "codemirror_mode": {
    "name": "ipython",
    "version": 3
   },
   "file_extension": ".py",
   "mimetype": "text/x-python",
   "name": "python",
   "nbconvert_exporter": "python",
   "pygments_lexer": "ipython3",
   "version": "3.8.11"
  }
 },
 "nbformat": 4,
 "nbformat_minor": 4
}
