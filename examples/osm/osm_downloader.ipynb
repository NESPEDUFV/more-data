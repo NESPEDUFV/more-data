{
 "cells": [
  {
   "cell_type": "code",
   "execution_count": 1,
   "metadata": {
    "tags": []
   },
   "outputs": [
    {
     "name": "stdout",
     "output_type": "stream",
     "text": [
      "3600062422\n",
      "historic\n"
     ]
    }
   ],
   "source": [
    "from moredata.utils import osm_downloader\n",
    "import pandas as pd\n",
    "\n",
    "osm = osm_downloader.OSM_util()\n",
    "place_id = osm.get_place_ID(\"Berlin, DE\")\n",
    "print(place_id)\n",
    "key = \"historic\"\n",
    "value = \"building\"\n",
    "\n",
    "query = \"\"\"\n",
    "    [out:json];\n",
    "    area(%s)->.searchArea;\n",
    "    (\n",
    "        node[%s=%s](area.searchArea);\n",
    "        way[%s=%s](area.searchArea);\n",
    "        relation[%s=%s](area.searchArea);\n",
    "    );\n",
    "        out geom;\n",
    "    >;\n",
    "    out skel qt;\n",
    "    \"\"\" % (place_id, key, value, key, value, key, value)\n",
    "\n",
    "print(key)\n",
    "\n",
    "df = osm.get_places(\"Berlin, DE\", key, \"\", query = query)\n",
    "#df = df.rename({'geometry': 'geom'}, axis=1)\n",
    "df.to_csv(\"./data/{}.csv.gz\".format(key), compression='gzip')"
   ]
  },
  {
   "cell_type": "code",
   "execution_count": null,
   "metadata": {},
   "outputs": [],
   "source": []
  }
 ],
 "metadata": {
  "interpreter": {
   "hash": "e10c801975ca4b1d83602f980b420eb9f7bd6505ee187e07ae6e64cd86997e9b"
  },
  "kernelspec": {
   "display_name": "Python 3 (ipykernel)",
   "language": "python",
   "name": "python3"
  },
  "language_info": {
   "codemirror_mode": {
    "name": "ipython",
    "version": 3
   },
   "file_extension": ".py",
   "mimetype": "text/x-python",
   "name": "python",
   "nbconvert_exporter": "python",
   "pygments_lexer": "ipython3",
   "version": "3.8.12"
  }
 },
 "nbformat": 4,
 "nbformat_minor": 4
}
