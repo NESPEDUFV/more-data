{
 "cells": [
  {
   "cell_type": "code",
   "execution_count": 7,
   "metadata": {
    "collapsed": true
   },
   "outputs": [
    {
     "name": "stdout",
     "output_type": "stream",
     "text": [
      "3600062422\n",
      "tourism\n"
     ]
    }
   ],
   "source": [
    "from moredata.utils import osm_downloader\n",
    "import pandas as pd\n",
    "\n",
    "osm = osm_downloader.OSM_util()\n",
    "place_id = osm.get_place_ID(\"Berlin, DE\")\n",
    "print(place_id)\n",
    "key = \"tourism\"\n",
    "\n",
    "query = \"\"\"\n",
    "    [out:json];\n",
    "    area(%s)->.searchArea;\n",
    "    (\n",
    "        node[%s](area.searchArea);\n",
    "        way[%s](area.searchArea);\n",
    "        relation[%s](area.searchArea);\n",
    "    );\n",
    "        out geom;\n",
    "    >;\n",
    "    out skel qt;\n",
    "    \"\"\" % (place_id, key, key, key)\n",
    "\n",
    "print(key)\n",
    "\n",
    "df = osm.get_places(\"Berlin, DE\", key, \"\", query = query)\n",
    "df = df.rename({'geometry': 'geom'}, axis=1)\n",
    "df.to_csv(\"./data/{}.csv.gz\".format(key), compression='gzip')"
   ]
  }
 ],
 "metadata": {
  "kernelspec": {
   "display_name": "Python 3",
   "language": "python",
   "name": "python3"
  },
  "language_info": {
   "codemirror_mode": {
    "name": "ipython",
    "version": 2
   },
   "file_extension": ".py",
   "mimetype": "text/x-python",
   "name": "python",
   "nbconvert_exporter": "python",
   "pygments_lexer": "ipython2",
   "version": "2.7.6"
  }
 },
 "nbformat": 4,
 "nbformat_minor": 0
}