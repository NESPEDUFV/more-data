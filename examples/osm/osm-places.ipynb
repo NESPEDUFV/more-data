{
 "cells": [
  {
   "cell_type": "code",
   "execution_count": 1,
   "metadata": {},
   "outputs": [
    {
     "name": "stderr",
     "output_type": "stream",
     "text": [
      "/home/kali/anaconda3/envs/moredata-dev/lib/python3.8/site-packages/geopandas/_compat.py:111: UserWarning: The Shapely GEOS version (3.8.0-CAPI-1.13.1 ) is incompatible with the GEOS version PyGEOS was compiled with (3.10.2-CAPI-1.16.0). Conversions between both will be slow.\n",
      "  warnings.warn(\n"
     ]
    }
   ],
   "source": [
    "from moredata.datasets import get_path\n",
    "from moredata import Converter\n",
    "import pandas as pd\n",
    "\n",
    "df = pd.read_csv(get_path(\"airbnb-berlin-main\"))\n",
    "df = df.loc[(~df['latitude'].isna()) & (~df['longitude'].isna())]\n",
    "df.to_json('./data/airbnb-berlin.json', orient='records')"
   ]
  },
  {
   "cell_type": "code",
   "execution_count": 2,
   "metadata": {
    "pycharm": {
     "name": "#%%\n"
    }
   },
   "outputs": [
    {
     "name": "stderr",
     "output_type": "stream",
     "text": [
      "/home/kali/github/more-data/moredata/enricher/osm/osm_places_connector.py:89: DtypeWarning: Columns (4,6,7,8,9,10,11,12,13,14,15,16,17,18,19,20,21,22,23,24,25,26,27,28,29,30,31,33,34,35,36,37,38,39,40,41,42,43,44,45,46,47,48,49,50,51,52,53,54,55,56,58,59,60,61,62,63,64,65,66,67,68,69,70,71,72,73,74,75,76,78,79,81,82,83,84,85,86,87,88,89,90,91,92,93,94,95,96,97,98,99,100,101,102,103,104,105,106,107,108,109,110,111,112,113,114,115,116,117,118,119,120,121,122,123,124,125,126,127,128,129,130,131,132,133,134,135,136,137,138,139,140,141,142,143,144,145,146,147,148,149,151,152,153,155,156,157,158,159,160,161,162,163,164,165,166,167,168,170,171,172,173,174,175,176,177,178,179,181,182,183,184,185,186,187,188,189,190,191,192,193,194,195,196,197,198,199,200,201,202,203,204,205,206,207,208,209,210,212,213,214,215,216,217,218,219,220,221,222,223,224,225,226,227,228,229,230,231,232,233,234,235,236,237,238,239,240,241,242,243,244,245,246,247,248,249,250,251,252,253,254,255,256,257,258,259,260,261,262,263,264,265,266,267,270,271,273,274,276,277,278,279,280,281,282,283,284,285,286,287,288,289,290,291,292,293,294,295,296,297,298,299,300,301,302,303,304,305,306,307,308,309,310,311,312,315,316,318,320,321,322,323,324,325,326,327,328,329,330,332,333,334,335,336,337,338,339,340,341,342,343,344,345,346,347,348,349,350,351,352,353,354,355,356,357,358,359,360,361,362,363,364,366,367,368,369,371,373,374,375,376,377,378,379,380,381,382,383,384,385,386,387,388,389,391,392,393,394,395,396,397,398,399,400,401,402,403,404,405,407,408,409,410,411,412,413,414,417,418,419,420,421,422,423,424,426,427,428,429,430,431,432,433,434,435,436,437,438,439,440,441,442,444,445,446,447,448,449,450,451,452,453,454,455,456,457,458,459,460,461,462,463,464,466,468,469,470,471,472,474,476,477,478,479,480,482,483,484,486,487,488,489,490,491,492,493,494,495,496,497,498,499,500,501,502,503,504,505,508,509,510,511,514,515,516,517,518,519,520,521,522,523,524,525,526,527,529,530) have mixed types. Specify dtype option on import or set low_memory=False.\n",
      "  readTemp.append(pd.read_csv(file))\n",
      "Exception ignored in: <function BaseGeometry.__del__ at 0x7f80fbd504c0>\n",
      "Traceback (most recent call last):\n",
      "  File \"/home/kali/anaconda3/envs/moredata-dev/lib/python3.8/site-packages/shapely/geometry/base.py\", line 240, in __del__\n",
      "    self.empty(val=None)\n",
      "  File \"/home/kali/anaconda3/envs/moredata-dev/lib/python3.8/site-packages/shapely/geometry/base.py\", line 227, in empty\n",
      "    self._lgeos.GEOSGeom_destroy(self.__geom__)\n",
      "KeyboardInterrupt: \n"
     ]
    }
   ],
   "source": [
    "import moredata\n",
    "\n",
    "data = moredata.models.JsonData(data_file='./data/airbnb-berlin.json', parser=moredata.parser.parse_document)\n",
    "\n",
    "osm_enricher = moredata.enricher.osm.OSMPlacesConnector(place_name=\"Berlin, DE\", files=['./data/tourism.csv.gz'], radius=50, geometry_intersected=True)\n",
    "\n",
    "data_enriched = osm_enricher.enrich(data)\n",
    "\n",
    "moredata.utils.write_json_generator_to_json(\"./data/airbnb-berlin-enriched\", data_enriched, 100000)"
   ]
  },
  {
   "cell_type": "code",
   "execution_count": 2,
   "metadata": {},
   "outputs": [
    {
     "ename": "",
     "evalue": "",
     "output_type": "error",
     "traceback": [
      "\u001b[1;31mCanceled future for execute_request message before replies were done"
     ]
    },
    {
     "ename": "",
     "evalue": "",
     "output_type": "error",
     "traceback": [
      "\u001b[1;31mThe Kernel crashed while executing code in the the current cell or a previous cell. Please review the code in the cell(s) to identify a possible cause of the failure. Click <a href='https://aka.ms/vscodeJupyterKernelCrash'>here</a> for more info. View Jupyter <a href='command:jupyter.viewOutput'>log</a> for further details."
     ]
    }
   ],
   "source": [
    "#Geopandas\n",
    "import pandas as pd\n",
    "import moredata\n",
    "import geopandas\n",
    "df = pd.read_csv(\"../data/preprocessed_events_dates_sp_sample.csv\")\n",
    "df = df.loc[(~df['latitude'].isna()) & (~df['longitude'].isna())]\n",
    "\n",
    "gdf = geopandas.GeoDataFrame(df, geometry=geopandas.points_from_xy(df.longitude, df.latitude))\n",
    "data = moredata.models.GeopandasData().from_geodataframe(gdf.iloc[0:25000])\n",
    "\n",
    "osm_enricher = moredata.enricher.osm.OSMPlacesConnector(place_name=\"Berlin, DE\", files=['./data/tourism.csv.gz'], radius=50, geometry_intersected=True)\n",
    "\n",
    "data_enriched = osm_enricher.enrich(data)"
   ]
  },
  {
   "cell_type": "code",
   "execution_count": 1,
   "metadata": {},
   "outputs": [
    {
     "name": "stderr",
     "output_type": "stream",
     "text": [
      "/home/kali/anaconda3/envs/moredata-dev/lib/python3.8/site-packages/geopandas/_compat.py:111: UserWarning: The Shapely GEOS version (3.8.0-CAPI-1.13.1 ) is incompatible with the GEOS version PyGEOS was compiled with (3.10.2-CAPI-1.16.0). Conversions between both will be slow.\n",
      "  warnings.warn(\n"
     ]
    },
    {
     "ename": "NameError",
     "evalue": "name 'pd' is not defined",
     "output_type": "error",
     "traceback": [
      "\u001b[0;31m---------------------------------------------------------------------------\u001b[0m",
      "\u001b[0;31mNameError\u001b[0m                                 Traceback (most recent call last)",
      "\u001b[1;32m/home/kali/github/more-data/examples/osm/osm-places.ipynb Cell 4'\u001b[0m in \u001b[0;36m<cell line: 5>\u001b[0;34m()\u001b[0m\n\u001b[1;32m      <a href='vscode-notebook-cell:/home/kali/github/more-data/examples/osm/osm-places.ipynb#ch0000003?line=2'>3</a>\u001b[0m \u001b[39mimport\u001b[39;00m \u001b[39mmoredata\u001b[39;00m\n\u001b[1;32m      <a href='vscode-notebook-cell:/home/kali/github/more-data/examples/osm/osm-places.ipynb#ch0000003?line=3'>4</a>\u001b[0m \u001b[39mimport\u001b[39;00m \u001b[39mgeopandas\u001b[39;00m\n\u001b[0;32m----> <a href='vscode-notebook-cell:/home/kali/github/more-data/examples/osm/osm-places.ipynb#ch0000003?line=4'>5</a>\u001b[0m df2 \u001b[39m=\u001b[39m pd\u001b[39m.\u001b[39mread_csv(\u001b[39m\"\u001b[39m\u001b[39m../data/preprocessed_events_dates_sp_sample.csv\u001b[39m\u001b[39m\"\u001b[39m)\n\u001b[1;32m      <a href='vscode-notebook-cell:/home/kali/github/more-data/examples/osm/osm-places.ipynb#ch0000003?line=5'>6</a>\u001b[0m df2 \u001b[39m=\u001b[39m df\u001b[39m.\u001b[39mloc[(\u001b[39m~\u001b[39mdf[\u001b[39m'\u001b[39m\u001b[39mlatitude\u001b[39m\u001b[39m'\u001b[39m]\u001b[39m.\u001b[39misna()) \u001b[39m&\u001b[39m (\u001b[39m~\u001b[39mdf[\u001b[39m'\u001b[39m\u001b[39mlongitude\u001b[39m\u001b[39m'\u001b[39m]\u001b[39m.\u001b[39misna())]\n\u001b[1;32m      <a href='vscode-notebook-cell:/home/kali/github/more-data/examples/osm/osm-places.ipynb#ch0000003?line=7'>8</a>\u001b[0m gdf2 \u001b[39m=\u001b[39m geopandas\u001b[39m.\u001b[39mGeoDataFrame(df, geometry\u001b[39m=\u001b[39mgeopandas\u001b[39m.\u001b[39mpoints_from_xy(df\u001b[39m.\u001b[39mlongitude, df\u001b[39m.\u001b[39mlatitude))\n",
      "\u001b[0;31mNameError\u001b[0m: name 'pd' is not defined"
     ]
    }
   ],
   "source": [
    "#Dask\n",
    "import pandas as pd\n",
    "import moredata\n",
    "import geopandas\n",
    "df2 = pd.read_csv(\"../data/preprocessed_events_dates_sp_sample.csv\")\n",
    "df2 = df.loc[(~df['latitude'].isna()) & (~df['longitude'].isna())]\n",
    "\n",
    "gdf2 = geopandas.GeoDataFrame(df, geometry=geopandas.points_from_xy(df.longitude, df.latitude))\n",
    "data2 = moredata.models.GeopandasData().from_geodataframe(gdf.iloc[0:25000], parallel=True)\n",
    "print(data)\n",
    "osm_enricher2 = moredata.enricher.osm.OSMPlacesConnector(place_name=\"São Paulo, BR\", files=['./data/tourism.csv.gz'], radius=50, geometry_intersected=True)\n",
    "\n",
    "data_enriched2 = osm_enricher.enrich(data)"
   ]
  },
  {
   "cell_type": "code",
   "execution_count": 3,
   "metadata": {},
   "outputs": [
    {
     "data": {
      "text/html": [
       "<div>\n",
       "<style scoped>\n",
       "    .dataframe tbody tr th:only-of-type {\n",
       "        vertical-align: middle;\n",
       "    }\n",
       "\n",
       "    .dataframe tbody tr th {\n",
       "        vertical-align: top;\n",
       "    }\n",
       "\n",
       "    .dataframe thead th {\n",
       "        text-align: right;\n",
       "    }\n",
       "</style>\n",
       "<table border=\"1\" class=\"dataframe\">\n",
       "  <thead>\n",
       "    <tr style=\"text-align: right;\">\n",
       "      <th></th>\n",
       "      <th>h3_hash</th>\n",
       "      <th>app_user_id</th>\n",
       "      <th>date_time</th>\n",
       "      <th>cod_municipio</th>\n",
       "      <th>latitude</th>\n",
       "      <th>longitude</th>\n",
       "    </tr>\n",
       "  </thead>\n",
       "  <tbody>\n",
       "    <tr>\n",
       "      <th>0</th>\n",
       "      <td>8aa810008bb7fff</td>\n",
       "      <td>56961170</td>\n",
       "      <td>2021-12-05T11:56:38.000-03:00</td>\n",
       "      <td>3550308</td>\n",
       "      <td>-23.66844</td>\n",
       "      <td>-46.68029</td>\n",
       "    </tr>\n",
       "    <tr>\n",
       "      <th>1</th>\n",
       "      <td>8aa810011737fff</td>\n",
       "      <td>65572294</td>\n",
       "      <td>2021-12-05T16:26:21.000-03:00</td>\n",
       "      <td>3513801</td>\n",
       "      <td>-23.68624</td>\n",
       "      <td>-46.58632</td>\n",
       "    </tr>\n",
       "    <tr>\n",
       "      <th>2</th>\n",
       "      <td>8aa81001c227fff</td>\n",
       "      <td>71044967</td>\n",
       "      <td>2021-12-04T13:28:25.000-03:00</td>\n",
       "      <td>3513801</td>\n",
       "      <td>-23.67265</td>\n",
       "      <td>-46.61749</td>\n",
       "    </tr>\n",
       "    <tr>\n",
       "      <th>3</th>\n",
       "      <td>8aa8100825b7fff</td>\n",
       "      <td>63526401</td>\n",
       "      <td>2021-12-05T10:18:08.000-03:00</td>\n",
       "      <td>3550308</td>\n",
       "      <td>-23.63283</td>\n",
       "      <td>-46.44711</td>\n",
       "    </tr>\n",
       "    <tr>\n",
       "      <th>4</th>\n",
       "      <td>8aa8100912dffff</td>\n",
       "      <td>63796451</td>\n",
       "      <td>2021-12-05T14:35:11.000-03:00</td>\n",
       "      <td>3550308</td>\n",
       "      <td>-23.61167</td>\n",
       "      <td>-46.44392</td>\n",
       "    </tr>\n",
       "  </tbody>\n",
       "</table>\n",
       "</div>"
      ],
      "text/plain": [
       "           h3_hash  app_user_id                      date_time  cod_municipio  \\\n",
       "0  8aa810008bb7fff     56961170  2021-12-05T11:56:38.000-03:00        3550308   \n",
       "1  8aa810011737fff     65572294  2021-12-05T16:26:21.000-03:00        3513801   \n",
       "2  8aa81001c227fff     71044967  2021-12-04T13:28:25.000-03:00        3513801   \n",
       "3  8aa8100825b7fff     63526401  2021-12-05T10:18:08.000-03:00        3550308   \n",
       "4  8aa8100912dffff     63796451  2021-12-05T14:35:11.000-03:00        3550308   \n",
       "\n",
       "   latitude  longitude  \n",
       "0 -23.66844  -46.68029  \n",
       "1 -23.68624  -46.58632  \n",
       "2 -23.67265  -46.61749  \n",
       "3 -23.63283  -46.44711  \n",
       "4 -23.61167  -46.44392  "
      ]
     },
     "execution_count": 3,
     "metadata": {},
     "output_type": "execute_result"
    }
   ],
   "source": [
    "df3 = pd.read_csv(\"../data/preprocessed_events_dates_sp_sample.csv\")\n",
    "df3.head()"
   ]
  },
  {
   "cell_type": "code",
   "execution_count": 5,
   "metadata": {
    "pycharm": {
     "name": "#%%\n"
    }
   },
   "outputs": [],
   "source": [
    "import pandas as pd\n",
    "df_enriched = pd.read_json('./data/airbnb-berlin-enriched-0.json', orient='records')"
   ]
  },
  {
   "cell_type": "code",
   "execution_count": 6,
   "metadata": {},
   "outputs": [],
   "source": [
    "df_enriched.loc[(~df_enriched['local'].isna()) & (~df_enriched['geometry_intersected'].isna()), 'near_tourism_places'] = 'Yes'\n",
    "df_enriched['near_tourism_places'] = df_enriched['near_tourism_places'].fillna('No')"
   ]
  },
  {
   "cell_type": "code",
   "execution_count": 7,
   "metadata": {},
   "outputs": [],
   "source": [
    "df_enriched['price'] = df_enriched['price'].apply(lambda x: float(x.replace('$', '').replace(',', '')))"
   ]
  },
  {
   "cell_type": "code",
   "execution_count": 8,
   "metadata": {},
   "outputs": [
    {
     "data": {
      "text/plain": [
       "count    19858.000000\n",
       "mean        70.776866\n",
       "std        120.384857\n",
       "min          0.000000\n",
       "25%         35.000000\n",
       "50%         50.000000\n",
       "75%         80.000000\n",
       "max       8000.000000\n",
       "Name: price, dtype: float64"
      ]
     },
     "execution_count": 8,
     "metadata": {},
     "output_type": "execute_result"
    }
   ],
   "source": [
    "df_enriched['price'].describe()"
   ]
  },
  {
   "cell_type": "code",
   "execution_count": 9,
   "metadata": {
    "scrolled": true
   },
   "outputs": [
    {
     "data": {
      "image/png": "[encoded data removed]",
      "text/plain": [
       "<Figure size 432x288 with 1 Axes>"
      ]
     },
     "metadata": {
      "needs_background": "light"
     },
     "output_type": "display_data"
    }
   ],
   "source": [
    "import seaborn as sns\n",
    "import matplotlib.pyplot as plt\n",
    "sns.barplot(y=\"price\", x=\"near_tourism_places\", data=df_enriched)\n",
    "plt.show()"
   ]
  },
  {
   "cell_type": "code",
   "execution_count": 10,
   "metadata": {},
   "outputs": [
    {
     "data": {
      "text/html": [
       "<div style=\"width:100%;\"><div style=\"position:relative;width:100%;height:0;padding-bottom:60%;\"><span style=\"color:#565656\">Make this Notebook Trusted to load map: File -> Trust Notebook</span><iframe src=\"about:blank\" style=\"position:absolute;width:100%;height:100%;left:0;top:0;border:none !important;\" data-html=%3C%21DOCTYPE%20html%3E%0A%3Chead%3E%20%20%20%20%0A%20%20%20%20%3Cmeta%20http-equiv%3D%22content-type%22%20content%3D%22text/html%3B%20charset%3DUTF-8%22%20/%3E%0A%20%20%20%20%0A%20%20%20%20%20%20%20%20%3Cscript%20type%3D%22text/javascript%22%3E%0A%20%20%20%20%20%20%20%20var%20oneTimeExecution%20%3D%20%28function%28%29%20%7B%0A%20%20%20%20%20%20%20%20%20%20%20%20%20%20%20%20%20%20%20%20var%20executed%20%3D%20false%3B%0A%20%20%20%20%20%20%20%20%20%20%20%20%20%20%20%20%20%20%20%20return%20function%28%29%20%7B%0A%20%20%20%20%20%20%20%20%20%20%20%20%20%20%20%20%20%20%20%20%20%20%20%20if%20%28%21executed%29%20%7B%0A%20%20%20%20%20%20%20%20%20%20%20%20%20%20%20%20%20%20%20%20%20%20%20%20%20%20%20%20%20var%20checkExist%20%3D%20setInterval%28function%28%29%20%7B%0A%20%20%20%20%20%20%20%20%20%20%20%20%20%20%20%20%20%20%20%20%20%20%20%20%20%20%20%20%20%20%20%20%20%20%20%20%20%20%20if%20%28%28document.getElementsByClassName%28%27leaflet-top%20leaflet-right%27%29.length%29%20%7C%7C%20%28%21executed%29%29%20%7B%0A%20%20%20%20%20%20%20%20%20%20%20%20%20%20%20%20%20%20%20%20%20%20%20%20%20%20%20%20%20%20%20%20%20%20%20%20%20%20%20%20%20%20document.getElementsByClassName%28%27leaflet-top%20leaflet-right%27%29%5B0%5D.style.display%20%3D%20%22flex%22%0A%20%20%20%20%20%20%20%20%20%20%20%20%20%20%20%20%20%20%20%20%20%20%20%20%20%20%20%20%20%20%20%20%20%20%20%20%20%20%20%20%20%20document.getElementsByClassName%28%27leaflet-top%20leaflet-right%27%29%5B0%5D.style.flexDirection%20%3D%20%22column%22%0A%20%20%20%20%20%20%20%20%20%20%20%20%20%20%20%20%20%20%20%20%20%20%20%20%20%20%20%20%20%20%20%20%20%20%20%20%20%20%20%20%20%20document.getElementsByClassName%28%27leaflet-top%20leaflet-right%27%29%5B0%5D.innerHTML%20%2B%3D%20%60%0A%20%20%20%20%3Cdiv%20id%3D%27maplegend%27%20class%3D%27maplegend%27%3E%0A%20%20%20%20%20%20%3Cdiv%20class%3D%27legend-title%27%3EPolygons%3C/div%3E%0A%20%20%20%20%20%20%3Cdiv%20class%3D%27legend-scale%27%3E%0A%20%20%20%20%20%20%20%20%3Cul%20class%3D%27legend-labels%27%3E%0A%20%20%20%20%20%20%20%20%3Cli%3E%3Cspan%20style%3D%27background%3Ablue%27%3E%3C/span%3EPoint%20of%20Interest%3C/li%3E%3Cli%3E%3Cspan%20style%3D%27background%3Ablack%27%3E%3C/span%3ETourism%20Place%3C/li%3E%0A%20%20%20%20%20%20%20%20%3C/ul%3E%0A%20%20%20%20%20%20%3C/div%3E%0A%20%20%20%20%3C/div%3E%0A%20%20%20%20%60%3B%0A%20%20%20%20%20%20%20%20%20%20%20%20%20%20%20%20%20%20%20%20%20%20%20%20%20%20%20%20%20%20%20%20%20%20%20%20%20%20%20%20%20%20clearInterval%28checkExist%29%3B%0A%20%20%20%20%20%20%20%20%20%20%20%20%20%20%20%20%20%20%20%20%20%20%20%20%20%20%20%20%20%20%20%20%20%20%20%20%20%20%20%20%20%20executed%20%3D%20true%3B%0A%20%20%20%20%20%20%20%20%20%20%20%20%20%20%20%20%20%20%20%20%20%20%20%20%20%20%20%20%20%20%20%20%20%20%20%20%20%20%20%7D%0A%20%20%20%20%20%20%20%20%20%20%20%20%20%20%20%20%20%20%20%20%20%20%20%20%20%20%20%20%20%20%20%20%20%20%20%20%7D%2C%20100%29%3B%0A%20%20%20%20%20%20%20%20%20%20%20%20%20%20%20%20%20%20%20%20%20%20%20%20%7D%0A%20%20%20%20%20%20%20%20%20%20%20%20%20%20%20%20%20%20%20%20%7D%3B%0A%20%20%20%20%20%20%20%20%20%20%20%20%20%20%20%20%7D%29%28%29%3B%0A%20%20%20%20%20%20%20%20oneTimeExecution%28%29%0A%20%20%20%20%20%20%20%20%3C/script%3E%0A%20%20%20%20%20%20%0A%0A%20%20%20%20%3Cstyle%20type%3D%27text/css%27%3E%0A%20%20%20%20%20%20.maplegend%20%7B%0A%20%20%20%20%20%20%20%20z-index%3A9999%3B%0A%20%20%20%20%20%20%20%20float%3Aleft%3B%0A%20%20%20%20%20%20%20%20background-color%3A%20rgba%28255%2C%20255%2C%20255%2C%201%29%3B%0A%20%20%20%20%20%20%20%20border-radius%3A%2010px%3B%0A%20%20%20%20%20%20%20%20border%3A%202px%20solid%20%23bbb%3B%0A%20%20%20%20%20%20%20%20padding%3A%2010px%3B%0A%20%20%20%20%20%20%20%20font-size%3A12px%3B%0A%20%20%20%20%20%20%20%20position%3A%20center%3B%0A%20%20%20%20%20%20%7D%0A%20%20%20%20%20%20.maplegend%20.legend-title%20%7B%0A%20%20%20%20%20%20%20%20text-align%3A%20left%3B%0A%20%20%20%20%20%20%20%20margin-bottom%3A%205px%3B%0A%20%20%20%20%20%20%20%20font-weight%3A%20bold%3B%0A%20%20%20%20%20%20%20%20font-size%3A%2090%25%3B%0A%20%20%20%20%20%20%20%20%7D%0A%20%20%20%20%20%20.maplegend%20.legend-scale%20ul%20%7B%0A%20%20%20%20%20%20%20%20margin%3A%200%3B%0A%20%20%20%20%20%20%20%20margin-bottom%3A%205px%3B%0A%20%20%20%20%20%20%20%20padding%3A%200%3B%0A%20%20%20%20%20%20%20%20float%3A%20left%3B%0A%20%20%20%20%20%20%20%20list-style%3A%20none%3B%0A%20%20%20%20%20%20%20%20%7D%0A%20%20%20%20%20%20.maplegend%20.legend-scale%20ul%20li%20%7B%0A%20%20%20%20%20%20%20%20font-size%3A%2080%25%3B%0A%20%20%20%20%20%20%20%20list-style%3A%20none%3B%0A%20%20%20%20%20%20%20%20margin-left%3A%200%3B%0A%20%20%20%20%20%20%20%20line-height%3A%2018px%3B%0A%20%20%20%20%20%20%20%20margin-bottom%3A%202px%3B%0A%20%20%20%20%20%20%20%20%7D%0A%20%20%20%20%20%20.maplegend%20ul.legend-labels%20li%20span%20%7B%0A%20%20%20%20%20%20%20%20display%3A%20block%3B%0A%20%20%20%20%20%20%20%20float%3A%20left%3B%0A%20%20%20%20%20%20%20%20height%3A%2016px%3B%0A%20%20%20%20%20%20%20%20width%3A%2030px%3B%0A%20%20%20%20%20%20%20%20margin-right%3A%205px%3B%0A%20%20%20%20%20%20%20%20margin-left%3A%200%3B%0A%20%20%20%20%20%20%20%20border%3A%200px%20solid%20%23ccc%3B%0A%20%20%20%20%20%20%20%20%7D%0A%20%20%20%20%20%20.maplegend%20.legend-source%20%7B%0A%20%20%20%20%20%20%20%20font-size%3A%2080%25%3B%0A%20%20%20%20%20%20%20%20color%3A%20%23777%3B%0A%20%20%20%20%20%20%20%20clear%3A%20both%3B%0A%20%20%20%20%20%20%20%20%7D%0A%20%20%20%20%20%20.maplegend%20a%20%7B%0A%20%20%20%20%20%20%20%20color%3A%20%23777%3B%0A%20%20%20%20%20%20%20%20%7D%0A%20%20%20%20%3C/style%3E%0A%20%20%20%20%0A%20%20%20%20%0A%20%20%20%20%20%20%20%20%3Cscript%3E%0A%20%20%20%20%20%20%20%20%20%20%20%20L_NO_TOUCH%20%3D%20false%3B%0A%20%20%20%20%20%20%20%20%20%20%20%20L_DISABLE_3D%20%3D%20false%3B%0A%20%20%20%20%20%20%20%20%3C/script%3E%0A%20%20%20%20%0A%20%20%20%20%3Cstyle%3Ehtml%2C%20body%20%7Bwidth%3A%20100%25%3Bheight%3A%20100%25%3Bmargin%3A%200%3Bpadding%3A%200%3B%7D%3C/style%3E%0A%20%20%20%20%3Cstyle%3E%23map%20%7Bposition%3Aabsolute%3Btop%3A0%3Bbottom%3A0%3Bright%3A0%3Bleft%3A0%3B%7D%3C/style%3E%0A%20%20%20%20%3Cscript%20src%3D%22https%3A//cdn.jsdelivr.net/npm/leaflet%401.6.0/dist/leaflet.js%22%3E%3C/script%3E%0A%20%20%20%20%3Cscript%20src%3D%22https%3A//code.jquery.com/jquery-1.12.4.min.js%22%3E%3C/script%3E%0A%20%20%20%20%3Cscript%20src%3D%22https%3A//maxcdn.bootstrapcdn.com/bootstrap/3.2.0/js/bootstrap.min.js%22%3E%3C/script%3E%0A%20%20%20%20%3Cscript%20src%3D%22https%3A//cdnjs.cloudflare.com/ajax/libs/Leaflet.awesome-markers/2.0.2/leaflet.awesome-markers.js%22%3E%3C/script%3E%0A%20%20%20%20%3Clink%20rel%3D%22stylesheet%22%20href%3D%22https%3A//cdn.jsdelivr.net/npm/leaflet%401.6.0/dist/leaflet.css%22/%3E%0A%20%20%20%20%3Clink%20rel%3D%22stylesheet%22%20href%3D%22https%3A//maxcdn.bootstrapcdn.com/bootstrap/3.2.0/css/bootstrap.min.css%22/%3E%0A%20%20%20%20%3Clink%20rel%3D%22stylesheet%22%20href%3D%22https%3A//maxcdn.bootstrapcdn.com/bootstrap/3.2.0/css/bootstrap-theme.min.css%22/%3E%0A%20%20%20%20%3Clink%20rel%3D%22stylesheet%22%20href%3D%22https%3A//maxcdn.bootstrapcdn.com/font-awesome/4.6.3/css/font-awesome.min.css%22/%3E%0A%20%20%20%20%3Clink%20rel%3D%22stylesheet%22%20href%3D%22https%3A//cdnjs.cloudflare.com/ajax/libs/Leaflet.awesome-markers/2.0.2/leaflet.awesome-markers.css%22/%3E%0A%20%20%20%20%3Clink%20rel%3D%22stylesheet%22%20href%3D%22https%3A//cdn.jsdelivr.net/gh/python-visualization/folium/folium/templates/leaflet.awesome.rotate.min.css%22/%3E%0A%20%20%20%20%0A%20%20%20%20%20%20%20%20%20%20%20%20%3Cmeta%20name%3D%22viewport%22%20content%3D%22width%3Ddevice-width%2C%0A%20%20%20%20%20%20%20%20%20%20%20%20%20%20%20%20initial-scale%3D1.0%2C%20maximum-scale%3D1.0%2C%20user-scalable%3Dno%22%20/%3E%0A%20%20%20%20%20%20%20%20%20%20%20%20%3Cstyle%3E%0A%20%20%20%20%20%20%20%20%20%20%20%20%20%20%20%20%23map_8f851d2cf6724188b1524d5c6dd534fc%20%7B%0A%20%20%20%20%20%20%20%20%20%20%20%20%20%20%20%20%20%20%20%20position%3A%20relative%3B%0A%20%20%20%20%20%20%20%20%20%20%20%20%20%20%20%20%20%20%20%20width%3A%20100.0%25%3B%0A%20%20%20%20%20%20%20%20%20%20%20%20%20%20%20%20%20%20%20%20height%3A%20100.0%25%3B%0A%20%20%20%20%20%20%20%20%20%20%20%20%20%20%20%20%20%20%20%20left%3A%200.0%25%3B%0A%20%20%20%20%20%20%20%20%20%20%20%20%20%20%20%20%20%20%20%20top%3A%200.0%25%3B%0A%20%20%20%20%20%20%20%20%20%20%20%20%20%20%20%20%7D%0A%20%20%20%20%20%20%20%20%20%20%20%20%3C/style%3E%0A%20%20%20%20%20%20%20%20%0A%3C/head%3E%0A%3Cbody%3E%20%20%20%20%0A%20%20%20%20%0A%20%20%20%20%20%20%20%20%20%20%20%20%3Cdiv%20class%3D%22folium-map%22%20id%3D%22map_8f851d2cf6724188b1524d5c6dd534fc%22%20%3E%3C/div%3E%0A%20%20%20%20%20%20%20%20%0A%3C/body%3E%0A%3Cscript%3E%20%20%20%20%0A%20%20%20%20%0A%20%20%20%20%20%20%20%20%20%20%20%20var%20map_8f851d2cf6724188b1524d5c6dd534fc%20%3D%20L.map%28%0A%20%20%20%20%20%20%20%20%20%20%20%20%20%20%20%20%22map_8f851d2cf6724188b1524d5c6dd534fc%22%2C%0A%20%20%20%20%20%20%20%20%20%20%20%20%20%20%20%20%7B%0A%20%20%20%20%20%20%20%20%20%20%20%20%20%20%20%20%20%20%20%20center%3A%20%5B52.53079%2C%2013.41808%5D%2C%0A%20%20%20%20%20%20%20%20%20%20%20%20%20%20%20%20%20%20%20%20crs%3A%20L.CRS.EPSG3857%2C%0A%20%20%20%20%20%20%20%20%20%20%20%20%20%20%20%20%20%20%20%20zoom%3A%2017%2C%0A%20%20%20%20%20%20%20%20%20%20%20%20%20%20%20%20%20%20%20%20zoomControl%3A%20true%2C%0A%20%20%20%20%20%20%20%20%20%20%20%20%20%20%20%20%20%20%20%20preferCanvas%3A%20false%2C%0A%20%20%20%20%20%20%20%20%20%20%20%20%20%20%20%20%7D%0A%20%20%20%20%20%20%20%20%20%20%20%20%29%3B%0A%0A%20%20%20%20%20%20%20%20%20%20%20%20%0A%0A%20%20%20%20%20%20%20%20%0A%20%20%20%20%0A%20%20%20%20%20%20%20%20%20%20%20%20var%20tile_layer_2be6dbda543641c6bedada5808e7ee38%20%3D%20L.tileLayer%28%0A%20%20%20%20%20%20%20%20%20%20%20%20%20%20%20%20%22https%3A//cartodb-basemaps-%7Bs%7D.global.ssl.fastly.net/light_all/%7Bz%7D/%7Bx%7D/%7By%7D.png%22%2C%0A%20%20%20%20%20%20%20%20%20%20%20%20%20%20%20%20%7B%22attribution%22%3A%20%22%5Cu0026copy%3B%20%5Cu003ca%20href%3D%5C%22http%3A//www.openstreetmap.org/copyright%5C%22%5Cu003eOpenStreetMap%5Cu003c/a%5Cu003e%20contributors%20%5Cu0026copy%3B%20%5Cu003ca%20href%3D%5C%22http%3A//cartodb.com/attributions%5C%22%5Cu003eCartoDB%5Cu003c/a%5Cu003e%2C%20CartoDB%20%5Cu003ca%20href%20%3D%5C%22http%3A//cartodb.com/attributions%5C%22%5Cu003eattributions%5Cu003c/a%5Cu003e%22%2C%20%22detectRetina%22%3A%20false%2C%20%22maxNativeZoom%22%3A%2018%2C%20%22maxZoom%22%3A%2018%2C%20%22minZoom%22%3A%200%2C%20%22noWrap%22%3A%20false%2C%20%22opacity%22%3A%201%2C%20%22subdomains%22%3A%20%22abc%22%2C%20%22tms%22%3A%20false%7D%0A%20%20%20%20%20%20%20%20%20%20%20%20%29.addTo%28map_8f851d2cf6724188b1524d5c6dd534fc%29%3B%0A%20%20%20%20%20%20%20%20%0A%20%20%20%20%0A%20%20%20%20%20%20%20%20%20%20%20%20var%20marker_dd5f9b212f854d25a206e6b4f63dafe7%20%3D%20L.marker%28%0A%20%20%20%20%20%20%20%20%20%20%20%20%20%20%20%20%5B52.53079%2C%2013.41808%5D%2C%0A%20%20%20%20%20%20%20%20%20%20%20%20%20%20%20%20%7B%7D%0A%20%20%20%20%20%20%20%20%20%20%20%20%29.addTo%28map_8f851d2cf6724188b1524d5c6dd534fc%29%3B%0A%20%20%20%20%20%20%20%20%0A%20%20%20%20%0A%20%20%20%20%20%20%20%20%20%20%20%20var%20icon_d233f05ad76e4920ab105119d8843a84%20%3D%20L.AwesomeMarkers.icon%28%0A%20%20%20%20%20%20%20%20%20%20%20%20%20%20%20%20%7B%22extraClasses%22%3A%20%22fa-rotate-0%22%2C%20%22icon%22%3A%20%22info-sign%22%2C%20%22iconColor%22%3A%20%22white%22%2C%20%22markerColor%22%3A%20%22blue%22%2C%20%22prefix%22%3A%20%22glyphicon%22%7D%0A%20%20%20%20%20%20%20%20%20%20%20%20%29%3B%0A%20%20%20%20%20%20%20%20%20%20%20%20marker_dd5f9b212f854d25a206e6b4f63dafe7.setIcon%28icon_d233f05ad76e4920ab105119d8843a84%29%3B%0A%20%20%20%20%20%20%20%20%0A%20%20%20%20%0A%20%20%20%20%20%20%20%20var%20popup_da6dce65022e4aadbeb21001c5e1893f%20%3D%20L.popup%28%7B%22maxWidth%22%3A%20%22100%25%22%7D%29%3B%0A%0A%20%20%20%20%20%20%20%20%0A%20%20%20%20%20%20%20%20%20%20%20%20var%20html_53afd55f24f2435cbcdbf0d2bb58c075%20%3D%20%24%28%60%3Cdiv%20id%3D%22html_53afd55f24f2435cbcdbf0d2bb58c075%22%20style%3D%22width%3A%20100.0%25%3B%20height%3A%20100.0%25%3B%22%3EPoint%20of%20Interest%3C/div%3E%60%29%5B0%5D%3B%0A%20%20%20%20%20%20%20%20%20%20%20%20popup_da6dce65022e4aadbeb21001c5e1893f.setContent%28html_53afd55f24f2435cbcdbf0d2bb58c075%29%3B%0A%20%20%20%20%20%20%20%20%0A%0A%20%20%20%20%20%20%20%20marker_dd5f9b212f854d25a206e6b4f63dafe7.bindPopup%28popup_da6dce65022e4aadbeb21001c5e1893f%29%0A%20%20%20%20%20%20%20%20%3B%0A%0A%20%20%20%20%20%20%20%20%0A%20%20%20%20%0A%20%20%20%20%0A%20%20%20%20%20%20%20%20function%20geo_json_9caa546a4ca040a3a4ddf93a5885fccc_styler%28feature%29%20%7B%0A%20%20%20%20%20%20%20%20%20%20%20%20switch%28feature.id%29%20%7B%0A%20%20%20%20%20%20%20%20%20%20%20%20%20%20%20%20default%3A%0A%20%20%20%20%20%20%20%20%20%20%20%20%20%20%20%20%20%20%20%20return%20%7B%22fillColor%22%3A%20%22grey%22%7D%3B%0A%20%20%20%20%20%20%20%20%20%20%20%20%7D%0A%20%20%20%20%20%20%20%20%7D%0A%0A%20%20%20%20%20%20%20%20function%20geo_json_9caa546a4ca040a3a4ddf93a5885fccc_onEachFeature%28feature%2C%20layer%29%20%7B%0A%20%20%20%20%20%20%20%20%20%20%20%20layer.on%28%7B%0A%20%20%20%20%20%20%20%20%20%20%20%20%7D%29%3B%0A%20%20%20%20%20%20%20%20%7D%3B%0A%20%20%20%20%20%20%20%20var%20geo_json_9caa546a4ca040a3a4ddf93a5885fccc%20%3D%20L.geoJson%28null%2C%20%7B%0A%20%20%20%20%20%20%20%20%20%20%20%20%20%20%20%20onEachFeature%3A%20geo_json_9caa546a4ca040a3a4ddf93a5885fccc_onEachFeature%2C%0A%20%20%20%20%20%20%20%20%20%20%20%20%0A%20%20%20%20%20%20%20%20%20%20%20%20%20%20%20%20style%3A%20geo_json_9caa546a4ca040a3a4ddf93a5885fccc_styler%2C%0A%20%20%20%20%20%20%20%20%7D%29%3B%0A%0A%20%20%20%20%20%20%20%20function%20geo_json_9caa546a4ca040a3a4ddf93a5885fccc_add%20%28data%29%20%7B%0A%20%20%20%20%20%20%20%20%20%20%20%20geo_json_9caa546a4ca040a3a4ddf93a5885fccc%0A%20%20%20%20%20%20%20%20%20%20%20%20%20%20%20%20.addData%28data%29%0A%20%20%20%20%20%20%20%20%20%20%20%20%20%20%20%20.addTo%28map_8f851d2cf6724188b1524d5c6dd534fc%29%3B%0A%20%20%20%20%20%20%20%20%7D%0A%20%20%20%20%20%20%20%20%20%20%20%20geo_json_9caa546a4ca040a3a4ddf93a5885fccc_add%28%7B%22bbox%22%3A%20%5B13.41734321912372%2C%2052.53034067250837%2C%2013.41881678087628%2C%2052.53123932745733%5D%2C%20%22features%22%3A%20%5B%7B%22bbox%22%3A%20%5B13.41734321912372%2C%2052.53034067250837%2C%2013.41881678087628%2C%2052.53123932745733%5D%2C%20%22geometry%22%3A%20%7B%22coordinates%22%3A%20%5B%5B%5B13.41881678087628%2C%2052.53078999770705%5D%2C%20%5B13.41881323234147%2C%2052.53074595593481%5D%2C%20%5B13.41880262239951%2C%2052.53070233835199%5D%2C%20%5B13.41878505325026%2C%2052.53065956501792%5D%2C%20%5B13.41876069411294%2C%2052.53061804786017%5D%2C%20%5B13.41872977959578%2C%2052.53057818670755%5D%2C%20%5B13.41869260743594%2C%2052.53054036543982%5D%2C%20%5B13.41864953563164%2C%2052.53050494829078%5D%2C%20%5B13.41860097899407%2C%2052.53047227634078%5D%2C%20%5B13.41854740515226%2C%2052.5304426642322%5D%2C%20%5B13.41848933004952%2C%2052.53041639713941%5D%2C%20%5B13.41842731297468%2C%2052.53039372802274%5D%2C%20%5B13.41836195117607%2C%2052.53037487519252%5D%2C%20%5B13.41829387411005%2C%2052.53036002020681%5D%2C%20%5B13.4182237373796%2C%2052.53034930612319%5D%2C%20%5B13.41815221642104%2C%2052.53034283612111%5D%2C%20%5B13.41808%2C%2052.53034067250837%5D%2C%20%5B13.41800778357896%2C%2052.53034283612111%5D%2C%20%5B13.4179362626204%2C%2052.53034930612318%5D%2C%20%5B13.41786612588995%2C%2052.53036002020681%5D%2C%20%5B13.41779804882394%2C%2052.53037487519252%5D%2C%20%5B13.41773268702532%2C%2052.53039372802274%5D%2C%20%5B13.41767066995048%2C%2052.53041639713942%5D%2C%20%5B13.41761259484774%2C%2052.5304426642322%5D%2C%20%5B13.41755902100593%2C%2052.53047227634079%5D%2C%20%5B13.41751046436836%2C%2052.53050494829077%5D%2C%20%5B13.41746739256406%2C%2052.53054036543982%5D%2C%20%5B13.41743022040422%2C%2052.53057818670754%5D%2C%20%5B13.41739930588706%2C%2052.53061804786017%5D%2C%20%5B13.41737494674974%2C%2052.53065956501792%5D%2C%20%5B13.41735737760049%2C%2052.53070233835201%5D%2C%20%5B13.41734676765853%2C%2052.53074595593481%5D%2C%20%5B13.41734321912372%2C%2052.53078999770705%5D%2C%20%5B13.41734676619151%2C%2052.53083403952304%5D%2C%20%5B13.41735737472283%2C%2052.53087765723535%5D%2C%20%5B13.41737494257203%2C%2052.53092043077974%5D%2C%20%5B13.41739930056983%2C%2052.53096194822052%5D%2C%20%5B13.41743021415183%2C%2052.53100180971799%5D%2C%20%5B13.41746738561678%2C%2052.53103963137918%5D%2C%20%5B13.41751045699317%2C%2052.53107504895515%5D%2C%20%5B13.41755901348625%2C%2052.53110772134912%5D%2C%20%5B13.41761258747254%2C%2052.53113733390169%5D%2C%20%5B13.41767066300319%2C%2052.5311636014214%5D%2C%20%5B13.41773268077293%2C%2052.53118627093153%5D%2C%20%5B13.41779804350672%2C%2052.53120512410663%5D%2C%20%5B13.41786612171223%2C%2052.53121997937536%5D%2C%20%5B13.41793625974274%2C%2052.53123069366928%5D%2C%20%5B13.41800778211194%2C%2052.53123716380087%5D%2C%20%5B13.41808%2C%2052.53123932745733%5D%2C%20%5B13.41815221788806%2C%2052.53123716380087%5D%2C%20%5B13.41822374025726%2C%2052.53123069366928%5D%2C%20%5B13.41829387828776%2C%2052.53121997937536%5D%2C%20%5B13.41836195649328%2C%2052.53120512410662%5D%2C%20%5B13.41842731922707%2C%2052.53118627093153%5D%2C%20%5B13.4184893369968%2C%2052.5311636014214%5D%2C%20%5B13.41854741252746%2C%2052.53113733390169%5D%2C%20%5B13.41860098651375%2C%2052.53110772134912%5D%2C%20%5B13.41864954300683%2C%2052.53107504895514%5D%2C%20%5B13.41869261438322%2C%2052.53103963137918%5D%2C%20%5B13.41872978584817%2C%2052.53100180971799%5D%2C%20%5B13.41876069943017%2C%2052.53096194822052%5D%2C%20%5B13.41878505742797%2C%2052.53092043077974%5D%2C%20%5B13.41880262527717%2C%2052.53087765723535%5D%2C%20%5B13.41881323380849%2C%2052.53083403952303%5D%2C%20%5B13.41881678087628%2C%2052.53078999770705%5D%2C%20%5B13.41881678087628%2C%2052.53078999770705%5D%5D%5D%2C%20%22type%22%3A%20%22Polygon%22%7D%2C%20%22id%22%3A%20%220%22%2C%20%22properties%22%3A%20%7B%7D%2C%20%22type%22%3A%20%22Feature%22%7D%5D%2C%20%22type%22%3A%20%22FeatureCollection%22%7D%29%3B%0A%0A%20%20%20%20%20%20%20%20%0A%20%20%20%20%0A%20%20%20%20%20%20%20%20function%20geo_json_dfb263d6318741809d3df04d468ce3bb_styler%28feature%29%20%7B%0A%20%20%20%20%20%20%20%20%20%20%20%20switch%28feature.id%29%20%7B%0A%20%20%20%20%20%20%20%20%20%20%20%20%20%20%20%20default%3A%0A%20%20%20%20%20%20%20%20%20%20%20%20%20%20%20%20%20%20%20%20return%20%7B%22color%22%3A%20%22black%22%2C%20%22fillColor%22%3A%20%22black%22%7D%3B%0A%20%20%20%20%20%20%20%20%20%20%20%20%7D%0A%20%20%20%20%20%20%20%20%7D%0A%0A%20%20%20%20%20%20%20%20function%20geo_json_dfb263d6318741809d3df04d468ce3bb_onEachFeature%28feature%2C%20layer%29%20%7B%0A%20%20%20%20%20%20%20%20%20%20%20%20layer.on%28%7B%0A%20%20%20%20%20%20%20%20%20%20%20%20%7D%29%3B%0A%20%20%20%20%20%20%20%20%7D%3B%0A%20%20%20%20%20%20%20%20var%20geo_json_dfb263d6318741809d3df04d468ce3bb%20%3D%20L.geoJson%28null%2C%20%7B%0A%20%20%20%20%20%20%20%20%20%20%20%20%20%20%20%20onEachFeature%3A%20geo_json_dfb263d6318741809d3df04d468ce3bb_onEachFeature%2C%0A%20%20%20%20%20%20%20%20%20%20%20%20%0A%20%20%20%20%20%20%20%20%20%20%20%20%20%20%20%20style%3A%20geo_json_dfb263d6318741809d3df04d468ce3bb_styler%2C%0A%20%20%20%20%20%20%20%20%7D%29%3B%0A%0A%20%20%20%20%20%20%20%20function%20geo_json_dfb263d6318741809d3df04d468ce3bb_add%20%28data%29%20%7B%0A%20%20%20%20%20%20%20%20%20%20%20%20geo_json_dfb263d6318741809d3df04d468ce3bb%0A%20%20%20%20%20%20%20%20%20%20%20%20%20%20%20%20.addData%28data%29%0A%20%20%20%20%20%20%20%20%20%20%20%20%20%20%20%20.addTo%28map_8f851d2cf6724188b1524d5c6dd534fc%29%3B%0A%20%20%20%20%20%20%20%20%7D%0A%20%20%20%20%20%20%20%20%20%20%20%20geo_json_dfb263d6318741809d3df04d468ce3bb_add%28%7B%22bbox%22%3A%20%5B13.4181431%2C%2052.5302283%2C%2013.4184157%2C%2052.5304076%5D%2C%20%22features%22%3A%20%5B%7B%22bbox%22%3A%20%5B13.4181431%2C%2052.5302283%2C%2013.4184157%2C%2052.5304076%5D%2C%20%22geometry%22%3A%20%7B%22coordinates%22%3A%20%5B%5B%5B13.418242%2C%2052.5304076%5D%2C%20%5B13.4181431%2C%2052.5302843%5D%2C%20%5B13.4183175%2C%2052.5302283%5D%2C%20%5B13.4184157%2C%2052.5303513%5D%2C%20%5B13.418242%2C%2052.5304076%5D%5D%5D%2C%20%22type%22%3A%20%22Polygon%22%7D%2C%20%22id%22%3A%20%220%22%2C%20%22properties%22%3A%20%7B%7D%2C%20%22type%22%3A%20%22Feature%22%7D%5D%2C%20%22type%22%3A%20%22FeatureCollection%22%7D%29%3B%0A%0A%20%20%20%20%20%20%20%20%0A%3C/script%3E onload=\"this.contentDocument.open();this.contentDocument.write(    decodeURIComponent(this.getAttribute('data-html')));this.contentDocument.close();\" allowfullscreen webkitallowfullscreen mozallowfullscreen></iframe></div></div>"
      ],
      "text/plain": [
       "<folium.folium.Map at 0x7ffb10e82d90>"
      ]
     },
     "execution_count": 10,
     "metadata": {},
     "output_type": "execute_result"
    }
   ],
   "source": [
    "import folium\n",
    "from moredata.utils import geodesic_point_buffer\n",
    "from shapely.geometry.polygon import Polygon\n",
    "from shapely import wkt\n",
    "import geopandas as gpd\n",
    "from util import add_categorical_legend\n",
    "\n",
    "poi = df_enriched.loc[(~df_enriched['geometry_intersected'].isna())][['geometry_intersected', 'latitude', 'longitude']] \\\n",
    "                    .reset_index().iloc[[5]]\n",
    "\n",
    "polygon = wkt.loads(poi['geometry_intersected'][5][0])\n",
    "latitude = poi['latitude'].squeeze()\n",
    "longitude = poi['longitude'].squeeze()\n",
    "\n",
    "shp = Polygon(geodesic_point_buffer(latitude, longitude, 50))\n",
    "\n",
    "m = folium.Map(location=[latitude, longitude], zoom_start=17, tiles='CartoDB positron')\n",
    "folium.Marker(\n",
    "    [latitude, longitude], icon=folium.Icon(color=\"blue\"), popup='Point of Interest'\n",
    ").add_to(m)\n",
    "\n",
    "sim_geo = gpd.GeoSeries.from_wkt([shp.wkt])\n",
    "geo_j = sim_geo.to_json()\n",
    "\n",
    "geo_j = folium.GeoJson(data=geo_j,\n",
    "                        style_function=lambda x: {'fillColor': 'grey'})\n",
    "geo_j.add_to(m)\n",
    "    \n",
    "sim_geo = gpd.GeoSeries(polygon)\n",
    "geo_j = sim_geo.to_json()\n",
    "\n",
    "geo_j = folium.GeoJson(data=geo_j,\n",
    "                       style_function=lambda x: {'fillColor': 'black', 'color': 'black'})\n",
    "geo_j.add_to(m)\n",
    "\n",
    "m = add_categorical_legend(m, 'Polygons',\n",
    "                             colors = ['blue','black'],\n",
    "                           labels = ['Point of Interest', 'Tourism Place'])\n",
    "\n",
    "m"
   ]
  },
  {
   "cell_type": "code",
   "execution_count": null,
   "metadata": {},
   "outputs": [],
   "source": []
  }
 ],
 "metadata": {
  "interpreter": {
   "hash": "d0916ef1ae973d5ca758704f7f8aa51ef7f2398de006767222122569067b7b7c"
  },
  "kernelspec": {
   "display_name": "Python 3.8.13 ('moredata-dev')",
   "language": "python",
   "name": "python3"
  },
  "language_info": {
   "codemirror_mode": {
    "name": "ipython",
    "version": 3
   },
   "file_extension": ".py",
   "mimetype": "text/x-python",
   "name": "python",
   "nbconvert_exporter": "python",
   "pygments_lexer": "ipython3",
   "version": "3.8.13"
  }
 },
 "nbformat": 4,
 "nbformat_minor": 4
}
