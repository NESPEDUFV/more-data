{
 "cells": [
  {
   "cell_type": "code",
   "execution_count": 3,
   "metadata": {},
   "outputs": [
    {
     "name": "stderr",
     "output_type": "stream",
     "text": [
      "/home/thomas/anaconda3/envs/moredata-dev/lib/python3.8/site-packages/IPython/core/interactiveshell.py:3417: DtypeWarning: Columns (0,22,36,41,45,46,55) have mixed types.Specify dtype option on import or set low_memory=False.\n",
      "  exec(code_obj, self.user_global_ns, self.user_ns)\n"
     ]
    }
   ],
   "source": [
    "from moredata.datasets import get_path\n",
    "from moredata import Converter\n",
    "import pandas as pd\n",
    "\n",
    "df = pd.read_csv(get_path(\"airbnb-berlin\"))\n",
    "df = df.loc[(~df['latitude'].isna()) & (~df['longitude'].isna())]\n",
    "df.to_json('./data/airbnb-berlin.json', orient='records')"
   ]
  },
  {
   "cell_type": "code",
   "execution_count": 4,
   "metadata": {
    "pycharm": {
     "name": "#%%\n"
    }
   },
   "outputs": [
    {
     "ename": "TypeError",
     "evalue": "__init__() got an unexpected keyword argument 'data_type'",
     "output_type": "error",
     "traceback": [
      "\u001b[0;31m---------------------------------------------------------------------------\u001b[0m",
      "\u001b[0;31mTypeError\u001b[0m                                 Traceback (most recent call last)",
      "\u001b[0;32m<ipython-input-4-7016b1c23a66>\u001b[0m in \u001b[0;36m<module>\u001b[0;34m\u001b[0m\n\u001b[1;32m      1\u001b[0m \u001b[0;32mimport\u001b[0m \u001b[0mmoredata\u001b[0m\u001b[0;34m\u001b[0m\u001b[0;34m\u001b[0m\u001b[0m\n\u001b[1;32m      2\u001b[0m \u001b[0;34m\u001b[0m\u001b[0m\n\u001b[0;32m----> 3\u001b[0;31m \u001b[0mdata\u001b[0m \u001b[0;34m=\u001b[0m \u001b[0mmoredata\u001b[0m\u001b[0;34m.\u001b[0m\u001b[0mmodels\u001b[0m\u001b[0;34m.\u001b[0m\u001b[0mJsonData\u001b[0m\u001b[0;34m(\u001b[0m\u001b[0mdata_file\u001b[0m\u001b[0;34m=\u001b[0m\u001b[0;34m'./data/airbnb-berlin.json'\u001b[0m\u001b[0;34m,\u001b[0m\u001b[0mparser\u001b[0m\u001b[0;34m=\u001b[0m\u001b[0mmoredata\u001b[0m\u001b[0;34m.\u001b[0m\u001b[0mparser\u001b[0m\u001b[0;34m.\u001b[0m\u001b[0mparse_document\u001b[0m\u001b[0;34m,\u001b[0m\u001b[0mdata_type\u001b[0m\u001b[0;34m=\u001b[0m\u001b[0;34m'json'\u001b[0m\u001b[0;34m)\u001b[0m\u001b[0;34m\u001b[0m\u001b[0;34m\u001b[0m\u001b[0m\n\u001b[0m\u001b[1;32m      4\u001b[0m \u001b[0;34m\u001b[0m\u001b[0m\n\u001b[1;32m      5\u001b[0m \u001b[0mosm_enricher\u001b[0m \u001b[0;34m=\u001b[0m \u001b[0mmoredata\u001b[0m\u001b[0;34m.\u001b[0m\u001b[0menricher\u001b[0m\u001b[0;34m.\u001b[0m\u001b[0mosm\u001b[0m\u001b[0;34m.\u001b[0m\u001b[0mOSMPlacesConnector\u001b[0m\u001b[0;34m(\u001b[0m\u001b[0mplace_name\u001b[0m\u001b[0;34m=\u001b[0m\u001b[0;34m\"Berlin, DE\"\u001b[0m\u001b[0;34m,\u001b[0m \u001b[0mfiles\u001b[0m\u001b[0;34m=\u001b[0m\u001b[0;34m[\u001b[0m\u001b[0;34m'./data/tourism.csv.gz'\u001b[0m\u001b[0;34m]\u001b[0m\u001b[0;34m,\u001b[0m \u001b[0mradius\u001b[0m\u001b[0;34m=\u001b[0m\u001b[0;36m50\u001b[0m\u001b[0;34m,\u001b[0m \u001b[0mgeometry_intersected\u001b[0m\u001b[0;34m=\u001b[0m\u001b[0;32mTrue\u001b[0m\u001b[0;34m)\u001b[0m\u001b[0;34m\u001b[0m\u001b[0;34m\u001b[0m\u001b[0m\n",
      "\u001b[0;31mTypeError\u001b[0m: __init__() got an unexpected keyword argument 'data_type'"
     ]
    }
   ],
   "source": [
    "import moredata\n",
    "\n",
    "data = moredata.models.JsonData(data_file='./data/airbnb-berlin.json',parser=moredata.parser.parse_document)\n",
    "\n",
    "osm_enricher = moredata.enricher.osm.OSMPlacesConnector(place_name=\"Berlin, DE\", files=['./data/tourism.csv.gz'], radius=50, geometry_intersected=True)\n",
    "\n",
    "data_enriched = osm_enricher.enrich(data)\n",
    "\n",
    "moredata.utils.write_json_generator_to_json(\"./data/airbnb-berlin-enriched\", data_enriched, 100000)"
   ]
  },
  {
   "cell_type": "code",
   "execution_count": null,
   "metadata": {
    "pycharm": {
     "name": "#%%\n"
    }
   },
   "outputs": [],
   "source": [
    "import pandas as pd\n",
    "df_enriched = pd.read_json('./data/airbnb-berlin-enriched-0.json', orient='records')"
   ]
  },
  {
   "cell_type": "code",
   "execution_count": null,
   "metadata": {},
   "outputs": [],
   "source": [
    "df_enriched.loc[(~df_enriched['local'].isna()) & (~df_enriched['geometry_intersected'].isna()), 'near_tourism_places'] = 'Yes'\n",
    "df_enriched['near_tourism_places'] = df_enriched['near_tourism_places'].fillna('No')"
   ]
  },
  {
   "cell_type": "code",
   "execution_count": null,
   "metadata": {},
   "outputs": [],
   "source": [
    "df_enriched['price'] = df_enriched['price'].apply(lambda x: float(x.replace('$', '').replace(',', '')))"
   ]
  },
  {
   "cell_type": "code",
   "execution_count": 8,
   "metadata": {},
   "outputs": [
    {
     "data": {
      "text/plain": [
       "count    19858.000000\n",
       "mean        70.776866\n",
       "std        120.384857\n",
       "min          0.000000\n",
       "25%         35.000000\n",
       "50%         50.000000\n",
       "75%         80.000000\n",
       "max       8000.000000\n",
       "Name: price, dtype: float64"
      ]
     },
     "execution_count": 8,
     "metadata": {},
     "output_type": "execute_result"
    }
   ],
   "source": [
    "df_enriched['price'].describe()"
   ]
  },
  {
   "cell_type": "code",
   "execution_count": 9,
   "metadata": {
    "scrolled": true
   },
   "outputs": [
    {
     "data": {
      "image/png": "[encoded data removed]",
      "text/plain": [
       "<Figure size 432x288 with 1 Axes>"
      ]
     },
     "metadata": {
      "needs_background": "light"
     },
     "output_type": "display_data"
    }
   ],
   "source": [
    "import seaborn as sns\n",
    "import matplotlib.pyplot as plt\n",
    "sns.barplot(y=\"price\", x=\"near_tourism_places\", data=df_enriched)\n",
    "plt.show()"
   ]
  },
  {
   "cell_type": "code",
   "execution_count": 10,
   "metadata": {},
   "outputs": [
    {
     "data": {
      "text/html": [
       "<div style=\"width:100%;\"><div style=\"position:relative;width:100%;height:0;padding-bottom:60%;\"><span style=\"color:#565656\">Make this Notebook Trusted to load map: File -> Trust Notebook</span><iframe src=\"about:blank\" style=\"position:absolute;width:100%;height:100%;left:0;top:0;border:none !important;\" data-html=%3C%21DOCTYPE%20html%3E%0A%3Chead%3E%20%20%20%20%0A%20%20%20%20%3Cmeta%20http-equiv%3D%22content-type%22%20content%3D%22text/html%3B%20charset%3DUTF-8%22%20/%3E%0A%20%20%20%20%0A%20%20%20%20%20%20%20%20%3Cscript%20type%3D%22text/javascript%22%3E%0A%20%20%20%20%20%20%20%20var%20oneTimeExecution%20%3D%20%28function%28%29%20%7B%0A%20%20%20%20%20%20%20%20%20%20%20%20%20%20%20%20%20%20%20%20var%20executed%20%3D%20false%3B%0A%20%20%20%20%20%20%20%20%20%20%20%20%20%20%20%20%20%20%20%20return%20function%28%29%20%7B%0A%20%20%20%20%20%20%20%20%20%20%20%20%20%20%20%20%20%20%20%20%20%20%20%20if%20%28%21executed%29%20%7B%0A%20%20%20%20%20%20%20%20%20%20%20%20%20%20%20%20%20%20%20%20%20%20%20%20%20%20%20%20%20var%20checkExist%20%3D%20setInterval%28function%28%29%20%7B%0A%20%20%20%20%20%20%20%20%20%20%20%20%20%20%20%20%20%20%20%20%20%20%20%20%20%20%20%20%20%20%20%20%20%20%20%20%20%20%20if%20%28%28document.getElementsByClassName%28%27leaflet-top%20leaflet-right%27%29.length%29%20%7C%7C%20%28%21executed%29%29%20%7B%0A%20%20%20%20%20%20%20%20%20%20%20%20%20%20%20%20%20%20%20%20%20%20%20%20%20%20%20%20%20%20%20%20%20%20%20%20%20%20%20%20%20%20document.getElementsByClassName%28%27leaflet-top%20leaflet-right%27%29%5B0%5D.style.display%20%3D%20%22flex%22%0A%20%20%20%20%20%20%20%20%20%20%20%20%20%20%20%20%20%20%20%20%20%20%20%20%20%20%20%20%20%20%20%20%20%20%20%20%20%20%20%20%20%20document.getElementsByClassName%28%27leaflet-top%20leaflet-right%27%29%5B0%5D.style.flexDirection%20%3D%20%22column%22%0A%20%20%20%20%20%20%20%20%20%20%20%20%20%20%20%20%20%20%20%20%20%20%20%20%20%20%20%20%20%20%20%20%20%20%20%20%20%20%20%20%20%20document.getElementsByClassName%28%27leaflet-top%20leaflet-right%27%29%5B0%5D.innerHTML%20%2B%3D%20%60%0A%20%20%20%20%3Cdiv%20id%3D%27maplegend%27%20class%3D%27maplegend%27%3E%0A%20%20%20%20%20%20%3Cdiv%20class%3D%27legend-title%27%3EPolygons%3C/div%3E%0A%20%20%20%20%20%20%3Cdiv%20class%3D%27legend-scale%27%3E%0A%20%20%20%20%20%20%20%20%3Cul%20class%3D%27legend-labels%27%3E%0A%20%20%20%20%20%20%20%20%3Cli%3E%3Cspan%20style%3D%27background%3Ablue%27%3E%3C/span%3EPoint%20of%20Interest%3C/li%3E%3Cli%3E%3Cspan%20style%3D%27background%3Ablack%27%3E%3C/span%3ETourism%20Place%3C/li%3E%0A%20%20%20%20%20%20%20%20%3C/ul%3E%0A%20%20%20%20%20%20%3C/div%3E%0A%20%20%20%20%3C/div%3E%0A%20%20%20%20%60%3B%0A%20%20%20%20%20%20%20%20%20%20%20%20%20%20%20%20%20%20%20%20%20%20%20%20%20%20%20%20%20%20%20%20%20%20%20%20%20%20%20%20%20%20clearInterval%28checkExist%29%3B%0A%20%20%20%20%20%20%20%20%20%20%20%20%20%20%20%20%20%20%20%20%20%20%20%20%20%20%20%20%20%20%20%20%20%20%20%20%20%20%20%20%20%20executed%20%3D%20true%3B%0A%20%20%20%20%20%20%20%20%20%20%20%20%20%20%20%20%20%20%20%20%20%20%20%20%20%20%20%20%20%20%20%20%20%20%20%20%20%20%20%7D%0A%20%20%20%20%20%20%20%20%20%20%20%20%20%20%20%20%20%20%20%20%20%20%20%20%20%20%20%20%20%20%20%20%20%20%20%20%7D%2C%20100%29%3B%0A%20%20%20%20%20%20%20%20%20%20%20%20%20%20%20%20%20%20%20%20%20%20%20%20%7D%0A%20%20%20%20%20%20%20%20%20%20%20%20%20%20%20%20%20%20%20%20%7D%3B%0A%20%20%20%20%20%20%20%20%20%20%20%20%20%20%20%20%7D%29%28%29%3B%0A%20%20%20%20%20%20%20%20oneTimeExecution%28%29%0A%20%20%20%20%20%20%20%20%3C/script%3E%0A%20%20%20%20%20%20%0A%0A%20%20%20%20%3Cstyle%20type%3D%27text/css%27%3E%0A%20%20%20%20%20%20.maplegend%20%7B%0A%20%20%20%20%20%20%20%20z-index%3A9999%3B%0A%20%20%20%20%20%20%20%20float%3Aleft%3B%0A%20%20%20%20%20%20%20%20background-color%3A%20rgba%28255%2C%20255%2C%20255%2C%201%29%3B%0A%20%20%20%20%20%20%20%20border-radius%3A%2010px%3B%0A%20%20%20%20%20%20%20%20border%3A%202px%20solid%20%23bbb%3B%0A%20%20%20%20%20%20%20%20padding%3A%2010px%3B%0A%20%20%20%20%20%20%20%20font-size%3A12px%3B%0A%20%20%20%20%20%20%20%20position%3A%20center%3B%0A%20%20%20%20%20%20%7D%0A%20%20%20%20%20%20.maplegend%20.legend-title%20%7B%0A%20%20%20%20%20%20%20%20text-align%3A%20left%3B%0A%20%20%20%20%20%20%20%20margin-bottom%3A%205px%3B%0A%20%20%20%20%20%20%20%20font-weight%3A%20bold%3B%0A%20%20%20%20%20%20%20%20font-size%3A%2090%25%3B%0A%20%20%20%20%20%20%20%20%7D%0A%20%20%20%20%20%20.maplegend%20.legend-scale%20ul%20%7B%0A%20%20%20%20%20%20%20%20margin%3A%200%3B%0A%20%20%20%20%20%20%20%20margin-bottom%3A%205px%3B%0A%20%20%20%20%20%20%20%20padding%3A%200%3B%0A%20%20%20%20%20%20%20%20float%3A%20left%3B%0A%20%20%20%20%20%20%20%20list-style%3A%20none%3B%0A%20%20%20%20%20%20%20%20%7D%0A%20%20%20%20%20%20.maplegend%20.legend-scale%20ul%20li%20%7B%0A%20%20%20%20%20%20%20%20font-size%3A%2080%25%3B%0A%20%20%20%20%20%20%20%20list-style%3A%20none%3B%0A%20%20%20%20%20%20%20%20margin-left%3A%200%3B%0A%20%20%20%20%20%20%20%20line-height%3A%2018px%3B%0A%20%20%20%20%20%20%20%20margin-bottom%3A%202px%3B%0A%20%20%20%20%20%20%20%20%7D%0A%20%20%20%20%20%20.maplegend%20ul.legend-labels%20li%20span%20%7B%0A%20%20%20%20%20%20%20%20display%3A%20block%3B%0A%20%20%20%20%20%20%20%20float%3A%20left%3B%0A%20%20%20%20%20%20%20%20height%3A%2016px%3B%0A%20%20%20%20%20%20%20%20width%3A%2030px%3B%0A%20%20%20%20%20%20%20%20margin-right%3A%205px%3B%0A%20%20%20%20%20%20%20%20margin-left%3A%200%3B%0A%20%20%20%20%20%20%20%20border%3A%200px%20solid%20%23ccc%3B%0A%20%20%20%20%20%20%20%20%7D%0A%20%20%20%20%20%20.maplegend%20.legend-source%20%7B%0A%20%20%20%20%20%20%20%20font-size%3A%2080%25%3B%0A%20%20%20%20%20%20%20%20color%3A%20%23777%3B%0A%20%20%20%20%20%20%20%20clear%3A%20both%3B%0A%20%20%20%20%20%20%20%20%7D%0A%20%20%20%20%20%20.maplegend%20a%20%7B%0A%20%20%20%20%20%20%20%20color%3A%20%23777%3B%0A%20%20%20%20%20%20%20%20%7D%0A%20%20%20%20%3C/style%3E%0A%20%20%20%20%0A%20%20%20%20%0A%20%20%20%20%20%20%20%20%3Cscript%3E%0A%20%20%20%20%20%20%20%20%20%20%20%20L_NO_TOUCH%20%3D%20false%3B%0A%20%20%20%20%20%20%20%20%20%20%20%20L_DISABLE_3D%20%3D%20false%3B%0A%20%20%20%20%20%20%20%20%3C/script%3E%0A%20%20%20%20%0A%20%20%20%20%3Cstyle%3Ehtml%2C%20body%20%7Bwidth%3A%20100%25%3Bheight%3A%20100%25%3Bmargin%3A%200%3Bpadding%3A%200%3B%7D%3C/style%3E%0A%20%20%20%20%3Cstyle%3E%23map%20%7Bposition%3Aabsolute%3Btop%3A0%3Bbottom%3A0%3Bright%3A0%3Bleft%3A0%3B%7D%3C/style%3E%0A%20%20%20%20%3Cscript%20src%3D%22https%3A//cdn.jsdelivr.net/npm/leaflet%401.6.0/dist/leaflet.js%22%3E%3C/script%3E%0A%20%20%20%20%3Cscript%20src%3D%22https%3A//code.jquery.com/jquery-1.12.4.min.js%22%3E%3C/script%3E%0A%20%20%20%20%3Cscript%20src%3D%22https%3A//maxcdn.bootstrapcdn.com/bootstrap/3.2.0/js/bootstrap.min.js%22%3E%3C/script%3E%0A%20%20%20%20%3Cscript%20src%3D%22https%3A//cdnjs.cloudflare.com/ajax/libs/Leaflet.awesome-markers/2.0.2/leaflet.awesome-markers.js%22%3E%3C/script%3E%0A%20%20%20%20%3Clink%20rel%3D%22stylesheet%22%20href%3D%22https%3A//cdn.jsdelivr.net/npm/leaflet%401.6.0/dist/leaflet.css%22/%3E%0A%20%20%20%20%3Clink%20rel%3D%22stylesheet%22%20href%3D%22https%3A//maxcdn.bootstrapcdn.com/bootstrap/3.2.0/css/bootstrap.min.css%22/%3E%0A%20%20%20%20%3Clink%20rel%3D%22stylesheet%22%20href%3D%22https%3A//maxcdn.bootstrapcdn.com/bootstrap/3.2.0/css/bootstrap-theme.min.css%22/%3E%0A%20%20%20%20%3Clink%20rel%3D%22stylesheet%22%20href%3D%22https%3A//maxcdn.bootstrapcdn.com/font-awesome/4.6.3/css/font-awesome.min.css%22/%3E%0A%20%20%20%20%3Clink%20rel%3D%22stylesheet%22%20href%3D%22https%3A//cdnjs.cloudflare.com/ajax/libs/Leaflet.awesome-markers/2.0.2/leaflet.awesome-markers.css%22/%3E%0A%20%20%20%20%3Clink%20rel%3D%22stylesheet%22%20href%3D%22https%3A//cdn.jsdelivr.net/gh/python-visualization/folium/folium/templates/leaflet.awesome.rotate.min.css%22/%3E%0A%20%20%20%20%0A%20%20%20%20%20%20%20%20%20%20%20%20%3Cmeta%20name%3D%22viewport%22%20content%3D%22width%3Ddevice-width%2C%0A%20%20%20%20%20%20%20%20%20%20%20%20%20%20%20%20initial-scale%3D1.0%2C%20maximum-scale%3D1.0%2C%20user-scalable%3Dno%22%20/%3E%0A%20%20%20%20%20%20%20%20%20%20%20%20%3Cstyle%3E%0A%20%20%20%20%20%20%20%20%20%20%20%20%20%20%20%20%23map_f8661fc4a6da4912bdea46d2cc73a22b%20%7B%0A%20%20%20%20%20%20%20%20%20%20%20%20%20%20%20%20%20%20%20%20position%3A%20relative%3B%0A%20%20%20%20%20%20%20%20%20%20%20%20%20%20%20%20%20%20%20%20width%3A%20100.0%25%3B%0A%20%20%20%20%20%20%20%20%20%20%20%20%20%20%20%20%20%20%20%20height%3A%20100.0%25%3B%0A%20%20%20%20%20%20%20%20%20%20%20%20%20%20%20%20%20%20%20%20left%3A%200.0%25%3B%0A%20%20%20%20%20%20%20%20%20%20%20%20%20%20%20%20%20%20%20%20top%3A%200.0%25%3B%0A%20%20%20%20%20%20%20%20%20%20%20%20%20%20%20%20%7D%0A%20%20%20%20%20%20%20%20%20%20%20%20%3C/style%3E%0A%20%20%20%20%20%20%20%20%0A%3C/head%3E%0A%3Cbody%3E%20%20%20%20%0A%20%20%20%20%0A%20%20%20%20%20%20%20%20%20%20%20%20%3Cdiv%20class%3D%22folium-map%22%20id%3D%22map_f8661fc4a6da4912bdea46d2cc73a22b%22%20%3E%3C/div%3E%0A%20%20%20%20%20%20%20%20%0A%3C/body%3E%0A%3Cscript%3E%20%20%20%20%0A%20%20%20%20%0A%20%20%20%20%20%20%20%20%20%20%20%20var%20map_f8661fc4a6da4912bdea46d2cc73a22b%20%3D%20L.map%28%0A%20%20%20%20%20%20%20%20%20%20%20%20%20%20%20%20%22map_f8661fc4a6da4912bdea46d2cc73a22b%22%2C%0A%20%20%20%20%20%20%20%20%20%20%20%20%20%20%20%20%7B%0A%20%20%20%20%20%20%20%20%20%20%20%20%20%20%20%20%20%20%20%20center%3A%20%5B52.50484%2C%2013.43485%5D%2C%0A%20%20%20%20%20%20%20%20%20%20%20%20%20%20%20%20%20%20%20%20crs%3A%20L.CRS.EPSG3857%2C%0A%20%20%20%20%20%20%20%20%20%20%20%20%20%20%20%20%20%20%20%20zoom%3A%2017%2C%0A%20%20%20%20%20%20%20%20%20%20%20%20%20%20%20%20%20%20%20%20zoomControl%3A%20true%2C%0A%20%20%20%20%20%20%20%20%20%20%20%20%20%20%20%20%20%20%20%20preferCanvas%3A%20false%2C%0A%20%20%20%20%20%20%20%20%20%20%20%20%20%20%20%20%7D%0A%20%20%20%20%20%20%20%20%20%20%20%20%29%3B%0A%0A%20%20%20%20%20%20%20%20%20%20%20%20%0A%0A%20%20%20%20%20%20%20%20%0A%20%20%20%20%0A%20%20%20%20%20%20%20%20%20%20%20%20var%20tile_layer_4895827e501e45d4870be955da8710b2%20%3D%20L.tileLayer%28%0A%20%20%20%20%20%20%20%20%20%20%20%20%20%20%20%20%22https%3A//cartodb-basemaps-%7Bs%7D.global.ssl.fastly.net/light_all/%7Bz%7D/%7Bx%7D/%7By%7D.png%22%2C%0A%20%20%20%20%20%20%20%20%20%20%20%20%20%20%20%20%7B%22attribution%22%3A%20%22%5Cu0026copy%3B%20%5Cu003ca%20href%3D%5C%22http%3A//www.openstreetmap.org/copyright%5C%22%5Cu003eOpenStreetMap%5Cu003c/a%5Cu003e%20contributors%20%5Cu0026copy%3B%20%5Cu003ca%20href%3D%5C%22http%3A//cartodb.com/attributions%5C%22%5Cu003eCartoDB%5Cu003c/a%5Cu003e%2C%20CartoDB%20%5Cu003ca%20href%20%3D%5C%22http%3A//cartodb.com/attributions%5C%22%5Cu003eattributions%5Cu003c/a%5Cu003e%22%2C%20%22detectRetina%22%3A%20false%2C%20%22maxNativeZoom%22%3A%2018%2C%20%22maxZoom%22%3A%2018%2C%20%22minZoom%22%3A%200%2C%20%22noWrap%22%3A%20false%2C%20%22opacity%22%3A%201%2C%20%22subdomains%22%3A%20%22abc%22%2C%20%22tms%22%3A%20false%7D%0A%20%20%20%20%20%20%20%20%20%20%20%20%29.addTo%28map_f8661fc4a6da4912bdea46d2cc73a22b%29%3B%0A%20%20%20%20%20%20%20%20%0A%20%20%20%20%0A%20%20%20%20%20%20%20%20%20%20%20%20var%20marker_945cd23ac44241b5af2f458bcc02e573%20%3D%20L.marker%28%0A%20%20%20%20%20%20%20%20%20%20%20%20%20%20%20%20%5B52.50484%2C%2013.43485%5D%2C%0A%20%20%20%20%20%20%20%20%20%20%20%20%20%20%20%20%7B%7D%0A%20%20%20%20%20%20%20%20%20%20%20%20%29.addTo%28map_f8661fc4a6da4912bdea46d2cc73a22b%29%3B%0A%20%20%20%20%20%20%20%20%0A%20%20%20%20%0A%20%20%20%20%20%20%20%20%20%20%20%20var%20icon_dfa506ea30fc4b03865f0ce3cb55c689%20%3D%20L.AwesomeMarkers.icon%28%0A%20%20%20%20%20%20%20%20%20%20%20%20%20%20%20%20%7B%22extraClasses%22%3A%20%22fa-rotate-0%22%2C%20%22icon%22%3A%20%22info-sign%22%2C%20%22iconColor%22%3A%20%22white%22%2C%20%22markerColor%22%3A%20%22blue%22%2C%20%22prefix%22%3A%20%22glyphicon%22%7D%0A%20%20%20%20%20%20%20%20%20%20%20%20%29%3B%0A%20%20%20%20%20%20%20%20%20%20%20%20marker_945cd23ac44241b5af2f458bcc02e573.setIcon%28icon_dfa506ea30fc4b03865f0ce3cb55c689%29%3B%0A%20%20%20%20%20%20%20%20%0A%20%20%20%20%0A%20%20%20%20%20%20%20%20var%20popup_160457386c084a00bf71edad9522a393%20%3D%20L.popup%28%7B%22maxWidth%22%3A%20%22100%25%22%7D%29%3B%0A%0A%20%20%20%20%20%20%20%20%0A%20%20%20%20%20%20%20%20%20%20%20%20var%20html_79c8e0b847bd4cacbb15d510e2813a2b%20%3D%20%24%28%60%3Cdiv%20id%3D%22html_79c8e0b847bd4cacbb15d510e2813a2b%22%20style%3D%22width%3A%20100.0%25%3B%20height%3A%20100.0%25%3B%22%3EPoint%20of%20Interest%3C/div%3E%60%29%5B0%5D%3B%0A%20%20%20%20%20%20%20%20%20%20%20%20popup_160457386c084a00bf71edad9522a393.setContent%28html_79c8e0b847bd4cacbb15d510e2813a2b%29%3B%0A%20%20%20%20%20%20%20%20%0A%0A%20%20%20%20%20%20%20%20marker_945cd23ac44241b5af2f458bcc02e573.bindPopup%28popup_160457386c084a00bf71edad9522a393%29%0A%20%20%20%20%20%20%20%20%3B%0A%0A%20%20%20%20%20%20%20%20%0A%20%20%20%20%0A%20%20%20%20%0A%20%20%20%20%20%20%20%20function%20geo_json_88851c5ef5014ecdab8a03e7836502e7_styler%28feature%29%20%7B%0A%20%20%20%20%20%20%20%20%20%20%20%20switch%28feature.id%29%20%7B%0A%20%20%20%20%20%20%20%20%20%20%20%20%20%20%20%20default%3A%0A%20%20%20%20%20%20%20%20%20%20%20%20%20%20%20%20%20%20%20%20return%20%7B%22fillColor%22%3A%20%22grey%22%7D%3B%0A%20%20%20%20%20%20%20%20%20%20%20%20%7D%0A%20%20%20%20%20%20%20%20%7D%0A%0A%20%20%20%20%20%20%20%20function%20geo_json_88851c5ef5014ecdab8a03e7836502e7_onEachFeature%28feature%2C%20layer%29%20%7B%0A%20%20%20%20%20%20%20%20%20%20%20%20layer.on%28%7B%0A%20%20%20%20%20%20%20%20%20%20%20%20%7D%29%3B%0A%20%20%20%20%20%20%20%20%7D%3B%0A%20%20%20%20%20%20%20%20var%20geo_json_88851c5ef5014ecdab8a03e7836502e7%20%3D%20L.geoJson%28null%2C%20%7B%0A%20%20%20%20%20%20%20%20%20%20%20%20%20%20%20%20onEachFeature%3A%20geo_json_88851c5ef5014ecdab8a03e7836502e7_onEachFeature%2C%0A%20%20%20%20%20%20%20%20%20%20%20%20%0A%20%20%20%20%20%20%20%20%20%20%20%20%20%20%20%20style%3A%20geo_json_88851c5ef5014ecdab8a03e7836502e7_styler%2C%0A%20%20%20%20%20%20%20%20%7D%29%3B%0A%0A%20%20%20%20%20%20%20%20function%20geo_json_88851c5ef5014ecdab8a03e7836502e7_add%20%28data%29%20%7B%0A%20%20%20%20%20%20%20%20%20%20%20%20geo_json_88851c5ef5014ecdab8a03e7836502e7%0A%20%20%20%20%20%20%20%20%20%20%20%20%20%20%20%20.addData%28data%29%0A%20%20%20%20%20%20%20%20%20%20%20%20%20%20%20%20.addTo%28map_f8661fc4a6da4912bdea46d2cc73a22b%29%3B%0A%20%20%20%20%20%20%20%20%7D%0A%20%20%20%20%20%20%20%20%20%20%20%20geo_json_88851c5ef5014ecdab8a03e7836502e7_add%28%7B%22bbox%22%3A%20%5B13.43411365307588%2C%2052.50439067052645%2C%2013.43558634692412%2C%2052.50528932943925%5D%2C%20%22features%22%3A%20%5B%7B%22bbox%22%3A%20%5B13.43411365307588%2C%2052.50439067052645%2C%2013.43558634692412%2C%2052.50528932943925%5D%2C%20%22geometry%22%3A%20%7B%22coordinates%22%3A%20%5B%5B%5B13.43558634692412%2C%2052.5048399977092%5D%2C%20%5B13.43558280048003%2C%2052.50479595574267%5D%2C%20%5B13.43557219678782%2C%2052.50475233796739%5D%2C%20%5B13.43555463798712%2C%2052.50470956444457%5D%2C%20%5B13.43553029319748%2C%2052.50466804710354%5D%2C%20%5B13.43549939688891%2C%2052.50462818577494%5D%2C%20%5B13.43546224662321%2C%2052.50459036434018%5D%2C%20%5B13.43541920018771%2C%2052.50455494703474%5D%2C%20%5B13.43537067214928%2C%2052.50452227494043%5D%2C%20%5B13.43531712986154%2C%2052.50449266270102%5D%2C%20%5B13.43525908896392%2C%2052.50446639549217%5D%2C%20%5B13.43519710841581%2C%2052.5044437262753%5D%2C%20%5B13.43513178511381%2C%2052.50442487336176%5D%2C%20%5B13.43506374814357%2C%2052.5044100183104%5D%2C%20%5B13.43499365272193%2C%2052.50439930417942%5D%2C%20%5B13.43492217388741%2C%2052.50439283414875%5D%2C%20%5B13.43485%2C%2052.50439067052645%5D%2C%20%5B13.43477782611259%2C%2052.50439283414875%5D%2C%20%5B13.43470634727807%2C%2052.50439930417942%5D%2C%20%5B13.43463625185642%2C%2052.50441001831039%5D%2C%20%5B13.43456821488619%2C%2052.50442487336176%5D%2C%20%5B13.43450289158419%2C%2052.50444372627531%5D%2C%20%5B13.43444091103608%2C%2052.50446639549217%5D%2C%20%5B13.43438287013846%2C%2052.50449266270101%5D%2C%20%5B13.43432932785072%2C%2052.50452227494043%5D%2C%20%5B13.43428079981229%2C%2052.50455494703474%5D%2C%20%5B13.4342377533768%2C%2052.50459036434018%5D%2C%20%5B13.43420060311109%2C%2052.50462818577494%5D%2C%20%5B13.43416970680252%2C%2052.50466804710354%5D%2C%20%5B13.43414536201288%2C%2052.50470956444457%5D%2C%20%5B13.43412780321219%2C%2052.5047523379674%5D%2C%20%5B13.43411719951998%2C%2052.50479595574267%5D%2C%20%5B13.43411365307588%2C%2052.5048399977092%5D%2C%20%5B13.43411719805519%2C%2052.50488403971941%5D%2C%20%5B13.43412780033891%2C%2052.50492765762406%5D%2C%20%5B13.43414535784153%2C%2052.50497043135701%5D%2C%20%5B13.43416970149341%2C%2052.50501194898079%5D%2C%20%5B13.43420059686822%2C%2052.50505181065392%5D%2C%20%5B13.4342377464401%2C%2052.50508963248176%5D%2C%20%5B13.43428079244834%2C%2052.50512505021374%5D%2C%20%5B13.4343293203425%2C%2052.50515772275161%5D%2C%20%5B13.43438286277451%2C%2052.50518733543459%5D%2C%20%5B13.4344409040994%2C%2052.50521360306995%5D%2C%20%5B13.43450288534133%2C%2052.50523627267989%5D%2C%20%5B13.43456820957707%2C%2052.50525512593799%5D%2C%20%5B13.43463624768508%2C%2052.50526998127211%5D%2C%20%5B13.4347063444048%2C%2052.50528069561319%5D%2C%20%5B13.43477782464781%2C%2052.50528716577326%5D%2C%20%5B13.43485%2C%2052.50528932943925%5D%2C%20%5B13.4349221753522%2C%2052.50528716577326%5D%2C%20%5B13.4349936555952%2C%2052.50528069561319%5D%2C%20%5B13.43506375231492%2C%2052.50526998127211%5D%2C%20%5B13.43513179042293%2C%2052.50525512593799%5D%2C%20%5B13.43519711465868%2C%2052.50523627267989%5D%2C%20%5B13.43525909590061%2C%2052.50521360306996%5D%2C%20%5B13.43531713722549%2C%2052.50518733543459%5D%2C%20%5B13.4353706796575%2C%2052.5051577227516%5D%2C%20%5B13.43541920755166%2C%2052.50512505021373%5D%2C%20%5B13.4354622535599%2C%2052.50508963248176%5D%2C%20%5B13.43549940313177%2C%2052.50505181065392%5D%2C%20%5B13.43553029850659%2C%2052.50501194898079%5D%2C%20%5B13.43555464215847%2C%2052.504970431357%5D%2C%20%5B13.43557219966109%2C%2052.50492765762407%5D%2C%20%5B13.43558280194481%2C%2052.50488403971941%5D%2C%20%5B13.43558634692412%2C%2052.5048399977092%5D%2C%20%5B13.43558634692412%2C%2052.5048399977092%5D%5D%5D%2C%20%22type%22%3A%20%22Polygon%22%7D%2C%20%22id%22%3A%20%220%22%2C%20%22properties%22%3A%20%7B%7D%2C%20%22type%22%3A%20%22Feature%22%7D%5D%2C%20%22type%22%3A%20%22FeatureCollection%22%7D%29%3B%0A%0A%20%20%20%20%20%20%20%20%0A%20%20%20%20%0A%20%20%20%20%20%20%20%20function%20geo_json_077a71d5bec74446839554211abaa35f_styler%28feature%29%20%7B%0A%20%20%20%20%20%20%20%20%20%20%20%20switch%28feature.id%29%20%7B%0A%20%20%20%20%20%20%20%20%20%20%20%20%20%20%20%20default%3A%0A%20%20%20%20%20%20%20%20%20%20%20%20%20%20%20%20%20%20%20%20return%20%7B%22color%22%3A%20%22black%22%2C%20%22fillColor%22%3A%20%22black%22%7D%3B%0A%20%20%20%20%20%20%20%20%20%20%20%20%7D%0A%20%20%20%20%20%20%20%20%7D%0A%0A%20%20%20%20%20%20%20%20function%20geo_json_077a71d5bec74446839554211abaa35f_onEachFeature%28feature%2C%20layer%29%20%7B%0A%20%20%20%20%20%20%20%20%20%20%20%20layer.on%28%7B%0A%20%20%20%20%20%20%20%20%20%20%20%20%7D%29%3B%0A%20%20%20%20%20%20%20%20%7D%3B%0A%20%20%20%20%20%20%20%20var%20geo_json_077a71d5bec74446839554211abaa35f%20%3D%20L.geoJson%28null%2C%20%7B%0A%20%20%20%20%20%20%20%20%20%20%20%20%20%20%20%20onEachFeature%3A%20geo_json_077a71d5bec74446839554211abaa35f_onEachFeature%2C%0A%20%20%20%20%20%20%20%20%20%20%20%20%0A%20%20%20%20%20%20%20%20%20%20%20%20%20%20%20%20style%3A%20geo_json_077a71d5bec74446839554211abaa35f_styler%2C%0A%20%20%20%20%20%20%20%20%7D%29%3B%0A%0A%20%20%20%20%20%20%20%20function%20geo_json_077a71d5bec74446839554211abaa35f_add%20%28data%29%20%7B%0A%20%20%20%20%20%20%20%20%20%20%20%20geo_json_077a71d5bec74446839554211abaa35f%0A%20%20%20%20%20%20%20%20%20%20%20%20%20%20%20%20.addData%28data%29%0A%20%20%20%20%20%20%20%20%20%20%20%20%20%20%20%20.addTo%28map_f8661fc4a6da4912bdea46d2cc73a22b%29%3B%0A%20%20%20%20%20%20%20%20%7D%0A%20%20%20%20%20%20%20%20%20%20%20%20geo_json_077a71d5bec74446839554211abaa35f_add%28%7B%22bbox%22%3A%20%5B13.4338779%2C%2052.5047935%2C%2013.4354396%2C%2052.5052728%5D%2C%20%22features%22%3A%20%5B%7B%22bbox%22%3A%20%5B13.4338779%2C%2052.5047935%2C%2013.4354396%2C%2052.5052728%5D%2C%20%22geometry%22%3A%20%7B%22coordinates%22%3A%20%5B%5B%5B13.434785%2C%2052.5049888%5D%2C%20%5B13.4347808%2C%2052.5049908%5D%2C%20%5B13.4347741%2C%2052.5049854%5D%2C%20%5B13.4347478%2C%2052.5049969%5D%2C%20%5B13.4347185%2C%2052.5049727%5D%2C%20%5B13.4347455%2C%2052.5049608%5D%2C%20%5B13.4347419%2C%2052.5049563%5D%2C%20%5B13.4347328%2C%2052.5049563%5D%2C%20%5B13.4347316%2C%2052.5049606%5D%2C%20%5B13.4346858%2C%2052.5049556%5D%2C%20%5B13.4346877%2C%2052.5049507%5D%2C%20%5B13.4346797%2C%2052.5049504%5D%2C%20%5B13.4346211%2C%2052.504976%5D%2C%20%5B13.4346105%2C%2052.5049682%5D%2C%20%5B13.4341304%2C%2052.5051766%5D%2C%20%5B13.43414%2C%2052.5051845%5D%2C%20%5B13.4340779%2C%2052.5052127%5D%2C%20%5B13.4339979%2C%2052.5051433%5D%2C%20%5B13.4339616%2C%2052.5051601%5D%2C%20%5B13.4338779%2C%2052.5050872%5D%2C%20%5B13.433976%2C%2052.5050451%5D%2C%20%5B13.4339847%2C%2052.5050519%5D%2C%20%5B13.4344681%2C%2052.5048438%5D%2C%20%5B13.4344596%2C%2052.5048369%5D%2C%20%5B13.4345596%2C%2052.5047935%5D%2C%20%5B13.4346008%2C%2052.50483%5D%2C%20%5B13.4346553%2C%2052.5048064%5D%2C%20%5B13.4347087%2C%2052.5048123%5D%2C%20%5B13.4347099%2C%2052.5048093%5D%2C%20%5B13.4347248%2C%2052.5048111%5D%2C%20%5B13.4347272%2C%2052.5048072%5D%2C%20%5B13.4347744%2C%2052.5048125%5D%2C%20%5B13.4347732%2C%2052.5048155%5D%2C%20%5B13.4347878%2C%2052.5048172%5D%2C%20%5B13.4347868%2C%2052.5048216%5D%2C%20%5B13.4348398%2C%2052.5048284%5D%2C%20%5B13.4348777%2C%2052.5048593%5D%2C%20%5B13.4350204%2C%2052.5047976%5D%2C%20%5B13.435091%2C%2052.5048579%5D%2C%20%5B13.4350866%2C%2052.5048626%5D%2C%20%5B13.4353657%2C%2052.5050982%5D%2C%20%5B13.4353704%2C%2052.5050957%5D%2C%20%5B13.4354396%2C%2052.505157%5D%2C%20%5B13.4352344%2C%2052.5052444%5D%2C%20%5B13.435211%2C%2052.505225%5D%2C%20%5B13.4350964%2C%2052.5052728%5D%2C%20%5B13.4350887%2C%2052.5052664%5D%2C%20%5B13.4350844%2C%2052.5052688%5D%2C%20%5B13.4350556%2C%2052.5052433%5D%2C%20%5B13.4350628%2C%2052.50524%5D%2C%20%5B13.435054%2C%2052.5052325%5D%2C%20%5B13.4350646%2C%2052.5052284%5D%2C%20%5B13.434785%2C%2052.5049888%5D%5D%5D%2C%20%22type%22%3A%20%22Polygon%22%7D%2C%20%22id%22%3A%20%220%22%2C%20%22properties%22%3A%20%7B%7D%2C%20%22type%22%3A%20%22Feature%22%7D%5D%2C%20%22type%22%3A%20%22FeatureCollection%22%7D%29%3B%0A%0A%20%20%20%20%20%20%20%20%0A%3C/script%3E onload=\"this.contentDocument.open();this.contentDocument.write(    decodeURIComponent(this.getAttribute('data-html')));this.contentDocument.close();\" allowfullscreen webkitallowfullscreen mozallowfullscreen></iframe></div></div>"
      ],
      "text/plain": [
       "<folium.folium.Map at 0x7fa594478430>"
      ]
     },
     "execution_count": 10,
     "metadata": {},
     "output_type": "execute_result"
    }
   ],
   "source": [
    "import folium\n",
    "from moredata.utils import geodesic_point_buffer\n",
    "from shapely.geometry.polygon import Polygon\n",
    "from shapely import wkt\n",
    "import geopandas as gpd\n",
    "from util import add_categorical_legend\n",
    "\n",
    "poi = df_enriched.loc[(~df_enriched['geometry_intersected'].isna())][['geometry_intersected', 'latitude', 'longitude']] \\\n",
    "                    .reset_index().iloc[[5]]\n",
    "\n",
    "polygon = wkt.loads(poi['geometry_intersected'][5][0])\n",
    "latitude = poi['latitude'].squeeze()\n",
    "longitude = poi['longitude'].squeeze()\n",
    "\n",
    "shp = Polygon(geodesic_point_buffer(latitude, longitude, 50))\n",
    "\n",
    "m = folium.Map(location=[latitude, longitude], zoom_start=17, tiles='CartoDB positron')\n",
    "folium.Marker(\n",
    "    [latitude, longitude], icon=folium.Icon(color=\"blue\"), popup='Point of Interest'\n",
    ").add_to(m)\n",
    "\n",
    "sim_geo = gpd.GeoSeries.from_wkt([shp.wkt])\n",
    "geo_j = sim_geo.to_json()\n",
    "\n",
    "geo_j = folium.GeoJson(data=geo_j,\n",
    "                        style_function=lambda x: {'fillColor': 'grey'})\n",
    "geo_j.add_to(m)\n",
    "    \n",
    "sim_geo = gpd.GeoSeries(polygon)\n",
    "geo_j = sim_geo.to_json()\n",
    "\n",
    "geo_j = folium.GeoJson(data=geo_j,\n",
    "                       style_function=lambda x: {'fillColor': 'black', 'color': 'black'})\n",
    "geo_j.add_to(m)\n",
    "\n",
    "m = add_categorical_legend(m, 'Polygons',\n",
    "                             colors = ['blue','black'],\n",
    "                           labels = ['Point of Interest', 'Tourism Place'])\n",
    "\n",
    "m"
   ]
  },
  {
   "cell_type": "code",
   "execution_count": null,
   "metadata": {},
   "outputs": [],
   "source": []
  }
 ],
 "metadata": {
  "interpreter": {
   "hash": "05c6618c8e66577e9205655f7758053ac734bbc05270e8de813deb75580bfe25"
  },
  "kernelspec": {
   "display_name": "Python 3 (ipykernel)",
   "language": "python",
   "name": "python3"
  },
  "language_info": {
   "codemirror_mode": {
    "name": "ipython",
    "version": 3
   },
   "file_extension": ".py",
   "mimetype": "text/x-python",
   "name": "python",
   "nbconvert_exporter": "python",
   "pygments_lexer": "ipython3",
   "version": "3.8.10"
  }
 },
 "nbformat": 4,
 "nbformat_minor": 4
}
