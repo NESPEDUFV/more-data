{
 "cells": [
  {
   "cell_type": "code",
   "execution_count": 1,
   "metadata": {},
   "outputs": [
    {
     "name": "stderr",
     "output_type": "stream",
     "text": [
      "/home/thomas/.local/lib/python3.8/site-packages/IPython/core/interactiveshell.py:3441: DtypeWarning: Columns (0,22,36,41,45,46,55) have mixed types.Specify dtype option on import or set low_memory=False.\n",
      "  exec(code_obj, self.user_global_ns, self.user_ns)\n"
     ]
    }
   ],
   "source": [
    "from moredata.datasets import get_path\n",
    "from moredata import Converter\n",
    "import pandas as pd\n",
    "\n",
    "df = pd.read_csv(get_path(\"airbnb-berlin\"))\n",
    "df = df.loc[(~df['latitude'].isna()) & (~df['longitude'].isna())]\n",
    "df.to_json('./data/airbnb-berlin.json', orient='records')"
   ]
  },
  {
   "cell_type": "code",
   "execution_count": 5,
   "metadata": {
    "pycharm": {
     "name": "#%%\n"
    }
   },
   "outputs": [
    {
     "name": "stderr",
     "output_type": "stream",
     "text": [
      "/tmp/ipykernel_21145/1572303734.py:7: DtypeWarning: Columns (4,5,6,7,8,9,10,11,12,13,14,15,16,17,18,19,20,21,22,23,24,25,26,27,28,29,30,32,33,34,35,36,37,38,39,40,41,42,43,44,45,46,47,48,49,50,51,52,53,54,55,56,57,59,60,61,62,63,64,65,66,67,68,69,70,71,72,73,74,75,76,77,79,80,82,83,84,85,86,87,88,89,90,91,92,93,94,95,96,97,98,99,100,101,102,103,104,105,106,107,108,109,110,111,112,113,114,115,116,117,118,119,120,121,122,123,124,125,126,127,128,129,130,131,132,133,134,135,136,137,138,139,140,141,142,143,144,145,146,148,149,150,152,153,154,155,156,157,158,159,160,161,162,163,164,166,167,168,169,170,171,172,173,174,175,176,178,179,180,181,182,183,184,185,186,187,188,189,190,191,192,193,194,195,196,197,198,199,200,201,202,203,204,205,206,207,208,210,211,212,213,214,215,216,217,218,219,220,221,222,223,224,225,226,228,229,230,231,232,233,234,235,236,237,238,239,240,241,242,243,244,245,246,247,248,249,250,251,252,253,254,255,256,257,258,259,260,261,262,263,264,265,266,269,270,272,273,274,275,276,277,278,279,280,281,282,283,284,285,286,287,288,289,290,291,292,293,294,295,296,297,298,299,300,301,302,303,304,305,306,307,308,311,312,313,315,317,318,319,320,321,322,323,324,325,326,328,329,330,331,332,333,334,335,336,337,338,339,340,341,342,343,344,345,346,347,348,349,350,351,352,353,354,355,356,357,359,361,362,363,364,365,366,367,368,369,370,371,372,373,374,375,376,378,379,380,381,382,383,384,385,386,387,388,389,390,391,392,393,394,396,397,398,399,400,401,404,405,406,408,409,410,411,412,413,414,415,416,417,418,419,420,421,422,423,424,425,426,427,428,429,431,432,433,434,435,436,437,438,439,440,441,442,443,444,445,446,447,448,449,450,452,454,455,456,457,458,460,462,463,464,465,466,468,469,471,472,473,474,475,477,478,479,480,481,482,483,484,485,486,487,488,489,490,491,492,493,494,495,496,499,500,501,502,505,506,507,508,509,510,511,512,513,514,515,516,517,519) have mixed types.Specify dtype option on import or set low_memory=False.\n",
      "  osm_enricher = moredata.enricher.osm.OSMPlacesConnector(place_name=\"Berlin, DE\",\n"
     ]
    },
    {
     "name": "stdout",
     "output_type": "stream",
     "text": [
      "<class 'pandas.core.frame.DataFrame'>\n",
      "Int64Index: 0 entries\n",
      "Columns: 535 entries, Unnamed: 0 to apartment:rental\n",
      "dtypes: object(535)\n",
      "memory usage: 0.0+ bytes\n",
      "None\n"
     ]
    },
    {
     "ename": "KeyError",
     "evalue": "nan",
     "output_type": "error",
     "traceback": [
      "\u001b[0;31m---------------------------------------------------------------------------\u001b[0m",
      "\u001b[0;31mKeyError\u001b[0m                                  Traceback (most recent call last)",
      "\u001b[0;32m~/anaconda3/envs/moredata-dev/lib/python3.8/site-packages/pandas/core/indexes/base.py\u001b[0m in \u001b[0;36mget_loc\u001b[0;34m(self, key, method, tolerance)\u001b[0m\n\u001b[1;32m   3360\u001b[0m             \u001b[0;32mtry\u001b[0m\u001b[0;34m:\u001b[0m\u001b[0;34m\u001b[0m\u001b[0;34m\u001b[0m\u001b[0m\n\u001b[0;32m-> 3361\u001b[0;31m                 \u001b[0;32mreturn\u001b[0m \u001b[0mself\u001b[0m\u001b[0;34m.\u001b[0m\u001b[0m_engine\u001b[0m\u001b[0;34m.\u001b[0m\u001b[0mget_loc\u001b[0m\u001b[0;34m(\u001b[0m\u001b[0mcasted_key\u001b[0m\u001b[0;34m)\u001b[0m\u001b[0;34m\u001b[0m\u001b[0;34m\u001b[0m\u001b[0m\n\u001b[0m\u001b[1;32m   3362\u001b[0m             \u001b[0;32mexcept\u001b[0m \u001b[0mKeyError\u001b[0m \u001b[0;32mas\u001b[0m \u001b[0merr\u001b[0m\u001b[0;34m:\u001b[0m\u001b[0;34m\u001b[0m\u001b[0;34m\u001b[0m\u001b[0m\n",
      "\u001b[0;32m~/anaconda3/envs/moredata-dev/lib/python3.8/site-packages/pandas/_libs/index.pyx\u001b[0m in \u001b[0;36mpandas._libs.index.IndexEngine.get_loc\u001b[0;34m()\u001b[0m\n",
      "\u001b[0;32m~/anaconda3/envs/moredata-dev/lib/python3.8/site-packages/pandas/_libs/index.pyx\u001b[0m in \u001b[0;36mpandas._libs.index.IndexEngine.get_loc\u001b[0;34m()\u001b[0m\n",
      "\u001b[0;32mpandas/_libs/hashtable_class_helper.pxi\u001b[0m in \u001b[0;36mpandas._libs.hashtable.PyObjectHashTable.get_item\u001b[0;34m()\u001b[0m\n",
      "\u001b[0;32mpandas/_libs/hashtable_class_helper.pxi\u001b[0m in \u001b[0;36mpandas._libs.hashtable.PyObjectHashTable.get_item\u001b[0;34m()\u001b[0m\n",
      "\u001b[0;31mKeyError\u001b[0m: nan",
      "\nThe above exception was the direct cause of the following exception:\n",
      "\u001b[0;31mKeyError\u001b[0m                                  Traceback (most recent call last)",
      "\u001b[0;32m/tmp/ipykernel_21145/1572303734.py\u001b[0m in \u001b[0;36m<module>\u001b[0;34m\u001b[0m\n\u001b[1;32m     11\u001b[0m \u001b[0mdata_enriched\u001b[0m \u001b[0;34m=\u001b[0m \u001b[0mosm_enricher\u001b[0m\u001b[0;34m.\u001b[0m\u001b[0menrich\u001b[0m\u001b[0;34m(\u001b[0m\u001b[0mdata\u001b[0m\u001b[0;34m)\u001b[0m\u001b[0;34m\u001b[0m\u001b[0;34m\u001b[0m\u001b[0m\n\u001b[1;32m     12\u001b[0m \u001b[0;34m\u001b[0m\u001b[0m\n\u001b[0;32m---> 13\u001b[0;31m \u001b[0mmoredata\u001b[0m\u001b[0;34m.\u001b[0m\u001b[0mutils\u001b[0m\u001b[0;34m.\u001b[0m\u001b[0mwrite_json_generator_to_json\u001b[0m\u001b[0;34m(\u001b[0m\u001b[0;34m\"./data/airbnb-berlin-enriched\"\u001b[0m\u001b[0;34m,\u001b[0m \u001b[0mdata_enriched\u001b[0m\u001b[0;34m,\u001b[0m \u001b[0;36m100000\u001b[0m\u001b[0;34m)\u001b[0m\u001b[0;34m\u001b[0m\u001b[0;34m\u001b[0m\u001b[0m\n\u001b[0m",
      "\u001b[0;32m~/github/more-data/moredata/utils/util.py\u001b[0m in \u001b[0;36mwrite_json_generator_to_json\u001b[0;34m(file, data, n)\u001b[0m\n\u001b[1;32m     44\u001b[0m         \u001b[0;32mfor\u001b[0m \u001b[0mi\u001b[0m\u001b[0;34m,\u001b[0m \u001b[0mgroup\u001b[0m \u001b[0;32min\u001b[0m \u001b[0menumerate\u001b[0m\u001b[0;34m(\u001b[0m\u001b[0mchunks\u001b[0m\u001b[0;34m(\u001b[0m\u001b[0mdata\u001b[0m\u001b[0;34m,\u001b[0m \u001b[0mn\u001b[0m\u001b[0;34m)\u001b[0m\u001b[0;34m)\u001b[0m\u001b[0;34m:\u001b[0m\u001b[0;34m\u001b[0m\u001b[0;34m\u001b[0m\u001b[0m\n\u001b[1;32m     45\u001b[0m                 \u001b[0;32mwith\u001b[0m \u001b[0mopen\u001b[0m\u001b[0;34m(\u001b[0m\u001b[0mfile\u001b[0m \u001b[0;34m+\u001b[0m \u001b[0;34m'-{}.json'\u001b[0m\u001b[0;34m.\u001b[0m\u001b[0mformat\u001b[0m\u001b[0;34m(\u001b[0m\u001b[0mi\u001b[0m\u001b[0;34m)\u001b[0m\u001b[0;34m,\u001b[0m \u001b[0;34m'w'\u001b[0m\u001b[0;34m)\u001b[0m \u001b[0;32mas\u001b[0m \u001b[0moutfile\u001b[0m\u001b[0;34m:\u001b[0m\u001b[0;34m\u001b[0m\u001b[0;34m\u001b[0m\u001b[0m\n\u001b[0;32m---> 46\u001b[0;31m                         \u001b[0mjson\u001b[0m\u001b[0;34m.\u001b[0m\u001b[0mdump\u001b[0m\u001b[0;34m(\u001b[0m\u001b[0mlist\u001b[0m\u001b[0;34m(\u001b[0m\u001b[0mgroup\u001b[0m\u001b[0;34m)\u001b[0m\u001b[0;34m,\u001b[0m \u001b[0moutfile\u001b[0m\u001b[0;34m,\u001b[0m \u001b[0mensure_ascii\u001b[0m\u001b[0;34m=\u001b[0m\u001b[0;32mFalse\u001b[0m\u001b[0;34m)\u001b[0m\u001b[0;34m\u001b[0m\u001b[0;34m\u001b[0m\u001b[0m\n\u001b[0m\u001b[1;32m     47\u001b[0m \u001b[0;34m\u001b[0m\u001b[0m\n\u001b[1;32m     48\u001b[0m \u001b[0;32mclass\u001b[0m \u001b[0mConverter\u001b[0m\u001b[0;34m:\u001b[0m\u001b[0;34m\u001b[0m\u001b[0;34m\u001b[0m\u001b[0m\n",
      "\u001b[0;32m~/github/more-data/moredata/enricher/osm/osm_places_connector.py\u001b[0m in \u001b[0;36menrich\u001b[0;34m(self, data, **kwargs)\u001b[0m\n\u001b[1;32m    163\u001b[0m                     \u001b[0mself\u001b[0m\u001b[0;34m.\u001b[0m\u001b[0m_enrich_point\u001b[0m\u001b[0;34m(\u001b[0m\u001b[0mpoint\u001b[0m\u001b[0;34m)\u001b[0m\u001b[0;34m\u001b[0m\u001b[0;34m\u001b[0m\u001b[0m\n\u001b[1;32m    164\u001b[0m             \u001b[0;32melse\u001b[0m\u001b[0;34m:\u001b[0m\u001b[0;34m\u001b[0m\u001b[0;34m\u001b[0m\u001b[0m\n\u001b[0;32m--> 165\u001b[0;31m                 \u001b[0mself\u001b[0m\u001b[0;34m.\u001b[0m\u001b[0m_enrich_point\u001b[0m\u001b[0;34m(\u001b[0m\u001b[0mpoints\u001b[0m\u001b[0;34m)\u001b[0m\u001b[0;34m\u001b[0m\u001b[0;34m\u001b[0m\u001b[0m\n\u001b[0m\u001b[1;32m    166\u001b[0m \u001b[0;34m\u001b[0m\u001b[0m\n\u001b[1;32m    167\u001b[0m             \u001b[0;32myield\u001b[0m \u001b[0md\u001b[0m\u001b[0;34m\u001b[0m\u001b[0;34m\u001b[0m\u001b[0m\n",
      "\u001b[0;32m~/github/more-data/moredata/enricher/osm/osm_places_connector.py\u001b[0m in \u001b[0;36m_enrich_point\u001b[0;34m(self, point)\u001b[0m\n\u001b[1;32m    117\u001b[0m             \u001b[0;32mfor\u001b[0m \u001b[0mp\u001b[0m \u001b[0;32min\u001b[0m \u001b[0mpolygon_metadata\u001b[0m\u001b[0;34m:\u001b[0m\u001b[0;34m\u001b[0m\u001b[0;34m\u001b[0m\u001b[0m\n\u001b[1;32m    118\u001b[0m                 \u001b[0mprint\u001b[0m\u001b[0;34m(\u001b[0m\u001b[0mp\u001b[0m\u001b[0;34m.\u001b[0m\u001b[0mdropna\u001b[0m\u001b[0;34m(\u001b[0m\u001b[0;34m)\u001b[0m\u001b[0;34m.\u001b[0m\u001b[0minfo\u001b[0m\u001b[0;34m(\u001b[0m\u001b[0;34m)\u001b[0m\u001b[0;34m)\u001b[0m\u001b[0;34m\u001b[0m\u001b[0;34m\u001b[0m\u001b[0m\n\u001b[0;32m--> 119\u001b[0;31m                 \u001b[0mp\u001b[0m\u001b[0;34m[\u001b[0m\u001b[0;34m\"value\"\u001b[0m\u001b[0;34m]\u001b[0m \u001b[0;34m=\u001b[0m \u001b[0mp\u001b[0m\u001b[0;34m[\u001b[0m\u001b[0mp\u001b[0m\u001b[0;34m[\u001b[0m\u001b[0;34m\"value\"\u001b[0m\u001b[0;34m]\u001b[0m\u001b[0;34m.\u001b[0m\u001b[0mvalues\u001b[0m\u001b[0;34m[\u001b[0m\u001b[0;36m0\u001b[0m\u001b[0;34m]\u001b[0m\u001b[0;34m]\u001b[0m\u001b[0;34m\u001b[0m\u001b[0;34m\u001b[0m\u001b[0m\n\u001b[0m\u001b[1;32m    120\u001b[0m \u001b[0;34m\u001b[0m\u001b[0m\n\u001b[1;32m    121\u001b[0m                 \u001b[0;32mif\u001b[0m \u001b[0;32mnot\u001b[0m \u001b[0;34m\"local\"\u001b[0m \u001b[0;32min\u001b[0m \u001b[0mpoint\u001b[0m\u001b[0;34m.\u001b[0m\u001b[0mkeys\u001b[0m\u001b[0;34m(\u001b[0m\u001b[0;34m)\u001b[0m\u001b[0;34m:\u001b[0m\u001b[0;34m\u001b[0m\u001b[0;34m\u001b[0m\u001b[0m\n",
      "\u001b[0;32m~/anaconda3/envs/moredata-dev/lib/python3.8/site-packages/pandas/core/frame.py\u001b[0m in \u001b[0;36m__getitem__\u001b[0;34m(self, key)\u001b[0m\n\u001b[1;32m   3456\u001b[0m             \u001b[0;32mif\u001b[0m \u001b[0mself\u001b[0m\u001b[0;34m.\u001b[0m\u001b[0mcolumns\u001b[0m\u001b[0;34m.\u001b[0m\u001b[0mnlevels\u001b[0m \u001b[0;34m>\u001b[0m \u001b[0;36m1\u001b[0m\u001b[0;34m:\u001b[0m\u001b[0;34m\u001b[0m\u001b[0;34m\u001b[0m\u001b[0m\n\u001b[1;32m   3457\u001b[0m                 \u001b[0;32mreturn\u001b[0m \u001b[0mself\u001b[0m\u001b[0;34m.\u001b[0m\u001b[0m_getitem_multilevel\u001b[0m\u001b[0;34m(\u001b[0m\u001b[0mkey\u001b[0m\u001b[0;34m)\u001b[0m\u001b[0;34m\u001b[0m\u001b[0;34m\u001b[0m\u001b[0m\n\u001b[0;32m-> 3458\u001b[0;31m             \u001b[0mindexer\u001b[0m \u001b[0;34m=\u001b[0m \u001b[0mself\u001b[0m\u001b[0;34m.\u001b[0m\u001b[0mcolumns\u001b[0m\u001b[0;34m.\u001b[0m\u001b[0mget_loc\u001b[0m\u001b[0;34m(\u001b[0m\u001b[0mkey\u001b[0m\u001b[0;34m)\u001b[0m\u001b[0;34m\u001b[0m\u001b[0;34m\u001b[0m\u001b[0m\n\u001b[0m\u001b[1;32m   3459\u001b[0m             \u001b[0;32mif\u001b[0m \u001b[0mis_integer\u001b[0m\u001b[0;34m(\u001b[0m\u001b[0mindexer\u001b[0m\u001b[0;34m)\u001b[0m\u001b[0;34m:\u001b[0m\u001b[0;34m\u001b[0m\u001b[0;34m\u001b[0m\u001b[0m\n\u001b[1;32m   3460\u001b[0m                 \u001b[0mindexer\u001b[0m \u001b[0;34m=\u001b[0m \u001b[0;34m[\u001b[0m\u001b[0mindexer\u001b[0m\u001b[0;34m]\u001b[0m\u001b[0;34m\u001b[0m\u001b[0;34m\u001b[0m\u001b[0m\n",
      "\u001b[0;32m~/anaconda3/envs/moredata-dev/lib/python3.8/site-packages/pandas/core/indexes/base.py\u001b[0m in \u001b[0;36mget_loc\u001b[0;34m(self, key, method, tolerance)\u001b[0m\n\u001b[1;32m   3361\u001b[0m                 \u001b[0;32mreturn\u001b[0m \u001b[0mself\u001b[0m\u001b[0;34m.\u001b[0m\u001b[0m_engine\u001b[0m\u001b[0;34m.\u001b[0m\u001b[0mget_loc\u001b[0m\u001b[0;34m(\u001b[0m\u001b[0mcasted_key\u001b[0m\u001b[0;34m)\u001b[0m\u001b[0;34m\u001b[0m\u001b[0;34m\u001b[0m\u001b[0m\n\u001b[1;32m   3362\u001b[0m             \u001b[0;32mexcept\u001b[0m \u001b[0mKeyError\u001b[0m \u001b[0;32mas\u001b[0m \u001b[0merr\u001b[0m\u001b[0;34m:\u001b[0m\u001b[0;34m\u001b[0m\u001b[0;34m\u001b[0m\u001b[0m\n\u001b[0;32m-> 3363\u001b[0;31m                 \u001b[0;32mraise\u001b[0m \u001b[0mKeyError\u001b[0m\u001b[0;34m(\u001b[0m\u001b[0mkey\u001b[0m\u001b[0;34m)\u001b[0m \u001b[0;32mfrom\u001b[0m \u001b[0merr\u001b[0m\u001b[0;34m\u001b[0m\u001b[0;34m\u001b[0m\u001b[0m\n\u001b[0m\u001b[1;32m   3364\u001b[0m \u001b[0;34m\u001b[0m\u001b[0m\n\u001b[1;32m   3365\u001b[0m         \u001b[0;32mif\u001b[0m \u001b[0mis_scalar\u001b[0m\u001b[0;34m(\u001b[0m\u001b[0mkey\u001b[0m\u001b[0;34m)\u001b[0m \u001b[0;32mand\u001b[0m \u001b[0misna\u001b[0m\u001b[0;34m(\u001b[0m\u001b[0mkey\u001b[0m\u001b[0;34m)\u001b[0m \u001b[0;32mand\u001b[0m \u001b[0;32mnot\u001b[0m \u001b[0mself\u001b[0m\u001b[0;34m.\u001b[0m\u001b[0mhasnans\u001b[0m\u001b[0;34m:\u001b[0m\u001b[0;34m\u001b[0m\u001b[0;34m\u001b[0m\u001b[0m\n",
      "\u001b[0;31mKeyError\u001b[0m: nan"
     ]
    }
   ],
   "source": [
    "import moredata\n",
    "\n",
    "data = moredata.models.Data(data_file='./data/airbnb-berlin.json',\n",
    "                            parser_func=moredata.parser.parse_document,\n",
    "                            data_type='json')\n",
    "\n",
    "osm_enricher = moredata.enricher.osm.OSMPlacesConnector(place_name=\"Berlin, DE\", \n",
    "                                                  files=[\"./data/hotel.csv.gz\"],\n",
    "                                                        radius=50, geometry_intersected=True)\n",
    "\n",
    "data_enriched = osm_enricher.enrich(data)\n",
    "\n",
    "moredata.utils.write_json_generator_to_json(\"./data/airbnb-berlin-enriched\", data_enriched, 100000)"
   ]
  },
  {
   "cell_type": "code",
   "execution_count": 1,
   "metadata": {
    "pycharm": {
     "name": "#%%\n"
    }
   },
   "outputs": [],
   "source": [
    "import pandas as pd\n",
    "df_enriched = pd.read_json('./data/airbnb-berlin-enriched-0.json', orient='records')"
   ]
  },
  {
   "cell_type": "code",
   "execution_count": 24,
   "metadata": {},
   "outputs": [],
   "source": [
    "df_enriched.loc[(~df_enriched['local'].isna()) & (~df_enriched['geometry_intersected'].isna()), 'near_shop_mall'] = 'Yes'\n",
    "df_enriched['near_shop_mall'] = df_enriched['near_shop_mall'].fillna('No')"
   ]
  },
  {
   "cell_type": "code",
   "execution_count": 25,
   "metadata": {},
   "outputs": [],
   "source": [
    "df_enriched['price'] = df_enriched['price'].apply(lambda x: float(x.replace('$', '').replace(',', '')))"
   ]
  },
  {
   "cell_type": "code",
   "execution_count": 26,
   "metadata": {},
   "outputs": [
    {
     "data": {
      "text/plain": [
       "count    19858.000000\n",
       "mean        70.776866\n",
       "std        120.384857\n",
       "min          0.000000\n",
       "25%         35.000000\n",
       "50%         50.000000\n",
       "75%         80.000000\n",
       "max       8000.000000\n",
       "Name: price, dtype: float64"
      ]
     },
     "execution_count": 26,
     "metadata": {},
     "output_type": "execute_result"
    }
   ],
   "source": [
    "df_enriched['price'].describe()"
   ]
  },
  {
   "cell_type": "code",
   "execution_count": 33,
   "metadata": {
    "scrolled": true
   },
   "outputs": [
    {
     "data": {
      "text/plain": [
       "<AxesSubplot:xlabel='near_shop_mall', ylabel='price'>"
      ]
     },
     "execution_count": 33,
     "metadata": {},
     "output_type": "execute_result"
    },
    {
     "data": {
      "image/png": "[encoded data removed]",
      "text/plain": [
       "<Figure size 432x288 with 1 Axes>"
      ]
     },
     "metadata": {
      "needs_background": "light"
     },
     "output_type": "display_data"
    }
   ],
   "source": [
    "import seaborn as sns\n",
    "sns.barplot(y=\"price\", x=\"near_shop_mall\", data=df_enriched)"
   ]
  },
  {
   "cell_type": "code",
   "execution_count": 35,
   "metadata": {},
   "outputs": [
    {
     "data": {
      "text/html": [
       "<div style=\"width:100%;\"><div style=\"position:relative;width:100%;height:0;padding-bottom:60%;\"><span style=\"color:#565656\">Make this Notebook Trusted to load map: File -> Trust Notebook</span><iframe src=\"about:blank\" style=\"position:absolute;width:100%;height:100%;left:0;top:0;border:none !important;\" data-html=%3C%21DOCTYPE%20html%3E%0A%3Chead%3E%20%20%20%20%0A%20%20%20%20%3Cmeta%20http-equiv%3D%22content-type%22%20content%3D%22text/html%3B%20charset%3DUTF-8%22%20/%3E%0A%20%20%20%20%0A%20%20%20%20%20%20%20%20%3Cscript%20type%3D%22text/javascript%22%3E%0A%20%20%20%20%20%20%20%20var%20oneTimeExecution%20%3D%20%28function%28%29%20%7B%0A%20%20%20%20%20%20%20%20%20%20%20%20%20%20%20%20%20%20%20%20var%20executed%20%3D%20false%3B%0A%20%20%20%20%20%20%20%20%20%20%20%20%20%20%20%20%20%20%20%20return%20function%28%29%20%7B%0A%20%20%20%20%20%20%20%20%20%20%20%20%20%20%20%20%20%20%20%20%20%20%20%20if%20%28%21executed%29%20%7B%0A%20%20%20%20%20%20%20%20%20%20%20%20%20%20%20%20%20%20%20%20%20%20%20%20%20%20%20%20%20var%20checkExist%20%3D%20setInterval%28function%28%29%20%7B%0A%20%20%20%20%20%20%20%20%20%20%20%20%20%20%20%20%20%20%20%20%20%20%20%20%20%20%20%20%20%20%20%20%20%20%20%20%20%20%20if%20%28%28document.getElementsByClassName%28%27leaflet-top%20leaflet-right%27%29.length%29%20%7C%7C%20%28%21executed%29%29%20%7B%0A%20%20%20%20%20%20%20%20%20%20%20%20%20%20%20%20%20%20%20%20%20%20%20%20%20%20%20%20%20%20%20%20%20%20%20%20%20%20%20%20%20%20document.getElementsByClassName%28%27leaflet-top%20leaflet-right%27%29%5B0%5D.style.display%20%3D%20%22flex%22%0A%20%20%20%20%20%20%20%20%20%20%20%20%20%20%20%20%20%20%20%20%20%20%20%20%20%20%20%20%20%20%20%20%20%20%20%20%20%20%20%20%20%20document.getElementsByClassName%28%27leaflet-top%20leaflet-right%27%29%5B0%5D.style.flexDirection%20%3D%20%22column%22%0A%20%20%20%20%20%20%20%20%20%20%20%20%20%20%20%20%20%20%20%20%20%20%20%20%20%20%20%20%20%20%20%20%20%20%20%20%20%20%20%20%20%20document.getElementsByClassName%28%27leaflet-top%20leaflet-right%27%29%5B0%5D.innerHTML%20%2B%3D%20%60%0A%20%20%20%20%3Cdiv%20id%3D%27maplegend%27%20class%3D%27maplegend%27%3E%0A%20%20%20%20%20%20%3Cdiv%20class%3D%27legend-title%27%3EPolygons%3C/div%3E%0A%20%20%20%20%20%20%3Cdiv%20class%3D%27legend-scale%27%3E%0A%20%20%20%20%20%20%20%20%3Cul%20class%3D%27legend-labels%27%3E%0A%20%20%20%20%20%20%20%20%3Cli%3E%3Cspan%20style%3D%27background%3Ablue%27%3E%3C/span%3EPoint%20of%20Interest%3C/li%3E%3Cli%3E%3Cspan%20style%3D%27background%3Ablack%27%3E%3C/span%3EShopping%20Mall%3C/li%3E%0A%20%20%20%20%20%20%20%20%3C/ul%3E%0A%20%20%20%20%20%20%3C/div%3E%0A%20%20%20%20%3C/div%3E%0A%20%20%20%20%60%3B%0A%20%20%20%20%20%20%20%20%20%20%20%20%20%20%20%20%20%20%20%20%20%20%20%20%20%20%20%20%20%20%20%20%20%20%20%20%20%20%20%20%20%20clearInterval%28checkExist%29%3B%0A%20%20%20%20%20%20%20%20%20%20%20%20%20%20%20%20%20%20%20%20%20%20%20%20%20%20%20%20%20%20%20%20%20%20%20%20%20%20%20%20%20%20executed%20%3D%20true%3B%0A%20%20%20%20%20%20%20%20%20%20%20%20%20%20%20%20%20%20%20%20%20%20%20%20%20%20%20%20%20%20%20%20%20%20%20%20%20%20%20%7D%0A%20%20%20%20%20%20%20%20%20%20%20%20%20%20%20%20%20%20%20%20%20%20%20%20%20%20%20%20%20%20%20%20%20%20%20%20%7D%2C%20100%29%3B%0A%20%20%20%20%20%20%20%20%20%20%20%20%20%20%20%20%20%20%20%20%20%20%20%20%7D%0A%20%20%20%20%20%20%20%20%20%20%20%20%20%20%20%20%20%20%20%20%7D%3B%0A%20%20%20%20%20%20%20%20%20%20%20%20%20%20%20%20%7D%29%28%29%3B%0A%20%20%20%20%20%20%20%20oneTimeExecution%28%29%0A%20%20%20%20%20%20%20%20%3C/script%3E%0A%20%20%20%20%20%20%0A%0A%20%20%20%20%3Cstyle%20type%3D%27text/css%27%3E%0A%20%20%20%20%20%20.maplegend%20%7B%0A%20%20%20%20%20%20%20%20z-index%3A9999%3B%0A%20%20%20%20%20%20%20%20float%3Aleft%3B%0A%20%20%20%20%20%20%20%20background-color%3A%20rgba%28255%2C%20255%2C%20255%2C%201%29%3B%0A%20%20%20%20%20%20%20%20border-radius%3A%2010px%3B%0A%20%20%20%20%20%20%20%20border%3A%202px%20solid%20%23bbb%3B%0A%20%20%20%20%20%20%20%20padding%3A%2010px%3B%0A%20%20%20%20%20%20%20%20font-size%3A12px%3B%0A%20%20%20%20%20%20%20%20position%3A%20center%3B%0A%20%20%20%20%20%20%7D%0A%20%20%20%20%20%20.maplegend%20.legend-title%20%7B%0A%20%20%20%20%20%20%20%20text-align%3A%20left%3B%0A%20%20%20%20%20%20%20%20margin-bottom%3A%205px%3B%0A%20%20%20%20%20%20%20%20font-weight%3A%20bold%3B%0A%20%20%20%20%20%20%20%20font-size%3A%2090%25%3B%0A%20%20%20%20%20%20%20%20%7D%0A%20%20%20%20%20%20.maplegend%20.legend-scale%20ul%20%7B%0A%20%20%20%20%20%20%20%20margin%3A%200%3B%0A%20%20%20%20%20%20%20%20margin-bottom%3A%205px%3B%0A%20%20%20%20%20%20%20%20padding%3A%200%3B%0A%20%20%20%20%20%20%20%20float%3A%20left%3B%0A%20%20%20%20%20%20%20%20list-style%3A%20none%3B%0A%20%20%20%20%20%20%20%20%7D%0A%20%20%20%20%20%20.maplegend%20.legend-scale%20ul%20li%20%7B%0A%20%20%20%20%20%20%20%20font-size%3A%2080%25%3B%0A%20%20%20%20%20%20%20%20list-style%3A%20none%3B%0A%20%20%20%20%20%20%20%20margin-left%3A%200%3B%0A%20%20%20%20%20%20%20%20line-height%3A%2018px%3B%0A%20%20%20%20%20%20%20%20margin-bottom%3A%202px%3B%0A%20%20%20%20%20%20%20%20%7D%0A%20%20%20%20%20%20.maplegend%20ul.legend-labels%20li%20span%20%7B%0A%20%20%20%20%20%20%20%20display%3A%20block%3B%0A%20%20%20%20%20%20%20%20float%3A%20left%3B%0A%20%20%20%20%20%20%20%20height%3A%2016px%3B%0A%20%20%20%20%20%20%20%20width%3A%2030px%3B%0A%20%20%20%20%20%20%20%20margin-right%3A%205px%3B%0A%20%20%20%20%20%20%20%20margin-left%3A%200%3B%0A%20%20%20%20%20%20%20%20border%3A%200px%20solid%20%23ccc%3B%0A%20%20%20%20%20%20%20%20%7D%0A%20%20%20%20%20%20.maplegend%20.legend-source%20%7B%0A%20%20%20%20%20%20%20%20font-size%3A%2080%25%3B%0A%20%20%20%20%20%20%20%20color%3A%20%23777%3B%0A%20%20%20%20%20%20%20%20clear%3A%20both%3B%0A%20%20%20%20%20%20%20%20%7D%0A%20%20%20%20%20%20.maplegend%20a%20%7B%0A%20%20%20%20%20%20%20%20color%3A%20%23777%3B%0A%20%20%20%20%20%20%20%20%7D%0A%20%20%20%20%3C/style%3E%0A%20%20%20%20%0A%20%20%20%20%0A%20%20%20%20%20%20%20%20%3Cscript%3E%0A%20%20%20%20%20%20%20%20%20%20%20%20L_NO_TOUCH%20%3D%20false%3B%0A%20%20%20%20%20%20%20%20%20%20%20%20L_DISABLE_3D%20%3D%20false%3B%0A%20%20%20%20%20%20%20%20%3C/script%3E%0A%20%20%20%20%0A%20%20%20%20%3Cstyle%3Ehtml%2C%20body%20%7Bwidth%3A%20100%25%3Bheight%3A%20100%25%3Bmargin%3A%200%3Bpadding%3A%200%3B%7D%3C/style%3E%0A%20%20%20%20%3Cstyle%3E%23map%20%7Bposition%3Aabsolute%3Btop%3A0%3Bbottom%3A0%3Bright%3A0%3Bleft%3A0%3B%7D%3C/style%3E%0A%20%20%20%20%3Cscript%20src%3D%22https%3A//cdn.jsdelivr.net/npm/leaflet%401.6.0/dist/leaflet.js%22%3E%3C/script%3E%0A%20%20%20%20%3Cscript%20src%3D%22https%3A//code.jquery.com/jquery-1.12.4.min.js%22%3E%3C/script%3E%0A%20%20%20%20%3Cscript%20src%3D%22https%3A//maxcdn.bootstrapcdn.com/bootstrap/3.2.0/js/bootstrap.min.js%22%3E%3C/script%3E%0A%20%20%20%20%3Cscript%20src%3D%22https%3A//cdnjs.cloudflare.com/ajax/libs/Leaflet.awesome-markers/2.0.2/leaflet.awesome-markers.js%22%3E%3C/script%3E%0A%20%20%20%20%3Clink%20rel%3D%22stylesheet%22%20href%3D%22https%3A//cdn.jsdelivr.net/npm/leaflet%401.6.0/dist/leaflet.css%22/%3E%0A%20%20%20%20%3Clink%20rel%3D%22stylesheet%22%20href%3D%22https%3A//maxcdn.bootstrapcdn.com/bootstrap/3.2.0/css/bootstrap.min.css%22/%3E%0A%20%20%20%20%3Clink%20rel%3D%22stylesheet%22%20href%3D%22https%3A//maxcdn.bootstrapcdn.com/bootstrap/3.2.0/css/bootstrap-theme.min.css%22/%3E%0A%20%20%20%20%3Clink%20rel%3D%22stylesheet%22%20href%3D%22https%3A//maxcdn.bootstrapcdn.com/font-awesome/4.6.3/css/font-awesome.min.css%22/%3E%0A%20%20%20%20%3Clink%20rel%3D%22stylesheet%22%20href%3D%22https%3A//cdnjs.cloudflare.com/ajax/libs/Leaflet.awesome-markers/2.0.2/leaflet.awesome-markers.css%22/%3E%0A%20%20%20%20%3Clink%20rel%3D%22stylesheet%22%20href%3D%22https%3A//cdn.jsdelivr.net/gh/python-visualization/folium/folium/templates/leaflet.awesome.rotate.min.css%22/%3E%0A%20%20%20%20%0A%20%20%20%20%20%20%20%20%20%20%20%20%3Cmeta%20name%3D%22viewport%22%20content%3D%22width%3Ddevice-width%2C%0A%20%20%20%20%20%20%20%20%20%20%20%20%20%20%20%20initial-scale%3D1.0%2C%20maximum-scale%3D1.0%2C%20user-scalable%3Dno%22%20/%3E%0A%20%20%20%20%20%20%20%20%20%20%20%20%3Cstyle%3E%0A%20%20%20%20%20%20%20%20%20%20%20%20%20%20%20%20%23map_05dd8a1c3d394ee98ae347245bf45996%20%7B%0A%20%20%20%20%20%20%20%20%20%20%20%20%20%20%20%20%20%20%20%20position%3A%20relative%3B%0A%20%20%20%20%20%20%20%20%20%20%20%20%20%20%20%20%20%20%20%20width%3A%20100.0%25%3B%0A%20%20%20%20%20%20%20%20%20%20%20%20%20%20%20%20%20%20%20%20height%3A%20100.0%25%3B%0A%20%20%20%20%20%20%20%20%20%20%20%20%20%20%20%20%20%20%20%20left%3A%200.0%25%3B%0A%20%20%20%20%20%20%20%20%20%20%20%20%20%20%20%20%20%20%20%20top%3A%200.0%25%3B%0A%20%20%20%20%20%20%20%20%20%20%20%20%20%20%20%20%7D%0A%20%20%20%20%20%20%20%20%20%20%20%20%3C/style%3E%0A%20%20%20%20%20%20%20%20%0A%3C/head%3E%0A%3Cbody%3E%20%20%20%20%0A%20%20%20%20%0A%20%20%20%20%20%20%20%20%20%20%20%20%3Cdiv%20class%3D%22folium-map%22%20id%3D%22map_05dd8a1c3d394ee98ae347245bf45996%22%20%3E%3C/div%3E%0A%20%20%20%20%20%20%20%20%0A%3C/body%3E%0A%3Cscript%3E%20%20%20%20%0A%20%20%20%20%0A%20%20%20%20%20%20%20%20%20%20%20%20var%20map_05dd8a1c3d394ee98ae347245bf45996%20%3D%20L.map%28%0A%20%20%20%20%20%20%20%20%20%20%20%20%20%20%20%20%22map_05dd8a1c3d394ee98ae347245bf45996%22%2C%0A%20%20%20%20%20%20%20%20%20%20%20%20%20%20%20%20%7B%0A%20%20%20%20%20%20%20%20%20%20%20%20%20%20%20%20%20%20%20%20center%3A%20%5B52.5498%2C%2013.41596%5D%2C%0A%20%20%20%20%20%20%20%20%20%20%20%20%20%20%20%20%20%20%20%20crs%3A%20L.CRS.EPSG3857%2C%0A%20%20%20%20%20%20%20%20%20%20%20%20%20%20%20%20%20%20%20%20zoom%3A%2017%2C%0A%20%20%20%20%20%20%20%20%20%20%20%20%20%20%20%20%20%20%20%20zoomControl%3A%20true%2C%0A%20%20%20%20%20%20%20%20%20%20%20%20%20%20%20%20%20%20%20%20preferCanvas%3A%20false%2C%0A%20%20%20%20%20%20%20%20%20%20%20%20%20%20%20%20%7D%0A%20%20%20%20%20%20%20%20%20%20%20%20%29%3B%0A%0A%20%20%20%20%20%20%20%20%20%20%20%20%0A%0A%20%20%20%20%20%20%20%20%0A%20%20%20%20%0A%20%20%20%20%20%20%20%20%20%20%20%20var%20tile_layer_a64525d8679849fb90c9f814871f875c%20%3D%20L.tileLayer%28%0A%20%20%20%20%20%20%20%20%20%20%20%20%20%20%20%20%22https%3A//cartodb-basemaps-%7Bs%7D.global.ssl.fastly.net/light_all/%7Bz%7D/%7Bx%7D/%7By%7D.png%22%2C%0A%20%20%20%20%20%20%20%20%20%20%20%20%20%20%20%20%7B%22attribution%22%3A%20%22%5Cu0026copy%3B%20%5Cu003ca%20href%3D%5C%22http%3A//www.openstreetmap.org/copyright%5C%22%5Cu003eOpenStreetMap%5Cu003c/a%5Cu003e%20contributors%20%5Cu0026copy%3B%20%5Cu003ca%20href%3D%5C%22http%3A//cartodb.com/attributions%5C%22%5Cu003eCartoDB%5Cu003c/a%5Cu003e%2C%20CartoDB%20%5Cu003ca%20href%20%3D%5C%22http%3A//cartodb.com/attributions%5C%22%5Cu003eattributions%5Cu003c/a%5Cu003e%22%2C%20%22detectRetina%22%3A%20false%2C%20%22maxNativeZoom%22%3A%2018%2C%20%22maxZoom%22%3A%2018%2C%20%22minZoom%22%3A%200%2C%20%22noWrap%22%3A%20false%2C%20%22opacity%22%3A%201%2C%20%22subdomains%22%3A%20%22abc%22%2C%20%22tms%22%3A%20false%7D%0A%20%20%20%20%20%20%20%20%20%20%20%20%29.addTo%28map_05dd8a1c3d394ee98ae347245bf45996%29%3B%0A%20%20%20%20%20%20%20%20%0A%20%20%20%20%0A%20%20%20%20%20%20%20%20%20%20%20%20var%20marker_42166cee382747e7a19a0a4aae212d04%20%3D%20L.marker%28%0A%20%20%20%20%20%20%20%20%20%20%20%20%20%20%20%20%5B52.5498%2C%2013.41596%5D%2C%0A%20%20%20%20%20%20%20%20%20%20%20%20%20%20%20%20%7B%7D%0A%20%20%20%20%20%20%20%20%20%20%20%20%29.addTo%28map_05dd8a1c3d394ee98ae347245bf45996%29%3B%0A%20%20%20%20%20%20%20%20%0A%20%20%20%20%0A%20%20%20%20%20%20%20%20%20%20%20%20var%20icon_b7d498dc85d6427b92f0634231bf5596%20%3D%20L.AwesomeMarkers.icon%28%0A%20%20%20%20%20%20%20%20%20%20%20%20%20%20%20%20%7B%22extraClasses%22%3A%20%22fa-rotate-0%22%2C%20%22icon%22%3A%20%22info-sign%22%2C%20%22iconColor%22%3A%20%22white%22%2C%20%22markerColor%22%3A%20%22blue%22%2C%20%22prefix%22%3A%20%22glyphicon%22%7D%0A%20%20%20%20%20%20%20%20%20%20%20%20%29%3B%0A%20%20%20%20%20%20%20%20%20%20%20%20marker_42166cee382747e7a19a0a4aae212d04.setIcon%28icon_b7d498dc85d6427b92f0634231bf5596%29%3B%0A%20%20%20%20%20%20%20%20%0A%20%20%20%20%0A%20%20%20%20%20%20%20%20var%20popup_6d52e583a64641ee9acd3e7994c8a035%20%3D%20L.popup%28%7B%22maxWidth%22%3A%20%22100%25%22%7D%29%3B%0A%0A%20%20%20%20%20%20%20%20%0A%20%20%20%20%20%20%20%20%20%20%20%20var%20html_2166687a02a0466db2877004451250ff%20%3D%20%24%28%60%3Cdiv%20id%3D%22html_2166687a02a0466db2877004451250ff%22%20style%3D%22width%3A%20100.0%25%3B%20height%3A%20100.0%25%3B%22%3EPoint%20of%20Interest%3C/div%3E%60%29%5B0%5D%3B%0A%20%20%20%20%20%20%20%20%20%20%20%20popup_6d52e583a64641ee9acd3e7994c8a035.setContent%28html_2166687a02a0466db2877004451250ff%29%3B%0A%20%20%20%20%20%20%20%20%0A%0A%20%20%20%20%20%20%20%20marker_42166cee382747e7a19a0a4aae212d04.bindPopup%28popup_6d52e583a64641ee9acd3e7994c8a035%29%0A%20%20%20%20%20%20%20%20%3B%0A%0A%20%20%20%20%20%20%20%20%0A%20%20%20%20%0A%20%20%20%20%0A%20%20%20%20%20%20%20%20function%20geo_json_b2a42dba372743ef8b0e692c355fbf75_styler%28feature%29%20%7B%0A%20%20%20%20%20%20%20%20%20%20%20%20switch%28feature.id%29%20%7B%0A%20%20%20%20%20%20%20%20%20%20%20%20%20%20%20%20default%3A%0A%20%20%20%20%20%20%20%20%20%20%20%20%20%20%20%20%20%20%20%20return%20%7B%22fillColor%22%3A%20%22grey%22%7D%3B%0A%20%20%20%20%20%20%20%20%20%20%20%20%7D%0A%20%20%20%20%20%20%20%20%7D%0A%0A%20%20%20%20%20%20%20%20function%20geo_json_b2a42dba372743ef8b0e692c355fbf75_onEachFeature%28feature%2C%20layer%29%20%7B%0A%20%20%20%20%20%20%20%20%20%20%20%20layer.on%28%7B%0A%20%20%20%20%20%20%20%20%20%20%20%20%7D%29%3B%0A%20%20%20%20%20%20%20%20%7D%3B%0A%20%20%20%20%20%20%20%20var%20geo_json_b2a42dba372743ef8b0e692c355fbf75%20%3D%20L.geoJson%28null%2C%20%7B%0A%20%20%20%20%20%20%20%20%20%20%20%20%20%20%20%20onEachFeature%3A%20geo_json_b2a42dba372743ef8b0e692c355fbf75_onEachFeature%2C%0A%20%20%20%20%20%20%20%20%20%20%20%20%0A%20%20%20%20%20%20%20%20%20%20%20%20%20%20%20%20style%3A%20geo_json_b2a42dba372743ef8b0e692c355fbf75_styler%2C%0A%20%20%20%20%20%20%20%20%7D%29%3B%0A%0A%20%20%20%20%20%20%20%20function%20geo_json_b2a42dba372743ef8b0e692c355fbf75_add%20%28data%29%20%7B%0A%20%20%20%20%20%20%20%20%20%20%20%20geo_json_b2a42dba372743ef8b0e692c355fbf75%0A%20%20%20%20%20%20%20%20%20%20%20%20%20%20%20%20.addData%28data%29%0A%20%20%20%20%20%20%20%20%20%20%20%20%20%20%20%20.addTo%28map_05dd8a1c3d394ee98ae347245bf45996%29%3B%0A%20%20%20%20%20%20%20%20%7D%0A%20%20%20%20%20%20%20%20%20%20%20%20geo_json_b2a42dba372743ef8b0e692c355fbf75_add%28%7B%22bbox%22%3A%20%5B13.41522290080488%2C%2052.54935067395994%2C%2013.41669709919512%2C%2052.55024932600575%5D%2C%20%22features%22%3A%20%5B%7B%22bbox%22%3A%20%5B13.41522290080488%2C%2052.54935067395994%2C%2013.41669709919512%2C%2052.55024932600575%5D%2C%20%22geometry%22%3A%20%7B%22coordinates%22%3A%20%5B%5B%5B13.41669709919512%2C%2052.54979999770548%5D%2C%20%5B13.41669354912669%2C%2052.54975595607553%5D%2C%20%5B13.41668293460033%2C%2052.54971233863367%5D%2C%20%5B13.41666535786006%2C%2052.54966956543785%5D%2C%20%5B13.41664098819823%2C%2052.54962804841431%5D%2C%20%5B13.41661006032444%2C%2052.54958818739058%5D%2C%20%5B13.41657287210449%2C%2052.54955036624518%5D%2C%20%5B13.4165297816913%2C%2052.5495149492107%5D%2C%20%5B13.41648120407527%2C%2052.54948227736641%5D%2C%20%5B13.41642760708747%2C%2052.54945266535365%5D%2C%20%5B13.4163695068941%2C%2052.54942639834588%5D%2C%20%5B13.41630746302565%2C%2052.54940372930255%5D%2C%20%5B13.41624207298844%2C%2052.54938487653335%5D%2C%20%5B13.41617396651079%2C%2052.54937002159575%5D%2C%20%5B13.41610379947892%2C%2052.5493593075468%5D%2C%20%5B13.41603224762093%2C%2052.54935283756569%5D%2C%20%5B13.41596%2C%2052.54935067395994%5D%2C%20%5B13.41588775237907%2C%2052.54935283756569%5D%2C%20%5B13.41581620052108%2C%2052.5493593075468%5D%2C%20%5B13.4157460334892%2C%2052.54937002159573%5D%2C%20%5B13.41567792701157%2C%2052.54938487653335%5D%2C%20%5B13.41561253697435%2C%2052.54940372930255%5D%2C%20%5B13.41555049310589%2C%2052.54942639834587%5D%2C%20%5B13.41549239291254%2C%2052.54945266535365%5D%2C%20%5B13.41543879592473%2C%2052.54948227736641%5D%2C%20%5B13.41539021830869%2C%2052.54951494921071%5D%2C%20%5B13.41534712789551%2C%2052.54955036624519%5D%2C%20%5B13.41530993967556%2C%2052.54958818739058%5D%2C%20%5B13.41527901180177%2C%2052.54962804841431%5D%2C%20%5B13.41525464213994%2C%2052.54966956543785%5D%2C%20%5B13.41523706539967%2C%2052.54971233863367%5D%2C%20%5B13.41522645087331%2C%2052.54975595607553%5D%2C%20%5B13.41522290080488%2C%2052.54979999770548%5D%2C%20%5B13.41522644940465%2C%2052.5498440393792%5D%2C%20%5B13.41523706251879%2C%2052.54988765695065%5D%2C%20%5B13.41525463795755%2C%2052.54993043035693%5D%2C%20%5B13.4152790064786%2C%2052.54997194766368%5D%2C%20%5B13.41530993341618%2C%2052.5500118090325%5D%2C%20%5B13.41534712094044%2C%2052.55004963057165%5D%2C%20%5B13.41539021092524%2C%2052.55008504803335%5D%2C%20%5B13.41543878839664%2C%2052.55011772032191%5D%2C%20%5B13.41549238552909%2C%2052.55014733277897%5D%2C%20%5B13.41555048615084%2C%2052.55017360021397%5D%2C%20%5B13.41561253071497%2C%2052.55019626965099%5D%2C%20%5B13.4156779216884%2C%2052.55021512276532%5D%2C%20%5B13.41574602930682%2C%2052.55022997798615%5D%2C%20%5B13.41581619764021%2C%2052.55024069224553%5D%2C%20%5B13.41588775091041%2C%2052.55024716235626%5D%2C%20%5B13.41596%2C%2052.55024932600575%5D%2C%20%5B13.41603224908959%2C%2052.55024716235626%5D%2C%20%5B13.41610380235979%2C%2052.55024069224553%5D%2C%20%5B13.41617397069319%2C%2052.55022997798615%5D%2C%20%5B13.4162420783116%2C%2052.55021512276532%5D%2C%20%5B13.41630746928503%2C%2052.550196269651%5D%2C%20%5B13.41636951384916%2C%2052.55017360021397%5D%2C%20%5B13.41642761447091%2C%2052.55014733277897%5D%2C%20%5B13.41648121160336%2C%2052.55011772032191%5D%2C%20%5B13.41652978907475%2C%2052.55008504803335%5D%2C%20%5B13.41657287905956%2C%2052.55004963057165%5D%2C%20%5B13.41661006658382%2C%2052.5500118090325%5D%2C%20%5B13.4166409935214%2C%2052.54997194766369%5D%2C%20%5B13.41666536204245%2C%2052.54993043035693%5D%2C%20%5B13.41668293748121%2C%2052.54988765695066%5D%2C%20%5B13.41669355059535%2C%2052.5498440393792%5D%2C%20%5B13.41669709919512%2C%2052.54979999770548%5D%2C%20%5B13.41669709919512%2C%2052.54979999770548%5D%5D%5D%2C%20%22type%22%3A%20%22Polygon%22%7D%2C%20%22id%22%3A%20%220%22%2C%20%22properties%22%3A%20%7B%7D%2C%20%22type%22%3A%20%22Feature%22%7D%5D%2C%20%22type%22%3A%20%22FeatureCollection%22%7D%29%3B%0A%0A%20%20%20%20%20%20%20%20%0A%20%20%20%20%0A%20%20%20%20%20%20%20%20function%20geo_json_ab6339b75e29490093375fce54ba634b_styler%28feature%29%20%7B%0A%20%20%20%20%20%20%20%20%20%20%20%20switch%28feature.id%29%20%7B%0A%20%20%20%20%20%20%20%20%20%20%20%20%20%20%20%20default%3A%0A%20%20%20%20%20%20%20%20%20%20%20%20%20%20%20%20%20%20%20%20return%20%7B%22color%22%3A%20%22black%22%2C%20%22fillColor%22%3A%20%22black%22%7D%3B%0A%20%20%20%20%20%20%20%20%20%20%20%20%7D%0A%20%20%20%20%20%20%20%20%7D%0A%0A%20%20%20%20%20%20%20%20function%20geo_json_ab6339b75e29490093375fce54ba634b_onEachFeature%28feature%2C%20layer%29%20%7B%0A%20%20%20%20%20%20%20%20%20%20%20%20layer.on%28%7B%0A%20%20%20%20%20%20%20%20%20%20%20%20%7D%29%3B%0A%20%20%20%20%20%20%20%20%7D%3B%0A%20%20%20%20%20%20%20%20var%20geo_json_ab6339b75e29490093375fce54ba634b%20%3D%20L.geoJson%28null%2C%20%7B%0A%20%20%20%20%20%20%20%20%20%20%20%20%20%20%20%20onEachFeature%3A%20geo_json_ab6339b75e29490093375fce54ba634b_onEachFeature%2C%0A%20%20%20%20%20%20%20%20%20%20%20%20%0A%20%20%20%20%20%20%20%20%20%20%20%20%20%20%20%20style%3A%20geo_json_ab6339b75e29490093375fce54ba634b_styler%2C%0A%20%20%20%20%20%20%20%20%7D%29%3B%0A%0A%20%20%20%20%20%20%20%20function%20geo_json_ab6339b75e29490093375fce54ba634b_add%20%28data%29%20%7B%0A%20%20%20%20%20%20%20%20%20%20%20%20geo_json_ab6339b75e29490093375fce54ba634b%0A%20%20%20%20%20%20%20%20%20%20%20%20%20%20%20%20.addData%28data%29%0A%20%20%20%20%20%20%20%20%20%20%20%20%20%20%20%20.addTo%28map_05dd8a1c3d394ee98ae347245bf45996%29%3B%0A%20%20%20%20%20%20%20%20%7D%0A%20%20%20%20%20%20%20%20%20%20%20%20geo_json_ab6339b75e29490093375fce54ba634b_add%28%7B%22bbox%22%3A%20%5B13.4140265%2C%2052.5489158%2C%2013.4168213%2C%2052.5500478%5D%2C%20%22features%22%3A%20%5B%7B%22bbox%22%3A%20%5B13.4140265%2C%2052.5489158%2C%2013.4168213%2C%2052.5500478%5D%2C%20%22geometry%22%3A%20%7B%22coordinates%22%3A%20%5B%5B%5B13.4142461%2C%2052.549155%5D%2C%20%5B13.4140265%2C%2052.5491659%5D%2C%20%5B13.4140414%2C%2052.5492483%5D%2C%20%5B13.4140494%2C%2052.5492926%5D%2C%20%5B13.4141249%2C%2052.5492879%5D%2C%20%5B13.4141628%2C%2052.5493738%5D%2C%20%5B13.4141798%2C%2052.5494197%5D%2C%20%5B13.4141996%2C%2052.5494916%5D%2C%20%5B13.4142034%2C%2052.5495083%5D%2C%20%5B13.4142059%2C%2052.5495197%5D%2C%20%5B13.414213%2C%2052.5495643%5D%2C%20%5B13.4142183%2C%2052.5495978%5D%2C%20%5B13.414223%2C%2052.5496365%5D%2C%20%5B13.4142219%2C%2052.5496895%5D%2C%20%5B13.4142046%2C%2052.549689%5D%2C%20%5B13.4141896%2C%2052.5496899%5D%2C%20%5B13.4141762%2C%2052.5496931%5D%2C%20%5B13.4141589%2C%2052.5496982%5D%2C%20%5B13.4141422%2C%2052.5497063%5D%2C%20%5B13.4141305%2C%2052.549717%5D%2C%20%5B13.4141235%2C%2052.5497307%5D%2C%20%5B13.4141219%2C%2052.5497455%5D%2C%20%5B13.4141249%2C%2052.5497584%5D%2C%20%5B13.4141316%2C%2052.5497707%5D%2C%20%5B13.4141428%2C%2052.5497829%5D%2C%20%5B13.4141534%2C%2052.5497901%5D%2C%20%5B13.4141355%2C%2052.5497917%5D%2C%20%5B13.4141829%2C%2052.5500478%5D%2C%20%5B13.4144494%2C%2052.5500301%5D%2C%20%5B13.4145751%2C%2052.5500208%5D%2C%20%5B13.4146558%2C%2052.5500159%5D%2C%20%5B13.4147744%2C%2052.5500086%5D%2C%20%5B13.4148386%2C%2052.5500045%5D%2C%20%5B13.4148493%2C%2052.5500223%5D%2C%20%5B13.4149279%2C%2052.550004%5D%2C%20%5B13.4150671%2C%2052.5499717%5D%2C%20%5B13.4152888%2C%2052.5499189%5D%2C%20%5B13.4155995%2C%2052.5498487%5D%2C%20%5B13.41554%2C%2052.549759%5D%2C%20%5B13.4157918%2C%2052.5497001%5D%2C%20%5B13.4158595%2C%2052.5497855%5D%2C%20%5B13.4159464%2C%2052.5497654%5D%2C%20%5B13.4161106%2C%2052.5497269%5D%2C%20%5B13.4161705%2C%2052.5497131%5D%2C%20%5B13.4163062%2C%2052.5496804%5D%2C%20%5B13.4163883%2C%2052.549661%5D%2C%20%5B13.4166823%2C%2052.5495683%5D%2C%20%5B13.4168213%2C%2052.5495251%5D%2C%20%5B13.4167059%2C%2052.5493802%5D%2C%20%5B13.4165374%2C%2052.5491687%5D%2C%20%5B13.4163515%2C%2052.5492239%5D%2C%20%5B13.4161%2C%2052.5489158%5D%2C%20%5B13.4152545%2C%2052.5491205%5D%2C%20%5B13.4155084%2C%2052.5494305%5D%2C%20%5B13.4153909%2C%2052.5494545%5D%2C%20%5B13.4150373%2C%2052.549514%5D%2C%20%5B13.4147988%2C%2052.5495487%5D%2C%20%5B13.414424%2C%2052.5495928%5D%2C%20%5B13.4144164%2C%2052.549547%5D%2C%20%5B13.4144105%2C%2052.5495104%5D%2C%20%5B13.4144084%2C%2052.5495008%5D%2C%20%5B13.4143825%2C%2052.5494021%5D%2C%20%5B13.4143791%2C%2052.5493897%5D%2C%20%5B13.4143775%2C%2052.5493853%5D%2C%20%5B13.4143658%2C%2052.5493533%5D%2C%20%5B13.4143248%2C%2052.5492246%5D%2C%20%5B13.41426%2C%2052.5492232%5D%2C%20%5B13.4142461%2C%2052.549155%5D%5D%5D%2C%20%22type%22%3A%20%22Polygon%22%7D%2C%20%22id%22%3A%20%220%22%2C%20%22properties%22%3A%20%7B%7D%2C%20%22type%22%3A%20%22Feature%22%7D%5D%2C%20%22type%22%3A%20%22FeatureCollection%22%7D%29%3B%0A%0A%20%20%20%20%20%20%20%20%0A%3C/script%3E onload=\"this.contentDocument.open();this.contentDocument.write(    decodeURIComponent(this.getAttribute('data-html')));this.contentDocument.close();\" allowfullscreen webkitallowfullscreen mozallowfullscreen></iframe></div></div>"
      ],
      "text/plain": [
       "<folium.folium.Map at 0x7f0b5507df10>"
      ]
     },
     "execution_count": 35,
     "metadata": {},
     "output_type": "execute_result"
    }
   ],
   "source": [
    "import folium\n",
    "from moredata.utils import geodesic_point_buffer\n",
    "from shapely.geometry.polygon import Polygon\n",
    "import geopandas as gpd\n",
    "from util import add_categorical_legend\n",
    "\n",
    "poi = df_enriched.loc[(~df_enriched['geometry_intersected'].isna())][['geometry_intersected', 'latitude', 'longitude']] \\\n",
    "                    .reset_index().iloc[[0]]\n",
    "\n",
    "polygon = wkt.loads(poi['geometry_intersected'][0][0])\n",
    "latitude = poi['latitude'].squeeze()\n",
    "longitude = poi['longitude'].squeeze()\n",
    "\n",
    "shp = Polygon(geodesic_point_buffer(latitude, longitude, 50))\n",
    "\n",
    "m = folium.Map(location=[latitude, longitude], zoom_start=17, tiles='CartoDB positron')\n",
    "folium.Marker(\n",
    "    [latitude, longitude], icon=folium.Icon(color=\"blue\"), popup='Point of Interest'\n",
    ").add_to(m)\n",
    "\n",
    "sim_geo = gpd.GeoSeries.from_wkt([shp.wkt])\n",
    "geo_j = sim_geo.to_json()\n",
    "\n",
    "geo_j = folium.GeoJson(data=geo_j,\n",
    "                        style_function=lambda x: {'fillColor': 'grey'})\n",
    "geo_j.add_to(m)\n",
    "    \n",
    "sim_geo = gpd.GeoSeries(polygon)\n",
    "geo_j = sim_geo.to_json()\n",
    "\n",
    "geo_j = folium.GeoJson(data=geo_j,\n",
    "                       style_function=lambda x: {'fillColor': 'black', 'color': 'black'})\n",
    "geo_j.add_to(m)\n",
    "\n",
    "m = add_categorical_legend(m, 'Polygons',\n",
    "                             colors = ['blue','black'],\n",
    "                           labels = ['Point of Interest', 'Shopping Mall'])\n",
    "\n",
    "m"
   ]
  }
 ],
 "metadata": {
  "kernelspec": {
   "display_name": "Python 3",
   "language": "python",
   "name": "python3"
  },
  "language_info": {
   "codemirror_mode": {
    "name": "ipython",
    "version": 3
   },
   "file_extension": ".py",
   "mimetype": "text/x-python",
   "name": "python",
   "nbconvert_exporter": "python",
   "pygments_lexer": "ipython3",
   "version": "3.8.12"
  }
 },
 "nbformat": 4,
 "nbformat_minor": 1
}
