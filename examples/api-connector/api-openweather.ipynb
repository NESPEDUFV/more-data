{
 "cells": [
  {
   "cell_type": "code",
   "execution_count": 7,
   "metadata": {},
   "outputs": [],
   "source": [
    "import os\n",
    "import sys\n",
    "\n",
    "from moredata.enricher import Enricher\n",
    "from moredata.enricher.api_connector import ApiConnector\n",
    "from moredata.models.data import JsonData\n",
    "from moredata.parser import parse_document\n",
    "from moredata.datasets import get_path\n",
    "import pandas as pd\n",
    "\n",
    "URL_PATTERN = r'https://api.openweathermap.org/data/2.5/weather?lat={lat}&lon={lon}&appid=c31209c22a41b05b438143e854b57c37'\n",
    "PARAMETERS = {\n",
    "  \"fields\": [\n",
    "    {\n",
    "      \"key\": \"lat\",\n",
    "      \"name\": \"latitude\",\n",
    "    }, \n",
    "    {\n",
    "      \"key\": \"lon\",\n",
    "      \"name\": \"longitude\",\n",
    "    }\n",
    "  ]\n",
    "}\n"
   ]
  },
  {
   "cell_type": "code",
   "execution_count": 4,
   "metadata": {},
   "outputs": [],
   "source": [
    "df = pd.read_csv(get_path(\"airbnb-berlin-main\"))\n",
    "df = df.loc[(~df['latitude'].isna()) & (~df['longitude'].isna())]\n",
    "df.iloc[0:100].to_json('./data/airbnb-berlin.json', orient='records')"
   ]
  },
  {
   "cell_type": "code",
   "execution_count": 10,
   "metadata": {},
   "outputs": [],
   "source": [
    "def response_parser(response):\n",
    "    return response['main']\n",
    "\n",
    "airbnb = JsonData(data_file='./data/airbnb-berlin.json', parser=parse_document)\n",
    "\n",
    "api_weather_enricher = Enricher(connector=ApiConnector(response_parser=response_parser, url_pattern=URL_PATTERN, params=PARAMETERS))\n",
    "\n",
    "airbnb_enriched = api_weather_enricher.enrich(airbnb)\n",
    "\n",
    "import moredata.utils as util\n",
    "util.write_json_generator_to_json(\"./data/airbnb-berlin-enriched\", airbnb_enriched, 100000)"
   ]
  },
  {
   "cell_type": "code",
   "execution_count": 11,
   "metadata": {},
   "outputs": [],
   "source": [
    "import pandas as pd\n",
    "df_enriched = pd.read_json('./data/airbnb-berlin-enriched-0.json', orient='records')"
   ]
  },
  {
   "cell_type": "code",
   "execution_count": 12,
   "metadata": {},
   "outputs": [
    {
     "data": {
      "image/png": "[encoded data removed]",
      "text/plain": [
       "<Figure size 432x288 with 1 Axes>"
      ]
     },
     "metadata": {
      "needs_background": "light"
     },
     "output_type": "display_data"
    }
   ],
   "source": [
    "import seaborn\n",
    "import matplotlib.pyplot as plt\n",
    "seaborn.countplot(y='temp', data=df_enriched)\n",
    "plt.show()"
   ]
  },
  {
   "cell_type": "code",
   "execution_count": null,
   "metadata": {},
   "outputs": [],
   "source": []
  }
 ],
 "metadata": {
  "interpreter": {
   "hash": "f18e2bc52b0e49668308c501e6da352854a310f13e4f537f97d4431980d5d987"
  },
  "kernelspec": {
   "display_name": "Python 3.8.11 64-bit ('moredata-dev': conda)",
   "language": "python",
   "name": "python3"
  },
  "language_info": {
   "codemirror_mode": {
    "name": "ipython",
    "version": 3
   },
   "file_extension": ".py",
   "mimetype": "text/x-python",
   "name": "python",
   "nbconvert_exporter": "python",
   "pygments_lexer": "ipython3",
   "version": "3.8.12"
  },
  "orig_nbformat": 4
 },
 "nbformat": 4,
 "nbformat_minor": 2
}
