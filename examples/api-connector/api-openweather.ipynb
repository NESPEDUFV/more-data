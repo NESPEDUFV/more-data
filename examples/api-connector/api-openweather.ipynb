{
 "cells": [
  {
   "cell_type": "code",
   "execution_count": 1,
   "metadata": {},
   "outputs": [
    {
     "name": "stderr",
     "output_type": "stream",
     "text": [
      "/home/thomas/anaconda3/envs/moredata-dev/lib/python3.8/site-packages/geopandas/_compat.py:111: UserWarning: The Shapely GEOS version (3.8.0-CAPI-1.13.1 ) is incompatible with the GEOS version PyGEOS was compiled with (3.10.2-CAPI-1.16.0). Conversions between both will be slow.\n",
      "  warnings.warn(\n"
     ]
    }
   ],
   "source": [
    "import os\n",
    "import sys\n",
    "\n",
    "from moredata.enricher import Enricher\n",
    "from moredata.enricher.api_connector import ApiConnector\n",
    "from moredata.models.data import GeopandasData, JsonData\n",
    "from moredata.parser import parse_document\n",
    "from moredata.datasets import get_path\n",
    "import pandas as pd\n",
    "\n",
    "URL_PATTERN = r'https://api.openweathermap.org/data/2.5/weather?lat={lat}&lon={lon}&appid=c31209c22a41b05b438143e854b57c37'\n",
    "PARAMETERS = {\n",
    "  \"fields\": [\n",
    "    {\n",
    "      \"key\": \"lat\",\n",
    "      \"name\": \"latitude\",\n",
    "    }, \n",
    "    {\n",
    "      \"key\": \"lon\",\n",
    "      \"name\": \"longitude\",\n",
    "    }\n",
    "  ]\n",
    "}\n"
   ]
  },
  {
   "cell_type": "code",
   "execution_count": 3,
   "metadata": {},
   "outputs": [],
   "source": [
    "df = pd.read_csv(get_path(\"airbnb-berlin-main\"))\n",
    "df = df.loc[(~df['latitude'].isna()) & (~df['longitude'].isna())]\n",
    "df.iloc[0:100].to_json('../osm/data/airbnb-berlin.json', orient='records')"
   ]
  },
  {
   "cell_type": "code",
   "execution_count": 2,
   "metadata": {},
   "outputs": [
    {
     "name": "stdout",
     "output_type": "stream",
     "text": [
      "Tempo de execucao: 767.6163918972015\n",
      "% de uso de cpu: 23.4\n",
      "Quantidade de memoria inicial: 2134 MB\n",
      "Quantidade de memoria final: 2106 MB\n",
      "Uso aproximado de memoria -29 MB\n"
     ]
    }
   ],
   "source": [
    "#Desempenho\n",
    "import time\n",
    "import psutil\n",
    "inicio = time.time()\n",
    "psutil.cpu_percent()\n",
    "inicio_mem = psutil.virtual_memory()\n",
    "###########\n",
    "\n",
    "def response_parser(response):\n",
    "    return response['main']\n",
    "\n",
    "sp = JsonData(data_file='../osm/data/1k_preprocessed_events_dates_sp_sample.json', parser=parse_document)\n",
    "\n",
    "api_weather_enricher = Enricher(connector=ApiConnector(response_parser=response_parser, url_pattern=URL_PATTERN, params=PARAMETERS))\n",
    "\n",
    "json_enriched = api_weather_enricher.enrich(sp)\n",
    "\n",
    "import moredata.utils as util\n",
    "util.write_json_generator_to_json(\"./data/1k_datapreprocessed_events_dates_sp_sample\", json_enriched, 100000)\n",
    "\n",
    "#Desempenho\n",
    "cpu_usage = psutil.cpu_percent()\n",
    "fim = time.time()\n",
    "final_mem =psutil.virtual_memory()\n",
    "print(f'Tempo de execucao: {fim - inicio}')\n",
    "print(f'% de uso de cpu: {cpu_usage}')\n",
    "print(f'Quantidade de memoria inicial: {inicio_mem.used >> 20} MB')\n",
    "print(f'Quantidade de memoria final: {final_mem.used >> 20} MB')\n",
    "print(f'Uso aproximado de memoria {final_mem.used - inicio_mem.used >> 20} MB')"
   ]
  },
  {
   "cell_type": "code",
   "execution_count": 2,
   "metadata": {},
   "outputs": [
    {
     "name": "stdout",
     "output_type": "stream",
     "text": [
      "GEOPANDAS DATA\n",
      "FIELD KEY lat\n",
      "FILED NAME latitude\n",
      "ROW FILED NAME -23.66844\n",
      "-23.66844\n",
      "FIELD KEY lon\n",
      "FILED NAME longitude\n",
      "ROW FILED NAME -46.68029\n",
      "-46.68029\n",
      "SELF REPONSE PARSER: {'temp': 298.52, 'feels_like': 298.18, 'temp_min': 296.36, 'temp_max': 299.33, 'pressure': 1022, 'humidity': 41}\n"
     ]
    },
    {
     "ename": "ValueError",
     "evalue": "Incompatible indexer with Series",
     "output_type": "error",
     "traceback": [
      "\u001b[0;31m---------------------------------------------------------------------------\u001b[0m",
      "\u001b[0;31mValueError\u001b[0m                                Traceback (most recent call last)",
      "\u001b[0;32m/tmp/ipykernel_23583/224523881.py\u001b[0m in \u001b[0;36m<module>\u001b[0;34m\u001b[0m\n\u001b[1;32m     20\u001b[0m \u001b[0mapi_weather_enricher\u001b[0m \u001b[0;34m=\u001b[0m \u001b[0mEnricher\u001b[0m\u001b[0;34m(\u001b[0m\u001b[0mconnector\u001b[0m\u001b[0;34m=\u001b[0m\u001b[0mApiConnector\u001b[0m\u001b[0;34m(\u001b[0m\u001b[0mresponse_parser\u001b[0m\u001b[0;34m=\u001b[0m\u001b[0mresponse_parser\u001b[0m\u001b[0;34m,\u001b[0m \u001b[0murl_pattern\u001b[0m\u001b[0;34m=\u001b[0m\u001b[0mURL_PATTERN\u001b[0m\u001b[0;34m,\u001b[0m \u001b[0mparams\u001b[0m\u001b[0;34m=\u001b[0m\u001b[0mPARAMETERS\u001b[0m\u001b[0;34m)\u001b[0m\u001b[0;34m)\u001b[0m\u001b[0;34m\u001b[0m\u001b[0;34m\u001b[0m\u001b[0m\n\u001b[1;32m     21\u001b[0m \u001b[0;34m\u001b[0m\u001b[0m\n\u001b[0;32m---> 22\u001b[0;31m \u001b[0mgeopandas_enriched\u001b[0m \u001b[0;34m=\u001b[0m \u001b[0mapi_weather_enricher\u001b[0m\u001b[0;34m.\u001b[0m\u001b[0menrich\u001b[0m\u001b[0;34m(\u001b[0m\u001b[0msp\u001b[0m\u001b[0;34m)\u001b[0m\u001b[0;34m\u001b[0m\u001b[0;34m\u001b[0m\u001b[0m\n\u001b[0m\u001b[1;32m     23\u001b[0m \u001b[0;34m\u001b[0m\u001b[0m\n\u001b[1;32m     24\u001b[0m \u001b[0;31m#Desempenho\u001b[0m\u001b[0;34m\u001b[0m\u001b[0;34m\u001b[0m\u001b[0;34m\u001b[0m\u001b[0m\n",
      "\u001b[0;32m~/github/more-data/moredata/enricher/enricher.py\u001b[0m in \u001b[0;36menrich\u001b[0;34m(self, data, **kwargs)\u001b[0m\n\u001b[1;32m     48\u001b[0m \u001b[0;34m\u001b[0m\u001b[0m\n\u001b[1;32m     49\u001b[0m         \"\"\"\n\u001b[0;32m---> 50\u001b[0;31m         \u001b[0;32mreturn\u001b[0m \u001b[0mself\u001b[0m\u001b[0;34m.\u001b[0m\u001b[0m_connector\u001b[0m\u001b[0;34m.\u001b[0m\u001b[0menrich\u001b[0m\u001b[0;34m(\u001b[0m\u001b[0mdata\u001b[0m\u001b[0;34m,\u001b[0m \u001b[0;34m**\u001b[0m\u001b[0mkwargs\u001b[0m\u001b[0;34m)\u001b[0m\u001b[0;34m\u001b[0m\u001b[0;34m\u001b[0m\u001b[0m\n\u001b[0m\u001b[1;32m     51\u001b[0m \u001b[0;34m\u001b[0m\u001b[0m\n\u001b[1;32m     52\u001b[0m \u001b[0;34m\u001b[0m\u001b[0m\n",
      "\u001b[0;32m~/github/more-data/moredata/enricher/api_connector/api_connector.py\u001b[0m in \u001b[0;36menrich\u001b[0;34m(self, data, **kwargs)\u001b[0m\n\u001b[1;32m    152\u001b[0m         \u001b[0;32mif\u001b[0m \u001b[0misinstance\u001b[0m\u001b[0;34m(\u001b[0m\u001b[0mdata\u001b[0m\u001b[0;34m,\u001b[0m \u001b[0mGeopandasData\u001b[0m\u001b[0;34m)\u001b[0m\u001b[0;34m:\u001b[0m\u001b[0;34m\u001b[0m\u001b[0;34m\u001b[0m\u001b[0m\n\u001b[1;32m    153\u001b[0m             \u001b[0mprint\u001b[0m\u001b[0;34m(\u001b[0m\u001b[0;34m'GEOPANDAS DATA'\u001b[0m\u001b[0;34m)\u001b[0m\u001b[0;34m\u001b[0m\u001b[0;34m\u001b[0m\u001b[0m\n\u001b[0;32m--> 154\u001b[0;31m             \u001b[0;32mreturn\u001b[0m \u001b[0mself\u001b[0m\u001b[0;34m.\u001b[0m\u001b[0menrichGeoPandasData\u001b[0m\u001b[0;34m(\u001b[0m\u001b[0mdata\u001b[0m\u001b[0;34m.\u001b[0m\u001b[0mdata\u001b[0m\u001b[0;34m)\u001b[0m\u001b[0;34m\u001b[0m\u001b[0;34m\u001b[0m\u001b[0m\n\u001b[0m\u001b[1;32m    155\u001b[0m \u001b[0;34m\u001b[0m\u001b[0m\n\u001b[1;32m    156\u001b[0m         \u001b[0;32melif\u001b[0m \u001b[0misinstance\u001b[0m\u001b[0;34m(\u001b[0m\u001b[0mdata\u001b[0m\u001b[0;34m,\u001b[0m \u001b[0mJsonData\u001b[0m\u001b[0;34m)\u001b[0m\u001b[0;34m:\u001b[0m\u001b[0;34m\u001b[0m\u001b[0;34m\u001b[0m\u001b[0m\n",
      "\u001b[0;32m~/github/more-data/moredata/enricher/api_connector/api_connector.py\u001b[0m in \u001b[0;36menrichGeoPandasData\u001b[0;34m(self, data)\u001b[0m\n\u001b[1;32m    129\u001b[0m                 \u001b[0;31m# row['enriched'] = self.response_parser(self._make_request(url))\u001b[0m\u001b[0;34m\u001b[0m\u001b[0;34m\u001b[0m\u001b[0;34m\u001b[0m\u001b[0m\n\u001b[1;32m    130\u001b[0m \u001b[0;34m\u001b[0m\u001b[0m\n\u001b[0;32m--> 131\u001b[0;31m                 data.iloc[i, 'enriched'] = self.response_parser(\n\u001b[0m\u001b[1;32m    132\u001b[0m                     self._make_request(url))\n\u001b[1;32m    133\u001b[0m                 \u001b[0;31m# print(f'ROW: {row}')\u001b[0m\u001b[0;34m\u001b[0m\u001b[0;34m\u001b[0m\u001b[0;34m\u001b[0m\u001b[0m\n",
      "\u001b[0;32m~/anaconda3/envs/moredata-dev/lib/python3.8/site-packages/pandas/core/indexing.py\u001b[0m in \u001b[0;36m__setitem__\u001b[0;34m(self, key, value)\u001b[0m\n\u001b[1;32m    714\u001b[0m \u001b[0;34m\u001b[0m\u001b[0m\n\u001b[1;32m    715\u001b[0m         \u001b[0miloc\u001b[0m \u001b[0;34m=\u001b[0m \u001b[0mself\u001b[0m \u001b[0;32mif\u001b[0m \u001b[0mself\u001b[0m\u001b[0;34m.\u001b[0m\u001b[0mname\u001b[0m \u001b[0;34m==\u001b[0m \u001b[0;34m\"iloc\"\u001b[0m \u001b[0;32melse\u001b[0m \u001b[0mself\u001b[0m\u001b[0;34m.\u001b[0m\u001b[0mobj\u001b[0m\u001b[0;34m.\u001b[0m\u001b[0miloc\u001b[0m\u001b[0;34m\u001b[0m\u001b[0;34m\u001b[0m\u001b[0m\n\u001b[0;32m--> 716\u001b[0;31m         \u001b[0miloc\u001b[0m\u001b[0;34m.\u001b[0m\u001b[0m_setitem_with_indexer\u001b[0m\u001b[0;34m(\u001b[0m\u001b[0mindexer\u001b[0m\u001b[0;34m,\u001b[0m \u001b[0mvalue\u001b[0m\u001b[0;34m,\u001b[0m \u001b[0mself\u001b[0m\u001b[0;34m.\u001b[0m\u001b[0mname\u001b[0m\u001b[0;34m)\u001b[0m\u001b[0;34m\u001b[0m\u001b[0;34m\u001b[0m\u001b[0m\n\u001b[0m\u001b[1;32m    717\u001b[0m \u001b[0;34m\u001b[0m\u001b[0m\n\u001b[1;32m    718\u001b[0m     \u001b[0;32mdef\u001b[0m \u001b[0m_validate_key\u001b[0m\u001b[0;34m(\u001b[0m\u001b[0mself\u001b[0m\u001b[0;34m,\u001b[0m \u001b[0mkey\u001b[0m\u001b[0;34m,\u001b[0m \u001b[0maxis\u001b[0m\u001b[0;34m:\u001b[0m \u001b[0mint\u001b[0m\u001b[0;34m)\u001b[0m\u001b[0;34m:\u001b[0m\u001b[0;34m\u001b[0m\u001b[0;34m\u001b[0m\u001b[0m\n",
      "\u001b[0;32m~/anaconda3/envs/moredata-dev/lib/python3.8/site-packages/pandas/core/indexing.py\u001b[0m in \u001b[0;36m_setitem_with_indexer\u001b[0;34m(self, indexer, value, name)\u001b[0m\n\u001b[1;32m   1686\u001b[0m         \u001b[0;32mif\u001b[0m \u001b[0mtake_split_path\u001b[0m\u001b[0;34m:\u001b[0m\u001b[0;34m\u001b[0m\u001b[0;34m\u001b[0m\u001b[0m\n\u001b[1;32m   1687\u001b[0m             \u001b[0;31m# We have to operate column-wise\u001b[0m\u001b[0;34m\u001b[0m\u001b[0;34m\u001b[0m\u001b[0;34m\u001b[0m\u001b[0m\n\u001b[0;32m-> 1688\u001b[0;31m             \u001b[0mself\u001b[0m\u001b[0;34m.\u001b[0m\u001b[0m_setitem_with_indexer_split_path\u001b[0m\u001b[0;34m(\u001b[0m\u001b[0mindexer\u001b[0m\u001b[0;34m,\u001b[0m \u001b[0mvalue\u001b[0m\u001b[0;34m,\u001b[0m \u001b[0mname\u001b[0m\u001b[0;34m)\u001b[0m\u001b[0;34m\u001b[0m\u001b[0;34m\u001b[0m\u001b[0m\n\u001b[0m\u001b[1;32m   1689\u001b[0m         \u001b[0;32melse\u001b[0m\u001b[0;34m:\u001b[0m\u001b[0;34m\u001b[0m\u001b[0;34m\u001b[0m\u001b[0m\n\u001b[1;32m   1690\u001b[0m             \u001b[0mself\u001b[0m\u001b[0;34m.\u001b[0m\u001b[0m_setitem_single_block\u001b[0m\u001b[0;34m(\u001b[0m\u001b[0mindexer\u001b[0m\u001b[0;34m,\u001b[0m \u001b[0mvalue\u001b[0m\u001b[0;34m,\u001b[0m \u001b[0mname\u001b[0m\u001b[0;34m)\u001b[0m\u001b[0;34m\u001b[0m\u001b[0;34m\u001b[0m\u001b[0m\n",
      "\u001b[0;32m~/anaconda3/envs/moredata-dev/lib/python3.8/site-packages/pandas/core/indexing.py\u001b[0m in \u001b[0;36m_setitem_with_indexer_split_path\u001b[0;34m(self, indexer, value, name)\u001b[0m\n\u001b[1;32m   1707\u001b[0m             \u001b[0;32mfrom\u001b[0m \u001b[0mpandas\u001b[0m \u001b[0;32mimport\u001b[0m \u001b[0mSeries\u001b[0m\u001b[0;34m\u001b[0m\u001b[0;34m\u001b[0m\u001b[0m\n\u001b[1;32m   1708\u001b[0m \u001b[0;34m\u001b[0m\u001b[0m\n\u001b[0;32m-> 1709\u001b[0;31m             \u001b[0mvalue\u001b[0m \u001b[0;34m=\u001b[0m \u001b[0mself\u001b[0m\u001b[0;34m.\u001b[0m\u001b[0m_align_series\u001b[0m\u001b[0;34m(\u001b[0m\u001b[0mindexer\u001b[0m\u001b[0;34m,\u001b[0m \u001b[0mSeries\u001b[0m\u001b[0;34m(\u001b[0m\u001b[0mvalue\u001b[0m\u001b[0;34m)\u001b[0m\u001b[0;34m)\u001b[0m\u001b[0;34m\u001b[0m\u001b[0;34m\u001b[0m\u001b[0m\n\u001b[0m\u001b[1;32m   1710\u001b[0m \u001b[0;34m\u001b[0m\u001b[0m\n\u001b[1;32m   1711\u001b[0m         \u001b[0;31m# Ensure we have something we can iterate over\u001b[0m\u001b[0;34m\u001b[0m\u001b[0;34m\u001b[0m\u001b[0;34m\u001b[0m\u001b[0m\n",
      "\u001b[0;32m~/anaconda3/envs/moredata-dev/lib/python3.8/site-packages/pandas/core/indexing.py\u001b[0m in \u001b[0;36m_align_series\u001b[0;34m(self, indexer, ser, multiindex_indexer)\u001b[0m\n\u001b[1;32m   2146\u001b[0m             \u001b[0;32mreturn\u001b[0m \u001b[0mser\u001b[0m\u001b[0;34m.\u001b[0m\u001b[0mreindex\u001b[0m\u001b[0;34m(\u001b[0m\u001b[0max\u001b[0m\u001b[0;34m)\u001b[0m\u001b[0;34m.\u001b[0m\u001b[0m_values\u001b[0m\u001b[0;34m\u001b[0m\u001b[0;34m\u001b[0m\u001b[0m\n\u001b[1;32m   2147\u001b[0m \u001b[0;34m\u001b[0m\u001b[0m\n\u001b[0;32m-> 2148\u001b[0;31m         \u001b[0;32mraise\u001b[0m \u001b[0mValueError\u001b[0m\u001b[0;34m(\u001b[0m\u001b[0;34m\"Incompatible indexer with Series\"\u001b[0m\u001b[0;34m)\u001b[0m\u001b[0;34m\u001b[0m\u001b[0;34m\u001b[0m\u001b[0m\n\u001b[0m\u001b[1;32m   2149\u001b[0m \u001b[0;34m\u001b[0m\u001b[0m\n\u001b[1;32m   2150\u001b[0m     \u001b[0;32mdef\u001b[0m \u001b[0m_align_frame\u001b[0m\u001b[0;34m(\u001b[0m\u001b[0mself\u001b[0m\u001b[0;34m,\u001b[0m \u001b[0mindexer\u001b[0m\u001b[0;34m,\u001b[0m \u001b[0mdf\u001b[0m\u001b[0;34m:\u001b[0m \u001b[0mDataFrame\u001b[0m\u001b[0;34m)\u001b[0m\u001b[0;34m:\u001b[0m\u001b[0;34m\u001b[0m\u001b[0;34m\u001b[0m\u001b[0m\n",
      "\u001b[0;31mValueError\u001b[0m: Incompatible indexer with Series"
     ]
    }
   ],
   "source": [
    "#GEOPANDAS\n",
    "\n",
    "#Desempenho\n",
    "import time\n",
    "import psutil\n",
    "inicio = time.time()\n",
    "psutil.cpu_percent()\n",
    "inicio_mem = psutil.virtual_memory()\n",
    "###########\n",
    "\n",
    "def response_parser(response):\n",
    "    return response['main']\n",
    "\n",
    "gdf = pd.read_csv(\"../data/preprocessed_events_dates_sp_sample.csv\")\n",
    "\n",
    "gdf = gdf.loc[(~gdf['latitude'].isna()) & (~gdf['longitude'].isna())]\n",
    "\n",
    "sp = GeopandasData().from_geodataframe(gdf.iloc[0:5])\n",
    "\n",
    "api_weather_enricher = Enricher(connector=ApiConnector(response_parser=response_parser, url_pattern=URL_PATTERN, params=PARAMETERS))\n",
    "\n",
    "geopandas_enriched = api_weather_enricher.enrich(sp)\n",
    "\n",
    "#Desempenho\n",
    "cpu_usage = psutil.cpu_percent()\n",
    "fim = time.time()\n",
    "final_mem =psutil.virtual_memory()\n",
    "\n",
    "print(f'Tempo de execucao: {fim - inicio}')\n",
    "print(f'% de uso de cpu: {cpu_usage}')\n",
    "print(f'Quantidade de memoria inicial: {inicio_mem.used >> 20} MB')\n",
    "print(f'Quantidade de memoria final: {final_mem.used >> 20} MB')\n",
    "print(f'Uso aproximado de memoria {final_mem.used - inicio_mem.used >> 20} MB')"
   ]
  },
  {
   "cell_type": "code",
   "execution_count": 3,
   "metadata": {},
   "outputs": [
    {
     "data": {
      "text/html": [
       "<div>\n",
       "<style scoped>\n",
       "    .dataframe tbody tr th:only-of-type {\n",
       "        vertical-align: middle;\n",
       "    }\n",
       "\n",
       "    .dataframe tbody tr th {\n",
       "        vertical-align: top;\n",
       "    }\n",
       "\n",
       "    .dataframe thead th {\n",
       "        text-align: right;\n",
       "    }\n",
       "</style>\n",
       "<table border=\"1\" class=\"dataframe\">\n",
       "  <thead>\n",
       "    <tr style=\"text-align: right;\">\n",
       "      <th></th>\n",
       "      <th>h3_hash</th>\n",
       "      <th>app_user_id</th>\n",
       "      <th>date_time</th>\n",
       "      <th>cod_municipio</th>\n",
       "      <th>latitude</th>\n",
       "      <th>longitude</th>\n",
       "    </tr>\n",
       "  </thead>\n",
       "  <tbody>\n",
       "    <tr>\n",
       "      <th>0</th>\n",
       "      <td>8aa810008bb7fff</td>\n",
       "      <td>56961170</td>\n",
       "      <td>2021-12-05T11:56:38.000-03:00</td>\n",
       "      <td>3550308</td>\n",
       "      <td>-23.66844</td>\n",
       "      <td>-46.68029</td>\n",
       "    </tr>\n",
       "    <tr>\n",
       "      <th>1</th>\n",
       "      <td>8aa810011737fff</td>\n",
       "      <td>65572294</td>\n",
       "      <td>2021-12-05T16:26:21.000-03:00</td>\n",
       "      <td>3513801</td>\n",
       "      <td>-23.68624</td>\n",
       "      <td>-46.58632</td>\n",
       "    </tr>\n",
       "    <tr>\n",
       "      <th>2</th>\n",
       "      <td>8aa81001c227fff</td>\n",
       "      <td>71044967</td>\n",
       "      <td>2021-12-04T13:28:25.000-03:00</td>\n",
       "      <td>3513801</td>\n",
       "      <td>-23.67265</td>\n",
       "      <td>-46.61749</td>\n",
       "    </tr>\n",
       "    <tr>\n",
       "      <th>3</th>\n",
       "      <td>8aa8100825b7fff</td>\n",
       "      <td>63526401</td>\n",
       "      <td>2021-12-05T10:18:08.000-03:00</td>\n",
       "      <td>3550308</td>\n",
       "      <td>-23.63283</td>\n",
       "      <td>-46.44711</td>\n",
       "    </tr>\n",
       "    <tr>\n",
       "      <th>4</th>\n",
       "      <td>8aa8100912dffff</td>\n",
       "      <td>63796451</td>\n",
       "      <td>2021-12-05T14:35:11.000-03:00</td>\n",
       "      <td>3550308</td>\n",
       "      <td>-23.61167</td>\n",
       "      <td>-46.44392</td>\n",
       "    </tr>\n",
       "    <tr>\n",
       "      <th>5</th>\n",
       "      <td>8aa8100b309ffff</td>\n",
       "      <td>60286966</td>\n",
       "      <td>2021-12-04T18:55:01.000-03:00</td>\n",
       "      <td>3529401</td>\n",
       "      <td>-23.66208</td>\n",
       "      <td>-46.43639</td>\n",
       "    </tr>\n",
       "    <tr>\n",
       "      <th>6</th>\n",
       "      <td>8aa8100cb987fff</td>\n",
       "      <td>56004509</td>\n",
       "      <td>2021-12-04T20:08:13.000-03:00</td>\n",
       "      <td>3550308</td>\n",
       "      <td>-23.50183</td>\n",
       "      <td>-46.67009</td>\n",
       "    </tr>\n",
       "    <tr>\n",
       "      <th>7</th>\n",
       "      <td>8aa810316547fff</td>\n",
       "      <td>61867937</td>\n",
       "      <td>2021-12-04T21:02:53.000-03:00</td>\n",
       "      <td>3510609</td>\n",
       "      <td>-23.54982</td>\n",
       "      <td>-46.83706</td>\n",
       "    </tr>\n",
       "    <tr>\n",
       "      <th>8</th>\n",
       "      <td>8aa81077055ffff</td>\n",
       "      <td>70286220</td>\n",
       "      <td>2021-12-05T14:15:13.000-03:00</td>\n",
       "      <td>3550308</td>\n",
       "      <td>-23.45298</td>\n",
       "      <td>-46.57603</td>\n",
       "    </tr>\n",
       "    <tr>\n",
       "      <th>9</th>\n",
       "      <td>8aa8100d2667fff</td>\n",
       "      <td>64106692</td>\n",
       "      <td>2021-12-05T13:47:26.000-03:00</td>\n",
       "      <td>3550308</td>\n",
       "      <td>-23.53338</td>\n",
       "      <td>-46.54311</td>\n",
       "    </tr>\n",
       "  </tbody>\n",
       "</table>\n",
       "</div>"
      ],
      "text/plain": [
       "           h3_hash  app_user_id                      date_time  cod_municipio  \\\n",
       "0  8aa810008bb7fff     56961170  2021-12-05T11:56:38.000-03:00        3550308   \n",
       "1  8aa810011737fff     65572294  2021-12-05T16:26:21.000-03:00        3513801   \n",
       "2  8aa81001c227fff     71044967  2021-12-04T13:28:25.000-03:00        3513801   \n",
       "3  8aa8100825b7fff     63526401  2021-12-05T10:18:08.000-03:00        3550308   \n",
       "4  8aa8100912dffff     63796451  2021-12-05T14:35:11.000-03:00        3550308   \n",
       "5  8aa8100b309ffff     60286966  2021-12-04T18:55:01.000-03:00        3529401   \n",
       "6  8aa8100cb987fff     56004509  2021-12-04T20:08:13.000-03:00        3550308   \n",
       "7  8aa810316547fff     61867937  2021-12-04T21:02:53.000-03:00        3510609   \n",
       "8  8aa81077055ffff     70286220  2021-12-05T14:15:13.000-03:00        3550308   \n",
       "9  8aa8100d2667fff     64106692  2021-12-05T13:47:26.000-03:00        3550308   \n",
       "\n",
       "   latitude  longitude  \n",
       "0 -23.66844  -46.68029  \n",
       "1 -23.68624  -46.58632  \n",
       "2 -23.67265  -46.61749  \n",
       "3 -23.63283  -46.44711  \n",
       "4 -23.61167  -46.44392  \n",
       "5 -23.66208  -46.43639  \n",
       "6 -23.50183  -46.67009  \n",
       "7 -23.54982  -46.83706  \n",
       "8 -23.45298  -46.57603  \n",
       "9 -23.53338  -46.54311  "
      ]
     },
     "execution_count": 3,
     "metadata": {},
     "output_type": "execute_result"
    }
   ],
   "source": [
    "geopandas_enriched"
   ]
  },
  {
   "cell_type": "code",
   "execution_count": 9,
   "metadata": {},
   "outputs": [],
   "source": [
    "import pandas as pd\n",
    "df_enriched = pd.read_json('./data/1k_datapreprocessed_events_dates_sp_sample-0.json', orient='records')"
   ]
  },
  {
   "cell_type": "code",
   "execution_count": 19,
   "metadata": {},
   "outputs": [
    {
     "data": {
      "image/png": "[encoded data removed]",
      "text/plain": [
       "<Figure size 432x288 with 1 Axes>"
      ]
     },
     "metadata": {
      "needs_background": "light"
     },
     "output_type": "display_data"
    }
   ],
   "source": [
    "import seaborn\n",
    "import matplotlib.pyplot as plt\n",
    "seaborn.countplot(y='temp', data=df_enriched)\n",
    "plt.show()"
   ]
  }
 ],
 "metadata": {
  "kernelspec": {
   "display_name": "Python 3.8.12 ('moredata-dev')",
   "language": "python",
   "name": "python3"
  },
  "language_info": {
   "codemirror_mode": {
    "name": "ipython",
    "version": 3
   },
   "file_extension": ".py",
   "mimetype": "text/x-python",
   "name": "python",
   "nbconvert_exporter": "python",
   "pygments_lexer": "ipython3",
   "version": "3.8.12"
  },
  "orig_nbformat": 4,
  "vscode": {
   "interpreter": {
    "hash": "e10c801975ca4b1d83602f980b420eb9f7bd6505ee187e07ae6e64cd86997e9b"
   }
  }
 },
 "nbformat": 4,
 "nbformat_minor": 2
}
